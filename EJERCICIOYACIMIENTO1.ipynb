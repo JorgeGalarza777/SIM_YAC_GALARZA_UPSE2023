{
  "nbformat": 4,
  "nbformat_minor": 0,
  "metadata": {
    "colab": {
      "provenance": [],
      "authorship_tag": "ABX9TyMJ9QPCpVx2IzJALny2nfzX",
      "include_colab_link": true
    },
    "kernelspec": {
      "name": "python3",
      "display_name": "Python 3"
    },
    "language_info": {
      "name": "python"
    }
  },
  "cells": [
    {
      "cell_type": "markdown",
      "metadata": {
        "id": "view-in-github",
        "colab_type": "text"
      },
      "source": [
        "<a href=\"https://colab.research.google.com/github/JorgeGalarza777/SIM_YAC_GALARZA_UPSE2023/blob/main/EJERCICIOYACIMIENTO1.ipynb\" target=\"_parent\"><img src=\"https://colab.research.google.com/assets/colab-badge.svg\" alt=\"Open In Colab\"/></a>"
      ]
    },
    {
      "cell_type": "code",
      "execution_count": null,
      "metadata": {
        "id": "wjbOhxKf8Tr_"
      },
      "outputs": [],
      "source": [
        "#hola mundo\n"
      ]
    },
    {
      "cell_type": "code",
      "source": [
        "import math\n",
        "math.sin(1)\n",
        "a= lambda x,y: x*y\n"
      ],
      "metadata": {
        "id": "MLwo4cRWKoyD"
      },
      "execution_count": 13,
      "outputs": []
    },
    {
      "cell_type": "code",
      "source": [
        "a(5,6)\n"
      ],
      "metadata": {
        "id": "4Xgke-5-LVuH",
        "outputId": "e7580773-bbc5-4fb3-d960-d6574fde18ef",
        "colab": {
          "base_uri": "https://localhost:8080/"
        }
      },
      "execution_count": 14,
      "outputs": [
        {
          "output_type": "execute_result",
          "data": {
            "text/plain": [
              "30"
            ]
          },
          "metadata": {},
          "execution_count": 14
        }
      ]
    },
    {
      "cell_type": "code",
      "source": [
        "P= lambda a,b,c,d,e: ((a - (2*b) + c)/(d^2))*(e) + b\n",
        "P(0,4000,4000,200,1000)"
      ],
      "metadata": {
        "id": "MJ0sxCC_izPG",
        "outputId": "ace01053-2230-4625-d2f6-235294635eaf",
        "colab": {
          "base_uri": "https://localhost:8080/"
        }
      },
      "execution_count": 2,
      "outputs": [
        {
          "output_type": "execute_result",
          "data": {
            "text/plain": [
              "-15801.980198019803"
            ]
          },
          "metadata": {},
          "execution_count": 2
        }
      ]
    },
    {
      "cell_type": "markdown",
      "source": [
        "import math\n",
        "math.sin(1)"
      ],
      "metadata": {
        "id": "rucmWmEHCzaD"
      }
    },
    {
      "cell_type": "code",
      "source": [
        "import math\n",
        "math.sin(1)\n"
      ],
      "metadata": {
        "id": "UA96hmx0C_qY",
        "outputId": "e37cd59a-5434-42e7-9d02-a5c61714a87b",
        "colab": {
          "base_uri": "https://localhost:8080/"
        }
      },
      "execution_count": null,
      "outputs": [
        {
          "output_type": "execute_result",
          "data": {
            "text/plain": [
              "0.8414709848078965"
            ]
          },
          "metadata": {},
          "execution_count": 1
        }
      ]
    },
    {
      "cell_type": "code",
      "source": [
        "import math\n",
        "math.cos(1)"
      ],
      "metadata": {
        "id": "fc-8OPJJDmvw",
        "outputId": "8ab847d9-6f69-4ba4-c6ad-852474443104",
        "colab": {
          "base_uri": "https://localhost:8080/"
        }
      },
      "execution_count": null,
      "outputs": [
        {
          "output_type": "execute_result",
          "data": {
            "text/plain": [
              "0.5403023058681398"
            ]
          },
          "metadata": {},
          "execution_count": 2
        }
      ]
    },
    {
      "cell_type": "code",
      "source": [
        "def sumen(a,b,c):\n",
        "  return a+b-c-100"
      ],
      "metadata": {
        "id": "DqS2JKoYEFzb"
      },
      "execution_count": null,
      "outputs": []
    },
    {
      "cell_type": "code",
      "source": [
        "f = lambda x: x+2"
      ],
      "metadata": {
        "id": "y6X4cR74EtMz"
      },
      "execution_count": null,
      "outputs": []
    },
    {
      "cell_type": "code",
      "source": [
        "f (2)"
      ],
      "metadata": {
        "id": "9PD66VWwE2VQ",
        "outputId": "96a3a712-48b5-4e92-a5a7-29efa8a1b089",
        "colab": {
          "base_uri": "https://localhost:8080/"
        }
      },
      "execution_count": null,
      "outputs": [
        {
          "output_type": "execute_result",
          "data": {
            "text/plain": [
              "4"
            ]
          },
          "metadata": {},
          "execution_count": 7
        }
      ]
    },
    {
      "cell_type": "code",
      "source": [
        "def suma(x,y):\n",
        "  return x*y"
      ],
      "metadata": {
        "id": "NeNQgQHAFqkA"
      },
      "execution_count": null,
      "outputs": []
    },
    {
      "cell_type": "code",
      "source": [
        "suma(5,8)"
      ],
      "metadata": {
        "id": "l5pK0dkuIU2B",
        "outputId": "c61db453-0824-440d-a6b7-cb4915f3af7c",
        "colab": {
          "base_uri": "https://localhost:8080/"
        }
      },
      "execution_count": null,
      "outputs": [
        {
          "output_type": "execute_result",
          "data": {
            "text/plain": [
              "40"
            ]
          },
          "metadata": {},
          "execution_count": 9
        }
      ]
    }
  ]
}