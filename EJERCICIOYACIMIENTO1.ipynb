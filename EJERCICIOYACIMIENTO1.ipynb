{
  "nbformat": 4,
  "nbformat_minor": 0,
  "metadata": {
    "colab": {
      "provenance": [],
      "authorship_tag": "ABX9TyMbxj3Ng+phr3zF4HWP0SQL",
      "include_colab_link": true
    },
    "kernelspec": {
      "name": "python3",
      "display_name": "Python 3"
    },
    "language_info": {
      "name": "python"
    }
  },
  "cells": [
    {
      "cell_type": "markdown",
      "metadata": {
        "id": "view-in-github",
        "colab_type": "text"
      },
      "source": [
        "<a href=\"https://colab.research.google.com/github/JorgeGalarza777/SIM_YAC_GALARZA_UPSE2023/blob/main/EJERCICIOYACIMIENTO1.ipynb\" target=\"_parent\"><img src=\"https://colab.research.google.com/assets/colab-badge.svg\" alt=\"Open In Colab\"/></a>"
      ]
    },
    {
      "cell_type": "code",
      "execution_count": null,
      "metadata": {
        "id": "wjbOhxKf8Tr_"
      },
      "outputs": [],
      "source": [
        "#hola mundo\n"
      ]
    },
    {
      "cell_type": "code",
      "source": [
        "import math\n",
        "math.sin(1)\n",
        "a= lambda x,y: x*y\n"
      ],
      "metadata": {
        "id": "MLwo4cRWKoyD"
      },
      "execution_count": null,
      "outputs": []
    },
    {
      "cell_type": "code",
      "source": [
        "a(5,6)\n"
      ],
      "metadata": {
        "colab": {
          "base_uri": "https://localhost:8080/"
        },
        "id": "4Xgke-5-LVuH",
        "outputId": "e7580773-bbc5-4fb3-d960-d6574fde18ef"
      },
      "execution_count": null,
      "outputs": [
        {
          "output_type": "execute_result",
          "data": {
            "text/plain": [
              "30"
            ]
          },
          "metadata": {},
          "execution_count": 14
        }
      ]
    },
    {
      "cell_type": "code",
      "source": [
        "P= lambda a,b,c,d,e: ((a - (2*b) + c)/(d^2))*(e) + b\n",
        "P(0,4000,4000,200,1000)"
      ],
      "metadata": {
        "colab": {
          "base_uri": "https://localhost:8080/"
        },
        "id": "MJ0sxCC_izPG",
        "outputId": "ace01053-2230-4625-d2f6-235294635eaf"
      },
      "execution_count": null,
      "outputs": [
        {
          "output_type": "execute_result",
          "data": {
            "text/plain": [
              "-15801.980198019803"
            ]
          },
          "metadata": {},
          "execution_count": 2
        }
      ]
    },
    {
      "cell_type": "markdown",
      "source": [
        "**ECUACIÓN DE LA DIFUSIVIDAD**"
      ],
      "metadata": {
        "id": "RtFUl6ALt7_E"
      }
    },
    {
      "cell_type": "code",
      "source": [
        "P= [0, 4000, 4000, 4000, 4000, 0]\n",
        "Nodos=len(P)\n",
        "Nodos2=[0,1,2,3,4,5]\n",
        "Tiempo=2000\n",
        "DT=100\n",
        "dx=200\n",
        "#iniciamos\n",
        "t=DT\n",
        "Pin=P\n",
        "Pin2=Pin #Resultado\n",
        "Pdt=[0,0,0,0,0,0]\n",
        "import numpy as np\n"
      ],
      "metadata": {
        "id": "1JFYA1Sxmjsg"
      },
      "execution_count": 33,
      "outputs": []
    },
    {
      "cell_type": "code",
      "source": [
        "def Presdt(P1,P2,P3,deltat,deltax):\n",
        "  return(((P1-2*P2+P3)/(deltax*deltax))*deltat)+P2"
      ],
      "metadata": {
        "id": "WR4E9-NLuOW2"
      },
      "execution_count": 34,
      "outputs": []
    },
    {
      "cell_type": "code",
      "source": [
        "Presdt(P[0],P[1],P[2],DT,dx)"
      ],
      "metadata": {
        "id": "B28jTiUF5OWR",
        "outputId": "7d0b6e52-e84a-4790-d32d-09ff29256f98",
        "colab": {
          "base_uri": "https://localhost:8080/"
        }
      },
      "execution_count": 35,
      "outputs": [
        {
          "output_type": "execute_result",
          "data": {
            "text/plain": [
              "3990.0"
            ]
          },
          "metadata": {},
          "execution_count": 35
        }
      ]
    },
    {
      "cell_type": "code",
      "source": [
        "while t<Tiempo:\n",
        "    for i in (Nodos2):\n",
        "      if i==0:\n",
        "        Pdt[i]=P[0]\n",
        "      elif i==len(Nodos2)-1:\n",
        "        Pdt[i]=P[len(Nodos2)-1]\n",
        "      else:\n",
        "        Pdt[i]=Presdt(Pin[i-1],Pin[i],Pin[i+1],DT,dx)\n",
        "    t=t+DT\n",
        "    Pdt=Pin\n",
        "    Pin2=np.append(Pin2,Pdt)"
      ],
      "metadata": {
        "id": "lp-9DgOwvh7F"
      },
      "execution_count": 36,
      "outputs": []
    },
    {
      "cell_type": "code",
      "source": [
        "print (Pin2)"
      ],
      "metadata": {
        "id": "pOg1pDZH7oyX",
        "outputId": "de77e890-15fd-4ec8-bd20-3d890c655a30",
        "colab": {
          "base_uri": "https://localhost:8080/"
        }
      },
      "execution_count": 37,
      "outputs": [
        {
          "output_type": "stream",
          "name": "stdout",
          "text": [
            "[   0.         4000.         4000.         4000.         4000.\n",
            "    0.            0.         4000.         4000.         4000.\n",
            " 4000.            0.            0.         3990.         3999.975\n",
            " 3999.9999375  3989.99999984    0.            0.         3980.0499375\n",
            " 3999.92524969 3999.97475094 3980.04993672    0.            0.\n",
            " 3970.14950094 3999.85093407 3999.92462936 3970.14949861    0.\n",
            "    0.         3960.29838077 3999.75223692 3999.84976055 3960.29837552\n",
            "    0.            0.         3950.49626946 3999.62934081 3999.75033104\n",
            " 3950.49625947    0.            0.         3940.74286146 3999.48242709\n",
            " 3999.6265261  3940.74284449    0.            0.         3931.03785322\n",
            " 3999.3116759  3999.47852977 3931.03782659    0.            0.\n",
            " 3921.38094314 3999.11726621 3999.30652485 3921.38090377    0.\n",
            "    0.         3911.77183159 3998.89937577 3999.11069293 3911.77177598\n",
            "    0.            0.         3902.21022088 3998.65818117 3998.89121436\n",
            " 3902.21014514    0.            0.         3892.69581522 3998.39385784\n",
            " 3998.64826829 3892.69571508    0.            0.         3883.22832079\n",
            " 3998.10658002 3998.38203269 3883.22819159    0.            0.\n",
            " 3873.80744564 3997.79652082 3998.09268431 3873.80728234    0.\n",
            "    0.         3864.43289971 3997.46385218 3997.78039872 3864.43269693\n",
            "    0.            0.         3855.10439484 3997.1087449  3997.44535033\n",
            " 3855.10414682    0.            0.         3845.82164473 3996.73136866\n",
            " 3997.08771237 3845.82134537    0.            0.         3836.58436493\n",
            " 3996.33189201 3996.7076569  3836.58400778    0.            0.\n",
            " 3827.39227284 3995.91048238 3996.30535484 3827.39185113    0.        ]\n"
          ]
        }
      ]
    },
    {
      "cell_type": "markdown",
      "source": [
        "**NUEVO EJEMPLO DE ECUACIÓN DE DIFUSIVIDAD**"
      ],
      "metadata": {
        "id": "zjQiwRJ4MwyY"
      }
    },
    {
      "cell_type": "code",
      "source": [
        "import numpy as np\n",
        "L=2000 #distancia total\n",
        "dx=200 #deltax\n",
        "Distance=np.arange(0,L+1,dx) #Crear un vector de las distancias\n",
        "P01=np.ones_like(Distance)\n",
        "print (P01)\n"
      ],
      "metadata": {
        "id": "j7Yl_J32M2nI",
        "outputId": "fc1f28d9-24e5-4eca-9990-1d0f83b5819a",
        "colab": {
          "base_uri": "https://localhost:8080/"
        }
      },
      "execution_count": 40,
      "outputs": [
        {
          "output_type": "stream",
          "name": "stdout",
          "text": [
            "[1 1 1 1 1 1 1 1 1 1 1]\n"
          ]
        }
      ]
    },
    {
      "cell_type": "code",
      "source": [
        "PYac=4000\n",
        "PFrontd=0 #Frontera Derecha\n",
        "PFronti=0 #Frontera Izquierda\n",
        "Tiempo=100\n",
        "DT=10\n",
        "Pdt=np.zeros_like(Distance)"
      ],
      "metadata": {
        "id": "NBb6hgzZPd7H"
      },
      "execution_count": 44,
      "outputs": []
    },
    {
      "cell_type": "code",
      "source": [
        "P01=np.ones_like(Distance)\n",
        "P01=P01*PYac\n",
        "P01[0]=PFronti\n",
        "P01[len(P01)-1]=PFrontd\n",
        "P0in=P01 #Condicion inicial\n",
        "Pdt=P01 #Vector de resultados DT\n",
        "t=DT #Primera interaccion"
      ],
      "metadata": {
        "id": "f_i6uH8iNnMH"
      },
      "execution_count": 45,
      "outputs": []
    },
    {
      "cell_type": "code",
      "source": [
        "print (P01)"
      ],
      "metadata": {
        "id": "iEw-mgRSQaWP",
        "outputId": "fae7663c-416a-44b2-c236-deef88b72640",
        "colab": {
          "base_uri": "https://localhost:8080/"
        }
      },
      "execution_count": 46,
      "outputs": [
        {
          "output_type": "stream",
          "name": "stdout",
          "text": [
            "[   0 4000 4000 4000 4000 4000 4000 4000 4000 4000    0]\n"
          ]
        }
      ]
    },
    {
      "cell_type": "code",
      "source": [
        "def Presdt(P1,P2,P3,deltat,deltax):\n",
        "  return(((P1-2*P2+P3)/(deltax*deltax))*deltat)+P2"
      ],
      "metadata": {
        "id": "ktLX3xExQkV3"
      },
      "execution_count": 47,
      "outputs": []
    },
    {
      "cell_type": "code",
      "source": [
        "while t<Tiempo:\n",
        "    for i in range(0,len(P0in)-1):\n",
        "      if i==0:\n",
        "        Pdt[i]=P0in[0]\n",
        "      elif i==len(P0in)-1:\n",
        "        Pdt[i]=P0in[len(P0in)-1]\n",
        "      else:\n",
        "        Pdt[i]=Presdt(P0in[i-1],P0in[i],P0in[i+1],DT,dx)\n",
        "    t=t+DT\n",
        "    P0in=Pdt\n",
        "    P01=np.append(P01,Pdt)"
      ],
      "metadata": {
        "id": "yyEQrBfcQqmF"
      },
      "execution_count": 48,
      "outputs": []
    },
    {
      "cell_type": "code",
      "source": [
        "print (P01)"
      ],
      "metadata": {
        "id": "QbNiPRmIRTdG",
        "outputId": "49a25765-6b09-47ec-a543-e88deea2f810",
        "colab": {
          "base_uri": "https://localhost:8080/"
        }
      },
      "execution_count": 49,
      "outputs": [
        {
          "output_type": "stream",
          "name": "stdout",
          "text": [
            "[   0 3999 3999 3999 3999 3999 3999 3999 3999 3998    0    0 3999 3999\n",
            " 3999 3999 3999 3999 3999 3999 3998    0    0 3998 3998 3998 3998 3998\n",
            " 3998 3998 3998 3997    0    0 3997 3997 3997 3997 3997 3997 3997 3997\n",
            " 3996    0    0 3996 3996 3996 3996 3996 3996 3996 3996 3995    0    0\n",
            " 3995 3995 3995 3995 3995 3995 3995 3995 3994    0    0 3994 3994 3994\n",
            " 3994 3994 3994 3994 3994 3993    0    0 3993 3993 3993 3993 3993 3993\n",
            " 3993 3993 3992    0    0 3992 3992 3992 3992 3992 3992 3992 3992 3991\n",
            "    0    0 3991 3991 3991 3991 3991 3991 3991 3991 3990    0]\n"
          ]
        }
      ]
    },
    {
      "cell_type": "markdown",
      "source": [
        "import math\n",
        "math.sin(1)"
      ],
      "metadata": {
        "id": "rucmWmEHCzaD"
      }
    },
    {
      "cell_type": "code",
      "source": [
        "import math\n",
        "math.sin(1)\n"
      ],
      "metadata": {
        "id": "UA96hmx0C_qY",
        "outputId": "e37cd59a-5434-42e7-9d02-a5c61714a87b",
        "colab": {
          "base_uri": "https://localhost:8080/"
        }
      },
      "execution_count": null,
      "outputs": [
        {
          "output_type": "execute_result",
          "data": {
            "text/plain": [
              "0.8414709848078965"
            ]
          },
          "metadata": {},
          "execution_count": 1
        }
      ]
    },
    {
      "cell_type": "code",
      "source": [
        "import math\n",
        "math.cos(1)"
      ],
      "metadata": {
        "id": "fc-8OPJJDmvw",
        "outputId": "8ab847d9-6f69-4ba4-c6ad-852474443104",
        "colab": {
          "base_uri": "https://localhost:8080/"
        }
      },
      "execution_count": null,
      "outputs": [
        {
          "output_type": "execute_result",
          "data": {
            "text/plain": [
              "0.5403023058681398"
            ]
          },
          "metadata": {},
          "execution_count": 2
        }
      ]
    },
    {
      "cell_type": "code",
      "source": [
        "def sumen(a,b,c):\n",
        "  return a+b-c-100"
      ],
      "metadata": {
        "id": "DqS2JKoYEFzb"
      },
      "execution_count": null,
      "outputs": []
    },
    {
      "cell_type": "code",
      "source": [
        "f = lambda x: x+2"
      ],
      "metadata": {
        "id": "y6X4cR74EtMz"
      },
      "execution_count": null,
      "outputs": []
    },
    {
      "cell_type": "code",
      "source": [
        "f (2)"
      ],
      "metadata": {
        "id": "9PD66VWwE2VQ",
        "outputId": "96a3a712-48b5-4e92-a5a7-29efa8a1b089",
        "colab": {
          "base_uri": "https://localhost:8080/"
        }
      },
      "execution_count": null,
      "outputs": [
        {
          "output_type": "execute_result",
          "data": {
            "text/plain": [
              "4"
            ]
          },
          "metadata": {},
          "execution_count": 7
        }
      ]
    },
    {
      "cell_type": "code",
      "source": [
        "def suma(x,y):\n",
        "  return x*y"
      ],
      "metadata": {
        "id": "NeNQgQHAFqkA"
      },
      "execution_count": null,
      "outputs": []
    },
    {
      "cell_type": "code",
      "source": [
        "suma(5,8)"
      ],
      "metadata": {
        "id": "l5pK0dkuIU2B",
        "outputId": "c61db453-0824-440d-a6b7-cb4915f3af7c",
        "colab": {
          "base_uri": "https://localhost:8080/"
        }
      },
      "execution_count": null,
      "outputs": [
        {
          "output_type": "execute_result",
          "data": {
            "text/plain": [
              "40"
            ]
          },
          "metadata": {},
          "execution_count": 9
        }
      ]
    }
  ]
}