{
  "nbformat": 4,
  "nbformat_minor": 0,
  "metadata": {
    "colab": {
      "provenance": [],
      "authorship_tag": "ABX9TyPSxK0Xk/BjnWvSyueUnPnk",
      "include_colab_link": true
    },
    "kernelspec": {
      "name": "python3",
      "display_name": "Python 3"
    },
    "language_info": {
      "name": "python"
    }
  },
  "cells": [
    {
      "cell_type": "markdown",
      "metadata": {
        "id": "view-in-github",
        "colab_type": "text"
      },
      "source": [
        "<a href=\"https://colab.research.google.com/github/JorgeGalarza777/SIM_YAC_GALARZA_UPSE2023/blob/main/EJERCICIOYACIMIENTO1.ipynb\" target=\"_parent\"><img src=\"https://colab.research.google.com/assets/colab-badge.svg\" alt=\"Open In Colab\"/></a>"
      ]
    },
    {
      "cell_type": "code",
      "execution_count": null,
      "metadata": {
        "id": "wjbOhxKf8Tr_"
      },
      "outputs": [],
      "source": [
        "#hola mundo\n"
      ]
    },
    {
      "cell_type": "code",
      "source": [
        "import math\n",
        "math.sin(1)\n",
        "a= lambda x,y: x*y\n"
      ],
      "metadata": {
        "id": "MLwo4cRWKoyD"
      },
      "execution_count": null,
      "outputs": []
    },
    {
      "cell_type": "code",
      "source": [
        "a(5,6)\n"
      ],
      "metadata": {
        "colab": {
          "base_uri": "https://localhost:8080/"
        },
        "id": "4Xgke-5-LVuH",
        "outputId": "e7580773-bbc5-4fb3-d960-d6574fde18ef"
      },
      "execution_count": null,
      "outputs": [
        {
          "output_type": "execute_result",
          "data": {
            "text/plain": [
              "30"
            ]
          },
          "metadata": {},
          "execution_count": 14
        }
      ]
    },
    {
      "cell_type": "code",
      "source": [
        "P= lambda a,b,c,d,e: ((a - (2*b) + c)/(d^2))*(e) + b\n",
        "P(0,4000,4000,200,1000)"
      ],
      "metadata": {
        "colab": {
          "base_uri": "https://localhost:8080/"
        },
        "id": "MJ0sxCC_izPG",
        "outputId": "ace01053-2230-4625-d2f6-235294635eaf"
      },
      "execution_count": null,
      "outputs": [
        {
          "output_type": "execute_result",
          "data": {
            "text/plain": [
              "-15801.980198019803"
            ]
          },
          "metadata": {},
          "execution_count": 2
        }
      ]
    },
    {
      "cell_type": "markdown",
      "source": [
        "**ECUACIÓN DE LA DIFUSIVIDAD**"
      ],
      "metadata": {
        "id": "RtFUl6ALt7_E"
      }
    },
    {
      "cell_type": "code",
      "source": [
        "P= [0, 4000, 4000, 4000, 0]\n",
        "Nodos=len(P)\n",
        "Nodos2=[0,1,2,3,4]\n",
        "Tiempo=2000\n",
        "DT=100\n",
        "dx=200\n",
        "#iniciamos\n",
        "t=DT\n",
        "Pin=P\n",
        "Pin2=Pin #Resultado\n",
        "Pdt=[0,0,0,0,0]\n",
        "import numpy as np\n"
      ],
      "metadata": {
        "id": "1JFYA1Sxmjsg"
      },
      "execution_count": 29,
      "outputs": []
    },
    {
      "cell_type": "code",
      "source": [
        "def Presdt(P1,P2,P3,deltat,deltax):\n",
        "  return(((P1-2*P2+P3)/(deltax*deltax))*deltat)+P2"
      ],
      "metadata": {
        "id": "WR4E9-NLuOW2"
      },
      "execution_count": 30,
      "outputs": []
    },
    {
      "cell_type": "code",
      "source": [
        "Presdt(P[0],P[1],P[2],DT,dx)"
      ],
      "metadata": {
        "id": "B28jTiUF5OWR",
        "outputId": "fb5709cb-7564-49a9-e113-898cdec928d4",
        "colab": {
          "base_uri": "https://localhost:8080/"
        }
      },
      "execution_count": null,
      "outputs": [
        {
          "output_type": "execute_result",
          "data": {
            "text/plain": [
              "3999.0"
            ]
          },
          "metadata": {},
          "execution_count": 24
        }
      ]
    },
    {
      "cell_type": "code",
      "source": [
        "while t<Tiempo:\n",
        "    for i in (Nodos2):\n",
        "      if i==0:\n",
        "        Pdt[i]=P[0]\n",
        "      elif i==len(Nodos2)-1:\n",
        "        Pdt[i]=P[len(Nodos2)-1]\n",
        "      else:\n",
        "        Pdt[i]=Presdt(Pin[i-1],Pin[i],Pin[i+1],DT,dx)\n",
        "    t=t+DT\n",
        "    Pdt=Pin\n",
        "    Pin2=np.append(Pin2,Pdt)"
      ],
      "metadata": {
        "id": "lp-9DgOwvh7F"
      },
      "execution_count": 31,
      "outputs": []
    },
    {
      "cell_type": "code",
      "source": [
        "print (Pin2)"
      ],
      "metadata": {
        "id": "pOg1pDZH7oyX",
        "outputId": "11276e59-ccc5-4cdc-9e3b-075b952bf462",
        "colab": {
          "base_uri": "https://localhost:8080/"
        }
      },
      "execution_count": 32,
      "outputs": [
        {
          "output_type": "stream",
          "name": "stdout",
          "text": [
            "[   0.         4000.         4000.         4000.            0.\n",
            "    0.         4000.         4000.         4000.            0.\n",
            "    0.         3990.         3999.975      3989.9999375     0.\n",
            "    0.         3980.0499375  3999.90024969 3980.04968844    0.\n",
            "    0.         3970.14943844 3999.77624626 3970.14888061    0.\n",
            "    0.         3960.29813186 3999.60348256 3960.29714491    0.\n",
            "    0.         3950.49564991 3999.38244713 3950.49411531    0.\n",
            "    0.         3940.74162778 3999.11362425 3940.73942879    0.\n",
            "    0.         3931.0357037  3998.79749396 3931.03272538    0.\n",
            "    0.         3921.37751891 3998.4345321  3921.37364809    0.\n",
            "    0.         3911.76671765 3998.02521036 3911.76184287    0.\n",
            "    0.         3902.20294709 3997.56999628 3902.19695865    0.\n",
            "    0.         3892.68585734 3997.06935334 3892.67864724    0.\n",
            "    0.         3883.21510144 3996.52374094 3883.20656335    0.\n",
            "    0.         3873.79033528 3995.93361449 3873.78036457    0.\n",
            "    0.         3864.41121764 3995.29942537 3864.39971131    0.\n",
            "    0.         3855.07741012 3994.62162105 3855.06426681    0.\n",
            "    0.         3845.78857712 3993.90064505 3845.77369709    0.\n",
            "    0.         3836.54438585 3993.13693703 3836.52767095    0.\n",
            "    0.         3827.34450626 3992.33093279 3827.32585992    0.        ]\n"
          ]
        }
      ]
    },
    {
      "cell_type": "markdown",
      "source": [
        "import math\n",
        "math.sin(1)"
      ],
      "metadata": {
        "id": "rucmWmEHCzaD"
      }
    },
    {
      "cell_type": "code",
      "source": [
        "import math\n",
        "math.sin(1)\n"
      ],
      "metadata": {
        "id": "UA96hmx0C_qY",
        "outputId": "e37cd59a-5434-42e7-9d02-a5c61714a87b",
        "colab": {
          "base_uri": "https://localhost:8080/"
        }
      },
      "execution_count": null,
      "outputs": [
        {
          "output_type": "execute_result",
          "data": {
            "text/plain": [
              "0.8414709848078965"
            ]
          },
          "metadata": {},
          "execution_count": 1
        }
      ]
    },
    {
      "cell_type": "code",
      "source": [
        "import math\n",
        "math.cos(1)"
      ],
      "metadata": {
        "id": "fc-8OPJJDmvw",
        "outputId": "8ab847d9-6f69-4ba4-c6ad-852474443104",
        "colab": {
          "base_uri": "https://localhost:8080/"
        }
      },
      "execution_count": null,
      "outputs": [
        {
          "output_type": "execute_result",
          "data": {
            "text/plain": [
              "0.5403023058681398"
            ]
          },
          "metadata": {},
          "execution_count": 2
        }
      ]
    },
    {
      "cell_type": "code",
      "source": [
        "def sumen(a,b,c):\n",
        "  return a+b-c-100"
      ],
      "metadata": {
        "id": "DqS2JKoYEFzb"
      },
      "execution_count": null,
      "outputs": []
    },
    {
      "cell_type": "code",
      "source": [
        "f = lambda x: x+2"
      ],
      "metadata": {
        "id": "y6X4cR74EtMz"
      },
      "execution_count": null,
      "outputs": []
    },
    {
      "cell_type": "code",
      "source": [
        "f (2)"
      ],
      "metadata": {
        "id": "9PD66VWwE2VQ",
        "outputId": "96a3a712-48b5-4e92-a5a7-29efa8a1b089",
        "colab": {
          "base_uri": "https://localhost:8080/"
        }
      },
      "execution_count": null,
      "outputs": [
        {
          "output_type": "execute_result",
          "data": {
            "text/plain": [
              "4"
            ]
          },
          "metadata": {},
          "execution_count": 7
        }
      ]
    },
    {
      "cell_type": "code",
      "source": [
        "def suma(x,y):\n",
        "  return x*y"
      ],
      "metadata": {
        "id": "NeNQgQHAFqkA"
      },
      "execution_count": null,
      "outputs": []
    },
    {
      "cell_type": "code",
      "source": [
        "suma(5,8)"
      ],
      "metadata": {
        "id": "l5pK0dkuIU2B",
        "outputId": "c61db453-0824-440d-a6b7-cb4915f3af7c",
        "colab": {
          "base_uri": "https://localhost:8080/"
        }
      },
      "execution_count": null,
      "outputs": [
        {
          "output_type": "execute_result",
          "data": {
            "text/plain": [
              "40"
            ]
          },
          "metadata": {},
          "execution_count": 9
        }
      ]
    }
  ]
}