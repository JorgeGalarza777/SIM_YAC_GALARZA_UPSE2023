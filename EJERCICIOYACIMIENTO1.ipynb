{
  "nbformat": 4,
  "nbformat_minor": 0,
  "metadata": {
    "colab": {
      "provenance": [],
      "authorship_tag": "ABX9TyOqJyfxq5Wr9iajDhqQaENk",
      "include_colab_link": true
    },
    "kernelspec": {
      "name": "python3",
      "display_name": "Python 3"
    },
    "language_info": {
      "name": "python"
    }
  },
  "cells": [
    {
      "cell_type": "markdown",
      "metadata": {
        "id": "view-in-github",
        "colab_type": "text"
      },
      "source": [
        "<a href=\"https://colab.research.google.com/github/JorgeGalarza777/SIM_YAC_GALARZA_UPSE2023/blob/main/EJERCICIOYACIMIENTO1.ipynb\" target=\"_parent\"><img src=\"https://colab.research.google.com/assets/colab-badge.svg\" alt=\"Open In Colab\"/></a>"
      ]
    },
    {
      "cell_type": "code",
      "execution_count": 1,
      "metadata": {
        "id": "wjbOhxKf8Tr_"
      },
      "outputs": [],
      "source": [
        "#hola mundo\n"
      ]
    },
    {
      "cell_type": "code",
      "source": [
        "P= lambda a,b,c,d,e: ((a - (2*b) + c)/(d^2))*(e) + b\n",
        "P(0,4000,4000,200,1000)"
      ],
      "metadata": {
        "colab": {
          "base_uri": "https://localhost:8080/"
        },
        "id": "MJ0sxCC_izPG",
        "outputId": "bb3afd25-a19b-414c-a429-9cb0c2eab4c5"
      },
      "execution_count": 2,
      "outputs": [
        {
          "output_type": "execute_result",
          "data": {
            "text/plain": [
              "-15801.980198019803"
            ]
          },
          "metadata": {},
          "execution_count": 2
        }
      ]
    },
    {
      "cell_type": "markdown",
      "source": [
        "**ECUACIÓN DE LA DIFUSIVIDAD**"
      ],
      "metadata": {
        "id": "RtFUl6ALt7_E"
      }
    },
    {
      "cell_type": "code",
      "source": [
        "P= [0, 4000, 4000, 4000, 0]\n",
        "Nodos=len(P)\n",
        "Nodos2=[0,1,2,3,4]\n",
        "Tiempo=1000\n",
        "DT=10\n",
        "dx=200\n",
        "#iniciamos\n",
        "t=DT\n",
        "Pin=P\n",
        "Pin2=Pin #Resultado\n",
        "Pdt=[0,0,0,0,0]\n",
        "import numpy as np\n"
      ],
      "metadata": {
        "id": "1JFYA1Sxmjsg"
      },
      "execution_count": 3,
      "outputs": []
    },
    {
      "cell_type": "code",
      "source": [
        "def Presdt(P1,P2,P3,deltat,deltax):\n",
        "  return(((P1-2*P2+P3)/(deltax*deltax))*deltat)+P2"
      ],
      "metadata": {
        "id": "WR4E9-NLuOW2"
      },
      "execution_count": 4,
      "outputs": []
    },
    {
      "cell_type": "code",
      "source": [
        "Presdt(P[0],P[1],P[2],DT,dx)"
      ],
      "metadata": {
        "id": "B28jTiUF5OWR",
        "outputId": "cc2670aa-08c9-4399-e202-03aea749a8f8",
        "colab": {
          "base_uri": "https://localhost:8080/"
        }
      },
      "execution_count": 5,
      "outputs": [
        {
          "output_type": "execute_result",
          "data": {
            "text/plain": [
              "3999.0"
            ]
          },
          "metadata": {},
          "execution_count": 5
        }
      ]
    },
    {
      "cell_type": "code",
      "source": [
        "while t<Tiempo:\n",
        "    for i in (Nodos2):\n",
        "      if i==0:\n",
        "        Pdt[i]=P[0]\n",
        "      elif i==len(Nodos2)-1:\n",
        "        Pdt[i]=P[len(Nodos2)-1]\n",
        "      else:\n",
        "        Pdt[i]=Presdt(Pin[i-1],Pin[i],Pin[i+1],DT,dx)\n",
        "    t=t+DT\n",
        "    Pdt=Pin\n",
        "    Pin2=np.append(Pin2,Pdt)"
      ],
      "metadata": {
        "id": "lp-9DgOwvh7F"
      },
      "execution_count": 6,
      "outputs": []
    },
    {
      "cell_type": "code",
      "source": [
        "print (Pin2)"
      ],
      "metadata": {
        "id": "pOg1pDZH7oyX",
        "outputId": "d167e4ea-5f95-4efd-eef8-dacc067e5aba",
        "colab": {
          "base_uri": "https://localhost:8080/"
        }
      },
      "execution_count": 7,
      "outputs": [
        {
          "output_type": "stream",
          "name": "stdout",
          "text": [
            "[   0.         4000.         4000.         4000.            0.\n",
            "    0.         4000.         4000.         4000.            0.\n",
            "    0.         3999.         3999.99975    3998.99999994    0.\n",
            "    0.         3998.00049994 3999.99900025 3998.00049969    0.\n",
            "    0.         3997.00149944 3999.99775125 3997.00149888    0.\n",
            "    0.         3996.00299813 3999.9960035  3996.00299713    0.\n",
            "    0.         3995.00499563 3999.99375749 3995.00499407    0.\n",
            "    0.         3994.00749157 3999.99101374 3994.00748932    0.\n",
            "    0.         3993.01048558 3999.98777272 3993.01048252    0.\n",
            "    0.         3992.01397728 3999.98403495 3992.01397329    0.\n",
            "    0.         3991.0179663  3999.97980092 3991.01796125    0.\n",
            "    0.         3990.02245226 3999.97507112 3990.02244604    0.\n",
            "    0.         3989.02743481 3999.96984606 3989.02742728    0.\n",
            "    0.         3988.03291355 3999.96412622 3988.0329046     0.\n",
            "    0.         3987.03888812 3999.95791211 3987.03887762    0.\n",
            "    0.         3986.04535816 3999.95120421 3986.04534599    0.\n",
            "    0.         3985.05232328 3999.94400302 3985.05230931    0.\n",
            "    0.         3984.05978312 3999.93630904 3984.05976724    0.\n",
            "    0.         3983.06773731 3999.92812277 3983.06771938    0.\n",
            "    0.         3982.07618547 3999.91944468 3982.07616538    0.\n",
            "    0.         3981.08512724 3999.91027528 3981.08510487    0.\n",
            "    0.         3980.09456224 3999.90061506 3980.09453747    0.\n",
            "    0.         3979.10449011 3999.89046451 3979.10446282    0.\n",
            "    0.         3978.11491048 3999.87982412 3978.11488054    0.\n",
            "    0.         3977.12582299 3999.86869439 3977.12579028    0.\n",
            "    0.         3976.13722725 3999.85707579 3976.13719165    0.\n",
            "    0.         3975.1491229  3999.84496883 3975.1490843     0.\n",
            "    0.         3974.16150958 3999.832374   3974.16146785    0.\n",
            "    0.         3973.17438692 3999.81929177 3973.17434194    0.\n",
            "    0.         3972.18775455 3999.80572265 3972.1877062     0.\n",
            "    0.         3971.20161211 3999.79166712 3971.20156026    0.\n",
            "    0.         3970.21595922 3999.77712567 3970.21590376    0.\n",
            "    0.         3969.23079552 3999.76209878 3969.23073634    0.\n",
            "    0.         3968.24612064 3999.74658694 3968.24605761    0.\n",
            "    0.         3967.26193423 3999.73059065 3967.26186723    0.\n",
            "    0.         3966.27823591 3999.71411038 3966.27816483    0.\n",
            "    0.         3965.29502532 3999.69714662 3965.29495003    0.\n",
            "    0.         3964.3123021  3999.67969986 3964.31222248    0.\n",
            "    0.         3963.33006587 3999.66177058 3963.32998181    0.\n",
            "    0.         3962.34831628 3999.64335927 3962.34822766    0.\n",
            "    0.         3961.36705296 3999.62446641 3961.36695966    0.\n",
            "    0.         3960.38627555 3999.60509249 3960.38617746    0.\n",
            "    0.         3959.40598369 3999.58523798 3959.40588068    0.\n",
            "    0.         3958.426177   3999.56490338 3958.42606896    0.\n",
            "    0.         3957.44685514 3999.54408916 3957.44674195    0.\n",
            "    0.         3956.46801774 3999.5227958  3956.46789928    0.\n",
            "    0.         3955.48966443 3999.5010238  3955.48954059    0.\n",
            "    0.         3954.51179485 3999.47877362 3954.51166551    0.\n",
            "    0.         3953.53440865 3999.45604575 3953.53427369    0.\n",
            "    0.         3952.55750545 3999.43284067 3952.55736476    0.\n",
            "    0.         3951.58108491 3999.40915886 3951.58093837    0.\n",
            "    0.         3950.60514666 3999.3850008  3950.60499415    0.\n",
            "    0.         3949.62969033 3999.36036698 3949.62953174    0.\n",
            "    0.         3948.65471558 3999.33525785 3948.65455079    0.\n",
            "    0.         3947.68022204 3999.30967392 3947.68005094    0.\n",
            "    0.         3946.70620935 3999.28361565 3946.70603181    0.\n",
            "    0.         3945.73267714 3999.25708352 3945.73249307    0.\n",
            "    0.         3944.75962508 3999.230078   3944.75943434    0.\n",
            "    0.         3943.78705278 3999.20259959 3943.78685527    0.\n",
            "    0.         3942.81495991 3999.17464874 3942.81475551    0.\n",
            "    0.         3941.84334609 3999.14622594 3941.84313469    0.\n",
            "    0.         3940.87221097 3999.11733166 3940.87199245    0.\n",
            "    0.         3939.9015542  3999.08796639 3939.90132845    0.\n",
            "    0.         3938.93137541 3999.05813058 3938.93114232    0.\n",
            "    0.         3937.96167426 3999.02782472 3937.9614337     0.\n",
            "    0.         3936.99245038 3998.99704928 3936.99220225    0.\n",
            "    0.         3936.02370342 3998.96580473 3936.0234476     0.\n",
            "    0.         3935.05543302 3998.93409155 3935.0551694     0.\n",
            "    0.         3934.08763882 3998.9019102  3934.08736729    0.\n",
            "    0.         3933.12032048 3998.86926117 3933.12004092    0.\n",
            "    0.         3932.15347764 3998.83614492 3932.15318994    0.\n",
            "    0.         3931.18710993 3998.80256192 3931.18681398    0.\n",
            "    0.         3930.22121702 3998.76851265 3930.2209127     0.\n",
            "    0.         3929.25579854 3998.73399757 3929.25548575    0.\n",
            "    0.         3928.29085414 3998.69901715 3928.29053276    0.\n",
            "    0.         3927.32638346 3998.66357188 3927.32605338    0.\n",
            "    0.         3926.36238617 3998.6276622  3926.36204727    0.\n",
            "    0.         3925.39886189 3998.5912886  3925.39851407    0.\n",
            "    0.         3924.43581028 3998.55445153 3924.43545343    0.\n",
            "    0.         3923.47323099 3998.51715148 3923.47286499    0.\n",
            "    0.         3922.51112366 3998.4793889  3922.5107484     0.\n",
            "    0.         3921.54948795 3998.44116426 3921.54910332    0.\n",
            "    0.         3920.58832349 3998.40247804 3920.58792939    0.\n",
            "    0.         3919.62762995 3998.36333069 3919.62722626    0.\n",
            "    0.         3918.66740697 3998.32372268 3918.66699357    0.\n",
            "    0.         3917.7076542  3998.28365448 3917.70723099    0.\n",
            "    0.         3916.74837128 3998.24312656 3916.74793816    0.\n",
            "    0.         3915.78955788 3998.20213937 3915.78911472    0.\n",
            "    0.         3914.83121363 3998.16069338 3914.83076034    0.\n",
            "    0.         3913.8733382  3998.11878906 3913.87287466    0.\n",
            "    0.         3912.91593123 3998.07642686 3912.91545733    0.\n",
            "    0.         3911.95899237 3998.03360726 3911.958508      0.\n",
            "    0.         3911.00252127 3997.99033072 3911.00202633    0.\n",
            "    0.         3910.0465176  3997.94659769 3910.04601196    0.\n",
            "    0.         3909.09098099 3997.90240864 3909.09046456    0.\n",
            "    0.         3908.1359111  3997.85776403 3908.13538377    0.\n",
            "    0.         3907.18130758 3997.81266432 3907.18076924    0.\n",
            "    0.         3906.2271701  3997.76710997 3906.22662064    0.\n",
            "    0.         3905.27349829 3997.72110144 3905.2729376     0.\n",
            "    0.         3904.32029182 3997.6746392  3904.31971979    0.        ]\n"
          ]
        }
      ]
    },
    {
      "cell_type": "markdown",
      "source": [
        "**NUEVO EJEMPLO DE ECUACIÓN DE DIFUSIVIDAD**"
      ],
      "metadata": {
        "id": "zjQiwRJ4MwyY"
      }
    },
    {
      "cell_type": "code",
      "source": [
        "import numpy as np\n",
        "L=1000 #distancia total\n",
        "dx=100 #deltax\n",
        "Distance=np.arange(0,L+1,dx) #Crear un vector de las distancias\n",
        "P01=np.ones_like(Distance)\n",
        "print (P01)\n"
      ],
      "metadata": {
        "id": "j7Yl_J32M2nI",
        "outputId": "863560f0-a58f-41e5-df70-b4c5c7824d20",
        "colab": {
          "base_uri": "https://localhost:8080/"
        }
      },
      "execution_count": 8,
      "outputs": [
        {
          "output_type": "stream",
          "name": "stdout",
          "text": [
            "[1 1 1 1 1 1 1 1 1 1 1]\n"
          ]
        }
      ]
    },
    {
      "cell_type": "code",
      "source": [
        "PYac=4000\n",
        "PFrontd=0 #Frontera Derecha\n",
        "PFronti=0 #Frontera Izquierda\n",
        "Tiempo=1000\n",
        "DT=100\n",
        "Pdt=np.zeros_like(Distance)"
      ],
      "metadata": {
        "id": "NBb6hgzZPd7H"
      },
      "execution_count": 9,
      "outputs": []
    },
    {
      "cell_type": "code",
      "source": [
        "P01=np.ones_like(Distance)\n",
        "P01=P01*PYac\n",
        "P01[0]=PFronti\n",
        "P01[len(P01)-1]=PFrontd\n",
        "P0in=P01 #Condicion inicial\n",
        "Pdt=P01 #Vector de resultados DT\n",
        "t=DT #Primera interaccion"
      ],
      "metadata": {
        "id": "f_i6uH8iNnMH"
      },
      "execution_count": 10,
      "outputs": []
    },
    {
      "cell_type": "code",
      "source": [
        "print (P01)"
      ],
      "metadata": {
        "id": "iEw-mgRSQaWP",
        "outputId": "0fb19674-79f2-45b8-811f-201a849a655f",
        "colab": {
          "base_uri": "https://localhost:8080/"
        }
      },
      "execution_count": 11,
      "outputs": [
        {
          "output_type": "stream",
          "name": "stdout",
          "text": [
            "[   0 4000 4000 4000 4000 4000 4000 4000 4000 4000    0]\n"
          ]
        }
      ]
    },
    {
      "cell_type": "code",
      "source": [
        "def Presdt(P1,P2,P3,deltat,deltax):\n",
        "  return(((P1-2*P2+P3)/(deltax*deltax))*deltat)+P2"
      ],
      "metadata": {
        "id": "ktLX3xExQkV3"
      },
      "execution_count": 12,
      "outputs": []
    },
    {
      "cell_type": "code",
      "source": [
        "while t<Tiempo:\n",
        "    for i in range(0,len(P0in)-1):\n",
        "      if i==0:\n",
        "        Pdt[i]=P0in[0]\n",
        "      elif i==len(P0in)-1:\n",
        "        Pdt[i]=P0in[len(P0in)-1]\n",
        "      else:\n",
        "        Pdt[i]=Presdt(P0in[i-1],P0in[i],P0in[i+1],DT,dx)\n",
        "    t=t+DT\n",
        "    P0in=Pdt\n",
        "    P01=np.append(P01,Pdt)"
      ],
      "metadata": {
        "id": "yyEQrBfcQqmF"
      },
      "execution_count": 13,
      "outputs": []
    },
    {
      "cell_type": "code",
      "source": [
        "print (P01)"
      ],
      "metadata": {
        "id": "QbNiPRmIRTdG",
        "outputId": "d44897e3-a4b9-4d91-b6cc-612a9d611aae",
        "colab": {
          "base_uri": "https://localhost:8080/"
        }
      },
      "execution_count": 14,
      "outputs": [
        {
          "output_type": "stream",
          "name": "stdout",
          "text": [
            "[   0 3960 3999 3999 3999 3999 3999 3999 3999 3959    0    0 3960 3999\n",
            " 3999 3999 3999 3999 3999 3999 3959    0    0 3920 3998 3998 3998 3998\n",
            " 3998 3998 3998 3919    0    0 3881 3996 3997 3997 3997 3997 3997 3997\n",
            " 3880    0    0 3843 3994 3996 3996 3996 3996 3996 3995 3842    0    0\n",
            " 3806 3992 3995 3995 3995 3995 3995 3993 3805    0    0 3769 3989 3994\n",
            " 3994 3994 3994 3994 3991 3768    0    0 3733 3986 3993 3993 3993 3993\n",
            " 3993 3988 3732    0    0 3698 3983 3992 3992 3992 3992 3992 3985 3697\n",
            "    0    0 3663 3979 3991 3991 3991 3991 3991 3982 3662    0]\n"
          ]
        }
      ]
    },
    {
      "cell_type": "markdown",
      "source": [
        "import math\n",
        "math.sin(1)"
      ],
      "metadata": {
        "id": "rucmWmEHCzaD"
      }
    },
    {
      "cell_type": "markdown",
      "source": [
        "**EJEMPLO #2 DE ECUACION DE DIFUSIVIDAD**"
      ],
      "metadata": {
        "id": "hWdCePPFzrSr"
      }
    },
    {
      "cell_type": "code",
      "source": [
        "# Simulador ecuacion de la difusividad \n",
        "import numpy as np\n",
        "import math\n",
        "L=1000 #distancia total \n",
        "dx=50 #delta x\n",
        "Distance=np.arange(0,L+1,dx) #Crear un vector de las distancias\n",
        "P01=np.ones_like(Distance) #Vector inical de Presiones \n",
        "print(P01)\n"
      ],
      "metadata": {
        "id": "ticy_3AlykS7",
        "outputId": "ccdb88e4-3be3-46d8-d535-71135ef01845",
        "colab": {
          "base_uri": "https://localhost:8080/"
        }
      },
      "execution_count": 23,
      "outputs": [
        {
          "output_type": "stream",
          "name": "stdout",
          "text": [
            "[1 1 1 1 1 1 1 1 1 1 1 1 1 1 1 1 1 1 1 1 1]\n"
          ]
        }
      ]
    },
    {
      "cell_type": "code",
      "source": [
        "PYac=1000\n",
        "PFrontd=0 #Frontera derecha\n",
        "PFronti=0 #Frontera izquierda\n",
        "Tiempo=100000\n",
        "DT=1000\n",
        "VectorTiempo=np.arange(0,math.floor(Tiempo/DT)*DT,DT)\n",
        "PXX=np.zeros((math.floor(Tiempo/DT),len(Distance)))\n",
        "Pdt=np.zeros_like(Distance)"
      ],
      "metadata": {
        "id": "uQBJiIw4ymbM"
      },
      "execution_count": 48,
      "outputs": []
    },
    {
      "cell_type": "code",
      "source": [
        "PXX=np.zeros((math.floor(Tiempo/DT),len(Distance)))\n",
        "print(PXX)"
      ],
      "metadata": {
        "id": "zBapaRk4rV2c",
        "outputId": "0f00d456-fc6c-47b5-e2c4-e8fd6f9cccc8",
        "colab": {
          "base_uri": "https://localhost:8080/"
        }
      },
      "execution_count": 53,
      "outputs": [
        {
          "output_type": "stream",
          "name": "stdout",
          "text": [
            "[[0. 0. 0. ... 0. 0. 0.]\n",
            " [0. 0. 0. ... 0. 0. 0.]\n",
            " [0. 0. 0. ... 0. 0. 0.]\n",
            " ...\n",
            " [0. 0. 0. ... 0. 0. 0.]\n",
            " [0. 0. 0. ... 0. 0. 0.]\n",
            " [0. 0. 0. ... 0. 0. 0.]]\n"
          ]
        }
      ]
    },
    {
      "cell_type": "code",
      "source": [
        "P01"
      ],
      "metadata": {
        "id": "a-xk37KprZoD",
        "outputId": "8472d56d-1bbe-4576-ecef-22764a6314e2",
        "colab": {
          "base_uri": "https://localhost:8080/"
        }
      },
      "execution_count": 55,
      "outputs": [
        {
          "output_type": "execute_result",
          "data": {
            "text/plain": [
              "array([   0.        ,  156.43446504,  309.01699437,  453.99049974,\n",
              "        587.78525229,  707.10678119,  809.01699437,  891.00652419,\n",
              "        951.0565163 ,  987.6883406 , 1000.        ,  987.6883406 ,\n",
              "        951.0565163 ,  891.00652419,  809.01699437,  707.10678119,\n",
              "        587.78525229,  453.99049974,  309.01699437,  156.43446504,\n",
              "          0.        ])"
            ]
          },
          "metadata": {},
          "execution_count": 55
        }
      ]
    },
    {
      "cell_type": "code",
      "source": [
        "P01=PYac*np.sin(math.pi*Distance/L)\n",
        "P01[0]=PFronti\n",
        "P01[len(P01)-1]=PFrontd\n",
        "P0in=P01 #Condicion inicial \n",
        "Pdt=P01 #Vector de resultados dt\n",
        "t=DT #primera interaccion"
      ],
      "metadata": {
        "id": "hJjD7JWEr_Gy"
      },
      "execution_count": 56,
      "outputs": []
    },
    {
      "cell_type": "code",
      "source": [
        "P0in"
      ],
      "metadata": {
        "id": "dRbkedLksFKE",
        "outputId": "f294749d-7567-42db-d3f3-aba0926ff034",
        "colab": {
          "base_uri": "https://localhost:8080/"
        }
      },
      "execution_count": 57,
      "outputs": [
        {
          "output_type": "execute_result",
          "data": {
            "text/plain": [
              "array([   0.        ,  156.43446504,  309.01699437,  453.99049974,\n",
              "        587.78525229,  707.10678119,  809.01699437,  891.00652419,\n",
              "        951.0565163 ,  987.6883406 , 1000.        ,  987.6883406 ,\n",
              "        951.0565163 ,  891.00652419,  809.01699437,  707.10678119,\n",
              "        587.78525229,  453.99049974,  309.01699437,  156.43446504,\n",
              "          0.        ])"
            ]
          },
          "metadata": {},
          "execution_count": 57
        }
      ]
    },
    {
      "cell_type": "code",
      "source": [
        "Preal=np.ones_like(PXX)\n",
        "Preal.shape\n",
        "P0in.shape"
      ],
      "metadata": {
        "id": "HWG0iUT-scFy",
        "outputId": "5597be02-d3fd-4467-abec-4d05d4a11519",
        "colab": {
          "base_uri": "https://localhost:8080/"
        }
      },
      "execution_count": 58,
      "outputs": [
        {
          "output_type": "execute_result",
          "data": {
            "text/plain": [
              "(21,)"
            ]
          },
          "metadata": {},
          "execution_count": 58
        }
      ]
    },
    {
      "cell_type": "code",
      "source": [
        "Preal.shape[1]"
      ],
      "metadata": {
        "id": "ezxr6KXBsfvT",
        "outputId": "28075909-f0cd-460b-e5fb-9471d541ab6c",
        "colab": {
          "base_uri": "https://localhost:8080/"
        }
      },
      "execution_count": 59,
      "outputs": [
        {
          "output_type": "execute_result",
          "data": {
            "text/plain": [
              "21"
            ]
          },
          "metadata": {},
          "execution_count": 59
        }
      ]
    },
    {
      "cell_type": "code",
      "source": [
        "#Calculo real\n",
        "from mpmath import mp\n",
        "def Prealsum2(alpha,t,x,L,Pini):\n",
        "  sumpexc=0\n",
        "  Pexct=Pini*np.sin(math.pi*x/L)*mp.exp(-(alpha**2*math.pi**2)*t/(L**2))\n",
        "  return Pexct"
      ],
      "metadata": {
        "id": "sNx_QOBosjub"
      },
      "execution_count": 60,
      "outputs": []
    },
    {
      "cell_type": "code",
      "source": [
        "Pexct=Prealsum2(1,10,500,1000,1000)\n",
        "print(Pexct)"
      ],
      "metadata": {
        "id": "V2lMjMC4snIt",
        "outputId": "79c919d2-af40-4e19-c69b-9da23f159bba",
        "colab": {
          "base_uri": "https://localhost:8080/"
        }
      },
      "execution_count": 61,
      "outputs": [
        {
          "output_type": "stream",
          "name": "stdout",
          "text": [
            "999.901308826284\n"
          ]
        }
      ]
    },
    {
      "cell_type": "code",
      "source": [
        "# Ecuacion de la difusividad solucion Real \n",
        "Preal=np.ones_like(PXX)\n",
        "Preal[0]=P0in\n",
        "for j in range(0,Preal.shape[0]-1):\n",
        "  for i in range(0,Preal.shape[1]-1):\n",
        "      if i==0:\n",
        "        Preal[j][i]=P0in[0]\n",
        "      elif i==Preal.shape[1]-1:\n",
        "        Preal[j][i]=P0in[Preal.shape[1]-1]\n",
        "      else:\n",
        "        k=1\n",
        "        Preal[j][i]=Prealsum2(1,(j+1)*DT,(i+1)*dx,L,1000)"
      ],
      "metadata": {
        "id": "W4f4ckBOsrvz"
      },
      "execution_count": 62,
      "outputs": []
    },
    {
      "cell_type": "code",
      "source": [
        "# Ecuacion de la difusividad solucion Real \n",
        "Preal[0]"
      ],
      "metadata": {
        "id": "q-Sh6QY9syHK",
        "outputId": "e58af2ce-0bda-4997-bade-b620c7ccc7ee",
        "colab": {
          "base_uri": "https://localhost:8080/"
        }
      },
      "execution_count": 63,
      "outputs": [
        {
          "output_type": "execute_result",
          "data": {
            "text/plain": [
              "array([0.00000000e+00, 3.05982120e+02, 4.49531832e+02, 5.82012578e+02,\n",
              "       7.00162243e+02, 8.01071590e+02, 8.82255896e+02, 9.41716133e+02,\n",
              "       9.77988194e+02, 9.90178940e+02, 9.77988194e+02, 9.41716133e+02,\n",
              "       8.82255896e+02, 8.01071590e+02, 7.00162243e+02, 5.82012578e+02,\n",
              "       4.49531832e+02, 3.05982120e+02, 1.54898113e+02, 1.21261947e-13,\n",
              "       0.00000000e+00])"
            ]
          },
          "metadata": {},
          "execution_count": 63
        }
      ]
    },
    {
      "cell_type": "code",
      "source": [
        "def Presdt(P1,P2,P3,deltat,deltax):\n",
        "  return(((round(P1,7)-2*round(P2,7)+round(P3,7))/(deltax*deltax))*deltat)+round(P2,7) "
      ],
      "metadata": {
        "id": "zQMqnjLns1ms"
      },
      "execution_count": 78,
      "outputs": []
    },
    {
      "cell_type": "code",
      "source": [
        "PXX[0]=P01\n",
        "P0in=P01"
      ],
      "metadata": {
        "id": "jiwO4n9ks43q"
      },
      "execution_count": 75,
      "outputs": []
    },
    {
      "cell_type": "code",
      "source": [
        "while t<Tiempo:\n",
        "    for i in range(0,len(P0in)-1):\n",
        "      if i==0:\n",
        "        Pdt[i]=P0in[0]\n",
        "      elif i==len(P0in)-1:\n",
        "        Pdt[i]=P0in[len(P0in)-1]\n",
        "      else:\n",
        "        Pdt[i]=Presdt(P0in[i-1],P0in[i],P0in[i+1],DT,dx)\n",
        "    PXX[math.floor(t/DT)]=Pdt\n",
        "    t=t+DT\n",
        "    P0in=Pdt"
      ],
      "metadata": {
        "id": "e1d627k5s-Fy"
      },
      "execution_count": 76,
      "outputs": []
    },
    {
      "cell_type": "code",
      "source": [
        "PXX\n"
      ],
      "metadata": {
        "id": "NCrNNZhWtCK6",
        "outputId": "fa4b8d8d-55b0-4c83-dc06-9f1df68d65e6",
        "colab": {
          "base_uri": "https://localhost:8080/"
        }
      },
      "execution_count": 80,
      "outputs": [
        {
          "output_type": "execute_result",
          "data": {
            "text/plain": [
              "array([[  0.        ,  33.10637218,  64.8637116 , ...,  56.91036342,\n",
              "         28.57387112,   0.        ],\n",
              "       [  0.        , 154.89369076, 305.35707508, ..., 302.45405172,\n",
              "        152.26851368,   0.        ],\n",
              "       [  0.        , 153.1215682 , 301.54205466, ..., 296.02150698,\n",
              "        148.86230554,   0.        ],\n",
              "       ...,\n",
              "       [  0.        ,  34.21242754,  67.03098744, ...,  58.81724234,\n",
              "         29.53130162,   0.        ],\n",
              "       [  0.        ,  33.65488046,  65.93849016, ...,  57.8559211 ,\n",
              "         29.04862876,   0.        ],\n",
              "       [  0.        ,  33.10637218,  64.8637116 , ...,  56.91036342,\n",
              "         28.57387112,   0.        ]])"
            ]
          },
          "metadata": {},
          "execution_count": 80
        }
      ]
    },
    {
      "cell_type": "code",
      "source": [
        "PXX.shape"
      ],
      "metadata": {
        "id": "AoX9r9dEtHgS",
        "outputId": "bd74a697-b51a-4340-c802-8a3e335a69da",
        "colab": {
          "base_uri": "https://localhost:8080/"
        }
      },
      "execution_count": 81,
      "outputs": [
        {
          "output_type": "execute_result",
          "data": {
            "text/plain": [
              "(100, 21)"
            ]
          },
          "metadata": {},
          "execution_count": 81
        }
      ]
    },
    {
      "cell_type": "code",
      "source": [
        "Distance.shape"
      ],
      "metadata": {
        "id": "rp_MoFHQtLnh",
        "outputId": "8c2113fd-47e7-409f-a186-d781a796e7b7",
        "colab": {
          "base_uri": "https://localhost:8080/"
        }
      },
      "execution_count": 82,
      "outputs": [
        {
          "output_type": "execute_result",
          "data": {
            "text/plain": [
              "(21,)"
            ]
          },
          "metadata": {},
          "execution_count": 82
        }
      ]
    },
    {
      "cell_type": "code",
      "source": [
        "import matplotlib.pyplot as plt\n",
        "\n",
        "imgplot = plt.imshow(Preal,aspect='auto')\n",
        "plt.colorbar()"
      ],
      "metadata": {
        "id": "euLvTqKxtUgK",
        "outputId": "ee272504-a934-4322-853f-5a3edb25e69d",
        "colab": {
          "base_uri": "https://localhost:8080/",
          "height": 450
        }
      },
      "execution_count": 83,
      "outputs": [
        {
          "output_type": "execute_result",
          "data": {
            "text/plain": [
              "<matplotlib.colorbar.Colorbar at 0x7f39683c3b20>"
            ]
          },
          "metadata": {},
          "execution_count": 83
        },
        {
          "output_type": "display_data",
          "data": {
            "text/plain": [
              "<Figure size 640x480 with 2 Axes>"
            ],
            "image/png": "[encoded data removed]"
          },
          "metadata": {}
        }
      ]
    },
    {
      "cell_type": "code",
      "source": [
        "PXX[0]"
      ],
      "metadata": {
        "id": "7j1yCiyOtYKB",
        "outputId": "35a14bdc-148a-4dee-df15-4ffecae8ff4c",
        "colab": {
          "base_uri": "https://localhost:8080/"
        }
      },
      "execution_count": 84,
      "outputs": [
        {
          "output_type": "execute_result",
          "data": {
            "text/plain": [
              "array([  0.        ,  33.10637218,  64.8637116 ,  94.51730982,\n",
              "       121.37593458, 144.82768656, 164.35369466, 179.5393467 ,\n",
              "       190.08281426, 195.80069818, 196.6306924 , 192.63123948,\n",
              "       183.97822476, 170.95882964, 153.96273494, 133.47092962,\n",
              "       110.0424368 ,  84.29931916,  56.91036342,  28.57387112,\n",
              "         0.        ])"
            ]
          },
          "metadata": {},
          "execution_count": 84
        }
      ]
    },
    {
      "cell_type": "code",
      "source": [
        "c = plt.pcolormesh(Distance,VectorTiempo,PXX)\n",
        "plt.colorbar(c)\n",
        " \n",
        "plt.title('Distribucion de Presiones', fontweight =\"bold\")\n",
        "plt.show()"
      ],
      "metadata": {
        "id": "gSTZftrRtbPJ",
        "outputId": "20137eee-3f06-4c67-8d54-66f13f0e2530",
        "colab": {
          "base_uri": "https://localhost:8080/",
          "height": 452
        }
      },
      "execution_count": 85,
      "outputs": [
        {
          "output_type": "display_data",
          "data": {
            "text/plain": [
              "<Figure size 640x480 with 2 Axes>"
            ],
            "image/png": "[encoded data removed]"
          },
          "metadata": {}
        }
      ]
    },
    {
      "cell_type": "code",
      "source": [
        "PXX.shape"
      ],
      "metadata": {
        "id": "nJOyNShXtekK",
        "outputId": "1f73a568-958a-4051-b865-791df0492e54",
        "colab": {
          "base_uri": "https://localhost:8080/"
        }
      },
      "execution_count": 86,
      "outputs": [
        {
          "output_type": "execute_result",
          "data": {
            "text/plain": [
              "(100, 21)"
            ]
          },
          "metadata": {},
          "execution_count": 86
        }
      ]
    },
    {
      "cell_type": "code",
      "source": [
        "math.pi"
      ],
      "metadata": {
        "id": "4mHjlmfsthYp",
        "outputId": "bbda053d-c09a-40a6-8792-d4504c20677f",
        "colab": {
          "base_uri": "https://localhost:8080/"
        }
      },
      "execution_count": 87,
      "outputs": [
        {
          "output_type": "execute_result",
          "data": {
            "text/plain": [
              "3.141592653589793"
            ]
          },
          "metadata": {},
          "execution_count": 87
        }
      ]
    },
    {
      "cell_type": "code",
      "source": [
        "%matplotlib inline\n",
        "import matplotlib.pyplot as plt\n",
        "\n",
        "from matplotlib import animation, rc\n",
        "from IPython.display import HTML\n",
        "import matplotlib.animation as animation\n",
        "\n",
        "\n",
        "# First set up the figure, the axis, and the plot element we want to animate\n",
        "fig, ax = plt.subplots()\n",
        "\n",
        "ax.set_xlim(( 0, 1000))\n",
        "ax.set_ylim((-1000, 2000))\n",
        "\n",
        "line, = ax.plot([], [], lw=2)\n",
        "line2, = ax.plot([], [], lw=2)\n",
        "# initialization function: plot the background of each frame\n",
        "def init():\n",
        "    line.set_data([], [])\n",
        "    return (line,)\n",
        "\n",
        "def init():\n",
        "    line2.set_data([], [])\n",
        "    return (line2,)\n",
        "\n",
        "# animation function. This is called sequentially\n",
        "def animate(i):\n",
        "    x = Distance\n",
        "    y = PXX[i]\n",
        "    y2=Preal[i]\n",
        "    line.set_data(x, y)\n",
        "    line2.set_data(x, y2)\n",
        "    ax.set(title='Presion  days ' + str(i*DT))\n",
        "    return (line,)\n",
        "\n",
        "# call the animator. blit=True means only re-draw the parts that have changed.\n",
        "anim = animation.FuncAnimation(fig, animate, init_func=init,\n",
        "                               frames=range(0,math.floor(Tiempo/DT),20), interval=200, blit=True)\n",
        "\n",
        "HTML(anim.to_html5_video())"
      ],
      "metadata": {
        "id": "KAdofxr3tl7K",
        "outputId": "f0ac120b-1d11-4032-e5c6-a2ddf8c21c53",
        "colab": {
          "base_uri": "https://localhost:8080/",
          "height": 936
        }
      },
      "execution_count": 88,
      "outputs": [
        {
          "output_type": "execute_result",
          "data": {
            "text/plain": [
              "<IPython.core.display.HTML object>"
            ],
            "text/html": [
              "<video width=\"640\" height=\"480\" controls autoplay loop>\n",
              "  <source type=\"video/mp4\" src=\"data:video/mp4;base64,AAAAHGZ0eXBNNFYgAAACAGlzb21pc28yYXZjMQAAAAhmcmVlAABFPm1kYXQAAAKtBgX//6ncRem9\n",
              "5tlIt5Ys2CDZI+7veDI2NCAtIGNvcmUgMTU1IHIyOTE3IDBhODRkOTggLSBILjI2NC9NUEVHLTQg\n",
              "QVZDIGNvZGVjIC0gQ29weWxlZnQgMjAwMy0yMDE4IC0gaHR0cDovL3d3dy52aWRlb2xhbi5vcmcv\n",
              "eDI2NC5odG1sIC0gb3B0aW9uczogY2FiYWM9MSByZWY9MyBkZWJsb2NrPTE6MDowIGFuYWx5c2U9\n",
              "MHgzOjB4MTEzIG1lPWhleCBzdWJtZT03IHBzeT0xIHBzeV9yZD0xLjAwOjAuMDAgbWl4ZWRfcmVm\n",
              "PTEgbWVfcmFuZ2U9MTYgY2hyb21hX21lPTEgdHJlbGxpcz0xIDh4OGRjdD0xIGNxbT0wIGRlYWR6\n",
              "b25lPTIxLDExIGZhc3RfcHNraXA9MSBjaHJvbWFfcXBfb2Zmc2V0PS0yIHRocmVhZHM9MyBsb29r\n",
              "YWhlYWRfdGhyZWFkcz0xIHNsaWNlZF90aHJlYWRzPTAgbnI9MCBkZWNpbWF0ZT0xIGludGVybGFj\n",
              "ZWQ9MCBibHVyYXlfY29tcGF0PTAgY29uc3RyYWluZWRfaW50cmE9MCBiZnJhbWVzPTMgYl9weXJh\n",
              "bWlkPTIgYl9hZGFwdD0xIGJfYmlhcz0wIGRpcmVjdD0xIHdlaWdodGI9MSBvcGVuX2dvcD0wIHdl\n",
              "aWdodHA9MiBrZXlpbnQ9MjUwIGtleWludF9taW49NSBzY2VuZWN1dD00MCBpbnRyYV9yZWZyZXNo\n",
              "PTAgcmNfbG9va2FoZWFkPTQwIHJjPWNyZiBtYnRyZWU9MSBjcmY9MjMuMCBxY29tcD0wLjYwIHFw\n",
              "bWluPTAgcXBtYXg9NjkgcXBzdGVwPTQgaXBfcmF0aW89MS40MCBhcT0xOjEuMDAAgAAAH55liIQA\n",
              "Ev/+963fgU3AQO1rulc4tMurlDQ9UfaUpni2SAAAAwAAAwAAD/DNvp9RFdeXpgAAAwB+C3qfyNQ4\n",
              "OIAW2HoXxFmm/rK9zzrFrY3pbmo2YGWDMJ2VXGYAQScc5M3UHZEncXLdCBDZ+i1NpOSzTsm15HgH\n",
              "JKK8uftSmD9yfeFaljbVuAivszuBkmAy2UNELi2H0bf9Q7pE3onFF6XxWvwU6yfidwxre54qkSXf\n",
              "IB40zxLXdMVEL47v1npznRLS2UGySvX1baBmGEdHUfL6S7/vVgB/piLWv7OJPVa34wz6jZm6MlJ/\n",
              "i1GR9E9TKPlnchOg0iCE2N7iELAagI0O9oamg4w+EnrS2LZSZN/tXr3sUd8tTq/aXB/Y6XX+Jn/E\n",
              "/YFESNmvC9DZSVBGyn+c6A86Z++Bmg8YbAZywu5HgJmqWyQc6sBq9TcmwAqgEqXH7CQDKe5gxkun\n",
              "3yu0ptkwGyA8RkogrrJCkYsvfQJZKD6fzN9tuvcjLBvJjLyrhqSnaO8w1oLRunxxvvwb86X8OQBC\n",
              "BzjUOUPRO40Ee7NuQMCtWExenURX20w917XJ9K4BrR1lrcweNiRv6260Z217WbFuPPhV7Zlsd7+L\n",
              "6jBXL137VQ2OjjhE5zTTJccbugkt05XOXJs7X/tZQrdwjCKc5zug6nj0AyEhW67YG7o22bXMx+PD\n",
              "wWjqFK8qj1DMdgMjk6WpsYZZqcRSaC/jXk9HCAcS+TSyPD1zSWVVLEoRegn99BWXooiXXd61P+cl\n",
              "IHFcHhkn+y0PDx6ZJJc7wF7BvmG1XXbYqwXuuLJrSid7sTmQahe2xreo53CDcZCWNlljqCtBt9cQ\n",
              "YM1uPor8Osis8qhujRs42gwMtPhR+SAQCR/7CvjItzcHBnMO5DCvU8g2Qlz2hgTZ8Wg1bDnU3kqV\n",
              "M2cfmT7DsdGw9UQ8EcwZFqVNkyVVqjFvYa9pU4+A3t7K62o2hjgOyB+p1rYjGN+4t0+WPklXXJ10\n",
              "IwVCFo/ygz7XSflo31tu9mMSOaGWS9RmHHYyowLvIbLbXcgvVgtODG7d4MUt7tKWVRsGZ/WjUO81\n",
              "6a3KIU2nbYhRpbfCcNRVkA9vgLbWzBLw4xdxgxfJIQXrT17lrt4O3x82Sj7qwmS719FVmbwkV/Av\n",
              "iWUt4ANDUZrHU8lAW+MWBS+D7AdU0/ahZ7TdUkJeRIypcV2XHH7iDG2Rfru3Y1k9FNiH6GcXPBhM\n",
              "7EZjvx18jbUESavJxeFI5j/pG0lcObroWz6a5y4QTOTwUpIyT6MnjbQPKefjOUPtKh6UhvucajA2\n",
              "gihGj+OEApA740ClfLykTe4p8LLDQtZD1LnlF5S59Rj3f4f8oZwTG3NpWAB+2D8SA4yu+xKiDKys\n",
              "ZC9oUgSqvNNbUhq92H1EEpFk645noe6tuRuv/Qyo+j99+CGCTYCQX/3mOKx2+bZ3eJMoWiTuoQ/D\n",
              "uUTjdUMNlciPQilea7EPw1e0RUGvRs52GKm8PMgnwiiv7fRjyn+agbr509946FfYDByzZrBZ6Axu\n",
              "27MgxXC8CHI1+mW9xIS8mDcLcsYdMVFLOnnALh3qulKMRceoU/y/UdkyySrOhRR3x5hRwqVS+eY5\n",
              "sTavqgQdP2iQIqFi+jP69ZBHnc/NGNGP4WLwEX016lnlvOPdq1cN5+bQSF1IhpdPAfQSPBRvWj4a\n",
              "fpqOjfNQ1aaMqIJ6EHrDQHymSJ66TIpMN/NtFV0rk4q6IY26W/OYTYN4zG97k0VNFGy9v96utxgW\n",
              "QmjJRaTHFbV2W0RJgyn/wHt9fpdTFxz/RvZzIJX2dBoABN/wMYIZiJLW+y0bF6wS5HdpYfslJsGe\n",
              "d9l+eJz6/CKgu2B8FQ+Et/euNeQAALHLMm85kDYUM9F4Q+gABHwmizM3GMw7TqIPli2JxCTvNYK9\n",
              "DdrMEc1+fHBCZx+MxuoBi53DdqCMfVFBezW/5z6qIFQKN1qLN6ZHoY+HekJOZIZ2j679zHN+XdgI\n",
              "lDWwxitx28qiLEyFDERECuf/UTPUDTjcezlyKvang+GZFdUhkrL57b97IVvB2ClyDcMZSYb2Q9gb\n",
              "D1rFFGuX9tOKMMDCVtP5IBh6qFd7xH5gzyYApy7KUo9/hjVvy/4sq7re3Y9aTXLG8j0SoE5Bv4HM\n",
              "/8escuQGuMae5FzfPXvgZZ2uAdQLk8eDCQLgBj4KrJPyfTY4+ubMI8XSKFkTrNoQaeHHeeiDA+XN\n",
              "V7O8Tib/fHA74aLr3W30i2O91AhODKl2G/sHYDeJN//nQz7l3zNQAAxolBAv46TiGIRcGoBbmt3x\n",
              "0oEKAGt1/4QcaCuzjGTuaVdM0NrAXaZ+ZlAQ/wXFBDAGYuICYmLJAowKlwdTVziSx0kyJuxwdDcN\n",
              "GJqFUad2Uq7UZBhoKpe53oP8buKsmd9+KCkbdtncXdkTpiN/2gGlALBGLcH67NImKljpFxofivvZ\n",
              "akJlS6q5JibM4RDjQ92+2Oc1r9pgeTfVxJBCWjaKh+HFA3rHkzj2TVScchJCLi6SKRUYFnsIuDv5\n",
              "6dUZqSKjsr3jEdpoD+ToLoIMClt3au+w5NfnSplJPb5r8lGwq333mfZqzEQWvZKUHedeku/WPV5A\n",
              "izIBlwH6V8DoY+/yG0ifiLQc40PQQJATJmw6iffKdJQHXUVlfv77AiEagWJaGHcpBr9JXhbP503Y\n",
              "i71tukCgXAfes/DxqpgWdaQUlZQfyQgidzxZE5CGowA/6aTaHgef94yJtp1VvcsTwxBZVIOtYL0O\n",
              "bgRpJl553yXEIQq73eGnUWdz8hAQtgHshguXlj7fTs+jzB0sN+JGsHfF4RK0F0F8mhXqDFLV1LPl\n",
              "Tjd0buFDV6vYdA5oIndEp80JO5uAZNm3uBU4fTt5SZ7aFzSrvowE40ozyrLfAn5UgDGYl08yYpbZ\n",
              "Pec82YKX05W9Rh6NNGzFV9pNDBH8wFtn9VB63ZOvv77bIr5caNWVEWX2VGmdg1xfvsKxoTKBc6hz\n",
              "GhhrgZugJIfHvH2b1Xz//k3UsaBsrQwi9+dJWKCWTEoItszWkT3Lgh6extdVKFb9ijTRQgX5LuRJ\n",
              "nWywDRnapCPElt6AQRWv8df68TpZ32sWoGRzBgoekj0xG+aRJN1FOSYmrbiW4bjAPL2CAo8NoAuQ\n",
              "rNE0iQx4MBoMGyS8au8qqNtlELMptfFRZS6Tjlh8pZ4RWWf9NKGPH8Y0vcqnm8Wr72Izwrgxg0wh\n",
              "8TkDu9zy4kAbHX1yO+jn6BeqrTX6yM0FbqUNJX5K06jBFTerb4CoL7gevNwLnaY2TibftKUmZ9sy\n",
              "tAoDjYmM4Qc7JRs+ngYWgzEEbbfn/MRhv+NdgHrFjSvbaajJAp/+zGHiPZx+F0VaPXcM23w/ahkj\n",
              "zEy6b3wTNpPw8Ga6yxxmxmWV9KUP2pAo9v3yBT6TdLDxVPQrozoB1boG2WiOd2qu3FjURbvJq7Se\n",
              "TmS9ZLFhEpm9RQ81tzRdiCLOD5P3TxyBJ1o1UMMx3H310RSBfiMcMb8q2hTzLxst8Cc8syJHYOny\n",
              "E3U+3IcWl7VBg18skFe0nBpU1jVfO22A3aymoAcMn2EfS34z8sJfkRdiHnZbQNI4w8BDrsUjfwcW\n",
              "Di3OlEUNptf7n3RY/gqywJRf+eOCtebrPDI0abuMhwg70y1xWd1dMz0fJwgRxF5jOf8eAHjOLD87\n",
              "gd+S7xjIdbbidEpwxDvwD4dkE7151KMlrTFhSWHtCz3Cuj49KcaQz3o6MxUKVV6aWD+baWarGPus\n",
              "+C7yWOq91qRvDApJ+DLrCCTK5fiqfsKMF4I3oLamhjP9sWHQSPAnPCQJiQHHQAobAuHk1aEGYQnz\n",
              "QMt12HkjChTT5oFzZPkprlNgqysZxFWY/Bphm9BUI9KZtV7wqYYWPBPU0naS6rtHKE9CoUn+o6I9\n",
              "lKi66fiz5VPFiOqXGU+Tjyj5xhlynOF13IpX9rEOmsVq+AKc6hTC83z9A9pzW+O2cBgT3FnV262b\n",
              "hCW8DtxtGuKG7ZSRYmPXGOAlljG2AGTCeolmei0vAY10tCWGXj4Q/MgrSQ89WJxUt1QYzHDEAuWd\n",
              "l5Ga1FD+ScaSkH6wcouHK0SjeB/Rypr/DKZ3CI06yAb1mWaQ97Qoc3f9NzDrfijjiSX8MJLAXjlT\n",
              "ewNQpl5DCgQfHVgQKgJXySGqUC+w9JUe1oqvBsyooFAQA8vC7CNzBGWY2aAlrOw12R6Gme5ozx4w\n",
              "RzgDaH3DHlZ3Y45vHEI+L1kvrqT8qvTmlbALNM4AmZczaf9WSlJ4zEIrNaxM/76DZ8kxurZPr7m4\n",
              "J9lfihi/ewlNej/+nwniywSmsexIZxYro+cndms5eOp4lSZC8UeAOsAG2pWNRm4GHbLnvE2Hxhqn\n",
              "BhPvZd8BpW2hZ9470qOY1xXyGYXgb3XkGcCLKB8eTz3Rq96CihebhO4rgonfF296du6QyLBG6Ln1\n",
              "tqPpp2QGWxIeOlw2DF3/QrDPdyTrRfJFW686/db9mWbJQA4moAdzQY7zYbZ8JUiekIgXXUeRMGq5\n",
              "Vny/HZtDntmZc21gXWLui3FebCnyGxPshEb+lRoi/5grzcG+G9olksB547MCiEd60v1FtMWAALq4\n",
              "J0PZjgkLKfBO5GcQcxWDOfy9Ee3byuq1QMf/6e1JnlAkYk61/17A2+MGogcwPnhlANI2w+NmtqA3\n",
              "Ly+7AjT04q2WxLhGJQrMQtLIphM0heHE/skXIj7hPCAOL3/ixh2+NabAaPbOiLihcfNhl6Zfc5My\n",
              "zapE208+0vH//vFWya2phjy4NzebK0piGpSgA4KNPdxmlyRdw4RRSRmR3wk63NH887kpYgyp30ct\n",
              "OcgsRmZiSyAAhpjomtx4uwUfFOt+RUEzXGQoIQleFtUCXLIF7QBFnVQH4OMyP2C1I2a7WF0Kr53E\n",
              "ozKm6MJAnN6SD3C3VYzxlLRgmdQ6usJRQvsX0Ar5P0un4gbK5BkLurmwci/HhM/3ark3jmR58Uej\n",
              "zxeNOMrIJLZ4mcd8kg9wJoINM262Viv9DHrm7cBYS8mw5H0cl045h+N3YM1/CcFkrCDeVG1cPizJ\n",
              "/3DU6LN6AdCE83QRtydbJm7X0hzXWBELzw+VsV8YlzOuDFBZ13ado5dwaWdR4VrbiQ5RjB93NOPh\n",
              "wMmAef0XithshCyOX3O1cgNBMCQj123SxTEaAQSk8/M/wUpglxFQrYSn85jFoB9spbdnvAzbIn+J\n",
              "/+gZ072iw4lvV1T0ny0VySywzRbR4uysDJxr/d8jYv0Xzc40bwcBUxqPVZeLPvhjal3F12xNEmxr\n",
              "SEaWCL0hhIBcS3OSLqP6se4a1bf2JmkEp9geLUCHtz8NmCqLzZa/CGu/UIpKl8jtgiu7sQk852U6\n",
              "UymixJS+9Dp7XkIzDefo6FLtwPKZv3+bOkCo4k2sYuGva7WhWy2R1SrRPK6wcc4XNoKtBVs/QB+5\n",
              "Uir29pMUWHKvE6JPBtjyN59MI9sEWIdx+c9GA5KO8CEUCo9kC6WqWRNfZppwhKve1XNbTmTV9SvX\n",
              "2HjYzXpWGqS2H2at2Gvy5JkmfW6NkxAfmgJQ8QaRYzcOzd71DrbORYs78j3JWcg/4OjOo5WGQTCo\n",
              "IloAYSEAUt1eaZ5WZ+g+FA71rUYCKUaQCHyJwBgACsOQJsae+JM10MBmCmcBdbi+odgyEVZ7rH4U\n",
              "XtMP01j7TA1dxdM0h6uihFkEgIzGAhoFDGj61Zglfr+k0OulIVd3IfLhp41r0Zd/3Nu9Vnz3CnV3\n",
              "9ye8GONiUADjWxta0pK0naSk342qj/q+LbxU/8am0tmTafNoQygr65qFv6t642ber0YSLA27zgHn\n",
              "EtdfOoRUKw/2VLgN9NpqVNPZIUqIGpWH5F8+0I680mD2g4t2ApBp/Kamv8eFLIaSZRVtihcnFUCm\n",
              "2gdJAUT4LpqPQVPthTrYukJCg3ev9L4GWmml6IiGPy0rpDgPXGQe+c2urcWRMVH2mEc/uUYa9JEn\n",
              "NuHipHDfHg9rKcM7iBRETDG/9Xwh3Ns/am9ZyZAVP/nmkoOaFrwQoBncVZycQW3Rjdc7eKMRTyZr\n",
              "rBQMQFMtgPVoYygNqgfQbkHD6SmBCPE9shjt3QzdCM1VzJEYLPgQRqnhQtXcfXAhswWlSPACcW7Q\n",
              "3GmcmLo69UgndK5hMTyG1ZJfSc9GCAQhQHvLBCSHiHXzKglmNtLDFGWZLI0jnrSHoIPGxIKKGxlj\n",
              "7LbFN3G7lE1K4cmLaL1RTIDystdO/5Det9fXVav6Vxv7gSlmPHBBtXRKtwHRopckd+SDfZhJcrAU\n",
              "/umzNpHd96lSfjQawOvAbtJbcN3becW6Fyp/EBrXpETD6fHSECdS/i3d7oGUNdlSx9gdMmxJSykW\n",
              "DIWlhaFVSxSeBbEUGb57OAqB/V5hSFbJyCNm6JwvenZvRsohyxf+Sw1kK7IB11emtJbgR63Gh+JN\n",
              "4JdtODuIYAacV84N8jDacr2YaQuPgCvBi1tr/3oA0kxaLYr6/U3S1sepJO7f8DTVNsxYjL1eegpc\n",
              "t1iBJ0HevrqNiKNeI9twL3vumSZDjDD4j9t8KURjLlg5hdPewspLDzy/Uagc9pG871DtD2eQz+uB\n",
              "jYzx4YRyKf2NK/jUzzFRmfwnE//C+CZ/V46wN/EDWYyPb6ocwtXhZQYFlqVfIU4Z+CJHHH+CS53b\n",
              "lRo0/nfTOVZxcfLp9cMSzbngIlSwufY+lZDvAQnwYPnmSKDOfJHEbBWnUQyztyjcrYZriAoPIDYe\n",
              "G7bf4xxOJnHveGksQ9mGgclL0Cu+IYOamMlb6Zf/5fOCcXKS6cpIsQQffxzjVBPHAqJUcxgYptpZ\n",
              "Q/dnuVjWY0MA0tjPRw1mp/KmhrN6Ewy0nlP18iR4R0UWHy1NOoECyCDe9HdAv5qtk83bkDeOnHbj\n",
              "dak1k4L6RtemACB2QwKQcGpZ6Y6TQbcpgmiXA06HxZ0OhqJaCCr98s5rVdCrwQePcd4pKT0fhuBK\n",
              "yOPCkOoiaHOy0HsFv8Dnd2sahxd1WOGvib06v3oDz8/y6dLlvshIxituE652PCVAvJ/kSufQQRxD\n",
              "UFlp1v2kFZ37vfjpc8qdMDnWHRdV9pi3XUYrnQVWiNRe7pUrkTSvsCHx7mptzwG/zvZZ465Z1xEB\n",
              "VlnpJUNRu6ev8TKjvw/JxLLtr3UOyKj1+VpqG+Yy0Fj396F/IxmWYbKDayrozYiknOSr6+28jsB6\n",
              "bZ/CZfaFmDcN645DdcPq240Rsyh0M5pjaKrT/EmLKW8uxWTmE7ri56VtPTIYDxNcsqgKJmaaw5AZ\n",
              "cgvhZv8bEUTi1PD8r0b+c350DmY0j3aCaQRw3sXW1VbNJEYTBXuldngTnPNC6ECSl58u4KWCHgab\n",
              "4Q4ZzXKqgy2GU3/KMhtEcAAAejgYcW8zLWDd5PrLGRgoL7/1nFRqaOA2yRWm5xi632ULAuqUUHOe\n",
              "0BgjKbs0/tacQt9KWnPclbvFA2UKjsw13EQ8yMOhDJochteQ+uu+pR7Doq76kltBNuktd9Akwsp7\n",
              "4q5y6f7pLDkweguO8v6wg1oxEF6LWW75D6iUr2si35WfGVrLwzKWUAQZCLMAL6T/QoIPwjjrW661\n",
              "QooQmTQbls9ukGY5Mzg3NpdCaHi9eCiyJRSL3h59CP6g0lcjPUpsvIQi+dXXjtXFt9/T4ZMNdrlE\n",
              "y+WzYz+o5ski5uepWpfCJfihoGCBjQCD09rppV/7eRxSs2nkfTgd7QNmzXgkYb9MemUrn/dbuAdn\n",
              "y4r5UaEh5zxaJloLFLuMcwpMJKITivflfM3s2DMJuTfQ1NAXtuJa2+OcjBXKpnxSkj2KvQglJfI/\n",
              "mnI5F3jcgNDfZ7ok8V4V9CzfYDpT9mHTDGi1XCyGZObgYv5wL3ltZNQyRCJJ8tWyXHyX2d/qfMy5\n",
              "5RQxqS3FxTdSJJ+T8qPr1Q1alQtMN3kx1ZbFi/QhLhloPaYbMyqmMXWlKVMQEdvY8L/8CK7METXr\n",
              "9m08H+Zt3BB7I9nOkX/ReGN4VPjoQ7LtCPlO3TgI7XsLno7Gq6+jEj9/4cVh0YLkwbUoBFYjKb43\n",
              "9uvHfnZD3GPNalpkiBFPUo7P6pWWMY60NEze+jS/ESgyN+WjrOsAGOX15xXKA+QlR1EVQ9hmQVYJ\n",
              "m7VlbnvFlEG4YYmOnN9OVQyV67heZYJja6XH9AyLtkNP0jmwUHAP9YdIlvGhUP9uXgA90CgAqmIL\n",
              "ujnDUwrk3nQxMBiOD1jz7Pa+9+P8+GkJxOoDY9rNs7lbQafOOtp4vLR9B6sbJBPYs/l/cP8vB/hT\n",
              "LpucHp8eMf41KtDuX45DJxLQGZ/cBopu2GuU3hb9R7f1k19fbwJ03tTzqd7qIAF0zsRCQgZ8Njm3\n",
              "TxdAiw1/nKFz13V7sJ8gA9QA07FrMzARFz2bIYovN/Zq4dSTmrbOPnX0J4ThxOvs6AOnDqIOWYc+\n",
              "b+pPkoFj5B7xRlHSiIAQauanSN5Kzrqxa5bpsXQwLZ7NnPgZy1H2dxTTThI7iFwysH/A+8MBvB18\n",
              "LnbTRac4SoNZjyNIoKt7eWs1VD4hnGjRMIAKKUzTB/QWaOBlw9c7XdY2R+aV3MoALw0CkiHPqQNG\n",
              "QAAAChVe5otpShoK114jz70mXrUXgx6EjamMaBhEBmrF+L+hhkgeo2LszOPY248qLXW00FaPJdov\n",
              "VU7+s7rKsHjxUSp36AqGtNOL4TPCJceRoptwDPLY39mYShqdwc063KTA1Z57/eY81KBON66mJ3qF\n",
              "8+BMS6ypBq3y+Qx+mkttYvvlBH3k5VsUQoRgKcfidnhWM6DTe5Ogi0rGIDIxsPMoRM5YXmEag587\n",
              "CefT/FUCXk5qB2OSHLkmGA39n3V2mNDb7cGriQSZ0eNqT8giffIFXB3TkWtTu5I/R2/snmTx4HKV\n",
              "A2KH+OYX4nWgb1n82wDjvnIdA9t1fRkxRwWPmpLexqFu9tBV/d+MTrj/C/krwYnvaHbCpT5RKfaC\n",
              "wHF0G0lKyxqfCVN94JPHzxkXV85PSto8zVVegGxSHmi5FYQzl7b+sICLhfTzWtrUQJ3DWjtdChYL\n",
              "rtV/RFTIqeKzFYyItmCWjXisFR9A7sD82ShhkKf0Fp33f1fSCGvFp6hXqqS5cwxsRJF8fbfRRisj\n",
              "buHS+5uHer7+YAbC3uUPTnF8El50W6uTLIhGdXPT76uebPPGl4qHXW5u5um7/+QKYTTczHr0yB7r\n",
              "i811xOf6RoMIQgMMTjpSATdt2fhvgZKGF3WCxm8gTcjxLKskedZrDqFUzfb5vT0olv+Pb1EkE6yv\n",
              "zAAvrc95fM/KWZmWQJqkVXbr6bjz+KndIChyjcJxA+sOHt7LqH5TN5YgAFITaJ6e9TGrbUQbZLwe\n",
              "NFOTSrrNx1S9rZDz9lc+EDIW2WzyRLEpvS4OETCPtlBuYh8tQbW2+0S8vyk7gcMImxZBfN3aZwNk\n",
              "p7SpesmQ6TZ9yXHr3Zq16RBGS3e0+RAyecjElV/IqyPxSoG2K5QTSyQDVqcy3ULMIyct84qbH9Xx\n",
              "yeBYMDNzlp+TsEEFD0b1EMHj99CkITBuRdW+Tro0UhJ1r/VUDLuTvNf89cY0k2zf91/JSDl5W99S\n",
              "h2BDEwADZAE+AG+RpEwn1jcRNQlezbogVWQ9MxOx9vj3tMpUTHWAJXURp2KiWi4B5Nd3+vw/nnQ5\n",
              "GfVgMEZFFk9q4PQk7XJ3t8BFegySmDECMUso7VKiRxqpvHDb3FJI/sSAW+AIN2rSwtltDWhJrzM5\n",
              "O4dq5W4MUfjDQJSfCZ7aDk5EtCghcyjyIW2HAQLJy/mldn2QPayx7TKFCj3L9blGeKczxLy6WRyi\n",
              "5FLpPCmUeB2V/PIxHh3VkvwHCtaCd/gKYiZGDZVsabdNiKxWBxz8P85gKw6uDTgejQXML+ILahND\n",
              "Rha0EvEY30CKWzBHJA9Rr+cCL4vLGuar0yBaXSQvh6OvAOjOoGcLAiDazmdNB9kMbLZuBertYWEc\n",
              "pq3rBZboPGNz0E9nulgKdeWfDNJIMJOniOyFXr4RAYjXW+IdXvgJQ/16gIzSTXk0jCmBIiZioobU\n",
              "6bmt3z/7Mt4+bGzvqyo0JFpaY+IuerUeLQNb3FCAEFTjYasaw9NLZu65gVgotPwnSP8GPnHJEcfh\n",
              "YJVToH6MceH6Kic6B3KyYg5GWb+p83iHu3rUXr77sFM8DC6CMAoYeygueq309TbUZTLX7ayMXTb1\n",
              "OwUE6eEA+J41T1JuC0ryb8+a31l/YMGj5mVBbvQeOFqROQB0nUqWtT+oDT0urXiTteGOZyKsyZHR\n",
              "SOsqBDT93qXu6oj2KOw4axNu3Um+OcqhNh+vi4UEQE3ljDicQmwYYGIiP1wLp4DIVy7H/oJr1W9/\n",
              "cX6skxYSqIKqYgtGoNY4zH/0m+H9ZBgZPy9+Er5kDXe1xrvgKSiiLNNL0KwA+v9wm/s3+ZVHCme2\n",
              "34p4mddfktm5jUe5HtcKVxW//oXSnayKy2YFtKe13Y1SePCtTPr/qwHt9l/wuKo1l3TKKAKbT5A/\n",
              "Hhkj61yJ5Hb5f2VjIGYoqbRt21r+j+WVB4ukJ6mYWW45WxZZ6t0f3GOBbce5JKVtPnoNR+hHX6/D\n",
              "Kjw5P9+zWv7AAWLcH7tmMp+lN8LFRBxDZ858hFTxsyds3ETUWMEhWJ1pky3aDzy2qdCfItdJsZft\n",
              "uiX+cTT8o9aupFgBE4zGUWcCiDSLUj1wetsTPmqEey8kZ0SeEaVOU2LH9rwPELz2brzkBXbdlBGE\n",
              "uTSNQgAwXa/TRwTkiDJkinlR/4MIrUznj42QpUy4FF1IJUxMKuXPh1fr1ipOjdKSynrJcbg1Xyhs\n",
              "HNKXG2nuL3At85eGa7eQCDer9ZpRDygVvMPuQkrraOBLDwle8LiHIYd6MGB8ikAAAAMAKWEAAAxr\n",
              "QZohbEEv/rUqgArgRtGGwgAQzgzT1W59w0/px75cZhKRuk1jSBkABzbjjv0zcqyh+UrxcSa8X5fO\n",
              "+SfwOUaj/Z7O0kEP3DTlvB0yXX1qBgLzxtV+/kvum53ZT5iZ7RbpHdWR6WLWluq21Z1LImXWitUq\n",
              "xLAo6DAHxOKTObntmM5nAoD7KbPP60XmRfpbnXZHDROBozaEg0EG8WV3e0tQYWwtq2XnrA9nWnud\n",
              "9Fum8p5WHkNubRu8kN8KYs3kpc3iH3vyKSJGccZzSQyuhXN+T+iG55GgclfFEESWYCBANYBGHxt6\n",
              "RCa68OBa6bW5opmL3dEULEnpAVjCgB/F9vv0z9TXu177A+nms6xt6QNM/HSNWhLqX2rR9bW8p5cq\n",
              "rxbgATYmjNFelt8959LJiQO9l7otktn/D7w3KbUTSjPxsEekZT4wq0/HSSS8nA/dm9P+Ydimlpmt\n",
              "j00DsRrBFKonc7gJxYXIA/0WnPI56KaeEarGIUvn+k9sGLbnKTDLdpdud88WHEVYaM7Wl8+WbcPu\n",
              "m0XM4IuHnp48Ak4lF27Ka2H4jgGkSE1cXtPU1wA7gfD5rTd+OiloE0XAPcuTX1dl2Lb72Foe1QjX\n",
              "njcFiLfJ93jzlpb7m1TBcFCL80wj31ClbrdbR/9vmxn9ttDdhVoJKspmd7aIAqFPuWWQrMoA8vWs\n",
              "cIBV36y7p8rboGxdDkHiMYLbSIZMIgG6in+LEuCMEl1kv+B1zZLNWgF1IWVGqnqCorn3PnJcXXlj\n",
              "swYLeAKb5q1Cvl+bU8m+TUb4u8qOBLoqVnhStdm5u+u8EYeB0D1ko059Qy38iFPyG0jJtMpKIyOX\n",
              "RwvQ17LNz2jSl7lbKZeNV0mzVxifQS/AHqEDBXiojhA8yrHYc0PNZbeqHJT9aH+DPyD4QOpvDNzi\n",
              "vIh+k0ezst/e/39okdL3BqeOl3kVBa1o13j8mdwQV2jEDeIZdCuRfVUzdGfHUEKIwZlM1XvVTNV1\n",
              "creJdmjq+UVPA7QCkZUtYSkb/imWORixiYD0guMPjZ7G8IAURZWvldSsNlB4XvxoUkXftwC3NQlD\n",
              "E5XTeoFDu5LjmdAe9o5XMYri+Em+KDxIspFNm62FVXO/RpUyp8LJopeE5t6KM86d5GzWh/Cmvgkp\n",
              "E1vYveeVobJCzkJSR9mzzDyA3mKBHgVpGN/eeMglhERUWSQYruoVxb63TlYuG7Oz4+TKcplOdjC4\n",
              "Kmj9wlnMIuMIFYnCOz5KCWyWK7tX23Fa1+/mwXvg5+5Tb9cM2qQBMA+q81xpS9gZ26vaYxdcPWRw\n",
              "cromZV3mC9s6r6c5W8bnPgjuqcz/tCmOGwdGCP7ekRuypkGY/KoTe/TTGZkuGqN6krel8zRYuA4M\n",
              "QYPBf+47HpGyRq48pbR4jt6ONSzxbkAWPYG69FftQeQdJLxrlHiQG7g6r2oXddi6xzGWYaf++Vju\n",
              "GFKlmco6LGvAHZ2lzGNaluqjEbMnuzsXaAaxuJysD9/EZ569SfNHlXeMNFN7UvBehpfihPzSVuik\n",
              "ddc57oIAdu8CS7Vnn9gvpskL+4YaG0RH76h9vQSWmTQXFRU1S78A+nzHp+fSmEtbK4aw3Ph0xkJB\n",
              "JLWeTXKqyIqPwk6rWrVQe+zAap0UqidiFfqggsNNtSPL1fpsebY/3UGz364jflmFJ2p88WPuJpsj\n",
              "/yDy8PctLr9yEGi6dY2dJoEUanJYjSkNCC2DWYEh1a6HgMlaz5kIW5ElPojKkbWuIUAqKcbGG1It\n",
              "uw5vKD4/daF+kTCLtL1k7/1wnheoAMqiTgo4eqzpF+EoPeKlmg0jm1VObZT5sx7YQ5jYjMLRwlB4\n",
              "oEPwZD8Xwna3wHW6nBozFqeLiieMeDYO54rAfTdAMA6uScLCuHXMzqtxvAd6kkuQIBBzlf4sk/vP\n",
              "SdbX1qWbwMGJ8kCLrtdYIDYDjx3D4Jmwi5CE4fhP+A5XhsShZC7EsUq+lXPiMFDxIBNjzvqG7PNt\n",
              "DvGG7T1DQ+vkaZyP/7GncZuhfTFzL9zT9oqNl0A7KPfgNz87hgBxPswSrYAAFpikyuUBVCpKkVc1\n",
              "ABEVq/bJawhELhdQl1E2eA2ON7N2vArTZq3NipFVPesj/UGrB5zkDAxcAKwvoKaHewlBpP1DeITg\n",
              "9ngkWaQqB9CHzobncb46CL03T0BRQLhbYpBWc7XQnZosS6DB+jiPNJXL15C+ByR0bXIFqg/hrtSR\n",
              "d+PsZmCCWlAgHxGFiOxSe+pylYw37ENp2N4RKG83nY00azBwJ35yzO2hzc7i3vjcQxyIyixCFktR\n",
              "6vpP14ajKFShGJA0FTyIb1WbaRcV+V+gZgWN3D6syGbKZeIR2JaviMC6v93eKlwTzG4Y9r/Y45ez\n",
              "5U8BRUOagxwWsGLiCeJStR5ILeE0QtpK/I1ursWUvRNv6yuaKwoUxtkHH0AZrkTL8NOEJJuYflXB\n",
              "3nNtUnqlgcqjVVnn/muZR9loBswe2mPpv6C6zPWVSUhns1vz59GT5qvtwyHcT7KMUtUMchGpGqlJ\n",
              "G/glvpbi0HUJ+ArfzoMOvffBjuayuU43MdRaY1f0tITrMWJEBbfKCeOQl4Sd9m8v+52kMYKVVdy8\n",
              "pD1VkR4l4shbKFvQnxIuz0zdDgAGkuSSCatH18hq+KBDjAoAzQGbKkwqJJ2lkd5AbwPKOwGLdQ2I\n",
              "P7B0F31YlPPNb4BwuUR2yiyTsuQ4PlW8g70OF/1Z3dDJC7GSaGQqSWVvjpIG4U7H8NhIfCxTsfCW\n",
              "Q6i+hcjA0MMjz3HoVxJEPj+/mBHJjIuGiRn325tkLOejXgH/NtGC9NSZodSI5roIHb6JL0x9peLp\n",
              "IKh5hDjAsDE8fmHQplNNYNiFUOaLjyXeXCqJCAf+46r7RXpcCQbgQznxtoApil74PaXyB7vvr28X\n",
              "tbQf2ntCzzYMiwq3LxOAgOAO2/2MQZn8n2V8qB3YUdaSRzxB8t7T9D1Z+iNEmvpG72z2tjelaFJB\n",
              "ZmSyyghatXipVv8hQ2TDKjuWDBU24wqbQpVO++/rqEQDWN5S/GksBHh5MmtRMzAkyi+fUHMOYykG\n",
              "5SV6vhMRiS9kClziJVVmqPVrmx/Dz8qxkuUmRWgfn9V8Q6Xd6kbCjQ/wq0rrg61llfX3KNUhFAnC\n",
              "voUDOgOYBnIMGvMAWbDECjiij05mKNpWiYcGlAi0os/1uE6Njxedi110bqrCS+xZcdfDC/sLx5pA\n",
              "U83SLDWxGDAnF6BK1vCeZxCPJu3lZrkZiFEvRSWLIutiGOYAMyXxLlimZofqDZVk6c3qBzCk5gUO\n",
              "SC35MYb+vhuMqiIEO9vHhI5lXGV/6/SyCjsS9fkGBSZmvB1wENQkxwkpWU4VpesbpYzWlMZ3Y+EO\n",
              "f0IFTLwcAVR9+bI4MuY6WtiH1mNze8JH5Lf3YRCwhucS3Vp7QH2K6UvNyHQhei5lfgfQnSHXBIVD\n",
              "dKLzqaBOk/BKWAOBsjtnbhNp/karluj9+oaalMAmSHyps+G1d63DgGy9tMn0ykYPYmXZuvgZWfh9\n",
              "fx8Om9KQbM06gMHJ3Ac9X8L6BrELPborq1l8uVG9F3ntItpk8ToyHaxqStQ0xwqsrCf1CftOeTPB\n",
              "xESDxHmssDo1CP72obPJACSmjUIE+M0FY1XDQD8RDXjfgnLV/5VNBBVJSKQBHAVZ1VvaqzV9VAzC\n",
              "UiGtHsL1s7+dlrrGHGCZLkxT4WJ8kwn9dY4nwkD30PqHgusIsPOUDEMt8m0xxuiP1kUFxhfUYbjD\n",
              "YRX6s60CfP/gBNCMiR6YxaM+2hZgKo+2scRmdV1NxfXaPh6kYdkN5kMd/1Gl9/SerAcoa7WyJ42x\n",
              "usAwFiRRJ9JoacqgICDDiCVfeTmVGChMMaQaKl6XvJ1r1uTE6/nnoQRY6lyZ2JILUdZ0gmOdjw7q\n",
              "+ncWKiiNeN7DcOTBmt4dhh+ygAAAAwIIAcsHS3ZiBqEk7RHdLtkD44mX4ZPp/+Cc5nh+NFWF6O2H\n",
              "7bCGJm2uWYrCwbq1KvU7bb1VWAIbu1ONse3vYwjVEpIaRRslyZFsfNApEWJpVwO8/2Z/2UlFagdG\n",
              "bk+qNLD6IVbtgRc7mVqRl6fULBvG21K7V2d1HIruupuARRo9zkuRSqTo+gkJ+lVTwVpL+yC6J8Lz\n",
              "zy83oeWs14Y/Zh2uZG8naJ4RFBy5VuchyCZVsjCKIzofY9WVGULsVtA7PggTrtJtW3FmdLcAaIxM\n",
              "zi1fxV0B/VsbqCKe49eF90QHFYxL96AAbQ1lN5Jbbd90am4oJuuwBFM4IuAAAAnsQZpEPCGTKYQ/\n",
              "//6plgBGAjLTZbIlmADaKztQjSJDd3SVp014i30gsVGTcGewGvvZXMjbZ49mMJxyPKZkUleNqa/K\n",
              "IkB3C0lJufgi63G/buXYHh6RVgFwqMxK7tKPilqgsThOpWe9bslqSmnvg/q6mTn37yM6Jap6/PyC\n",
              "xHGZe7adZ529uWexJL+24BOvJ5fhVjjb3TZwP0Q14cfDHmKUHJVvsSN5STsEDgA+Bhc7rt3QNomD\n",
              "KsVmdCQrOj+EndwOecD6vxjrD+JfEcTX6awk3uC8CDeL+G+HWmYnHrLNbmBtiViJNgAACdXRHqkP\n",
              "WMgfQh3U6AW6Hhy0Hjs5AyyDikugb9CfTF4ghZvWpDkO23qERk59G5s/cGSBdGN1OX00Fomvi0RM\n",
              "SrwmkJJ9p12F049s/Tyg8ESFOjbSIRze7EZSQrxjoNZVtMLzCcO6SVtVzDYYTL6puqzYUtSdoinR\n",
              "2XzXsZec3g/EY2eB7OI5H+PslzoU9UnbjZZ3eNfuJ/WgJBgizEYp7j2Jjdpc+AHLlfhb772AdfAs\n",
              "00rlLU23cANtU0Xz5GUaN01chE7BZ8tBih5cscu5hLLQd7ibT3+WfHfsXibvtNmvc9ywm3wiHPDa\n",
              "UMl4E0cWWmfEFgVt6NFri7/ap3Wt9UqvcVd6Q69WCEteTd3F/I7npJm4X4g5u0zoOPTqtxrglYUb\n",
              "R92KhjOZYIpHPjx8DWc1LHQK9fqMKiv+7+PHIY2R7TcTkb/opvCJLrGsX0eavu4J52MfvbLvZK5d\n",
              "bxAFQG1EKIlxR69UnlvaPJBuwkDhPsNW/r/4UShooS2xUuxrjQV/iLrAPt2RGwtPXb3fMtoJayYU\n",
              "rKxvMrRHAvx+7a/f/cEQV+NlSn9gVFXIyCx/gOQFL/QfEGeI9Bz66d9Ji0ofdJky3EANCEgPFWIA\n",
              "DJ/71bi44C0LfwFY32dVoKNjsAgl+FOsvtF8sh/SW3veUZFRv9No5ErO8wGbdztjKtz0ATiVrouN\n",
              "rxCHMx0fI/e/2Te7Tff4ss9muSNjfYBv5/pkLZYN45FCVlRECNxqo18MjeDQip+bbOPeVAwFOQqq\n",
              "d1Exj6A3EKlLo6x2ALFjhT/Sm40xFds+HBRmoNDpuKCvfrfusOcMo21QLQ8hcse1zLNgSF/02R8p\n",
              "JU9jaDzsd8uCKuLYynZ+f+8l21BSL8nSJEepvfab5hcMvGQAFwokYe2FbWzpKooAAure+GAkTF2r\n",
              "2h+Ufeq+KNJlgc2FflaP/PEzvSxwqerXjde5FL6dGLpg5F5E/0ghpN4E5rBNHVsMMWjlq49Hv4ZA\n",
              "KwsEg4OcATxOO4+MYjSu31+cVko6Sg14mSTu7asZViPj2LTk7Px0P8kwb906iOgRJuldWfO/PHxU\n",
              "JW1qwtpCCE+qvsdVZ3xW869rVzf9r2FZEx8vJhZ8kX0r8+juWYl/6f5K5/7y11ANXSOm329w2mFo\n",
              "jR0iBLW9owHWnPHppaJVFT9PU0/brw2AaGmvKy/SXdiTXqWi4ebQlpx6CaRJEUEnH/g4uyP4MRcc\n",
              "y7+HBkAY0p36X2pIf971VPsoSFEEiPWY1X5Z0/SGgqaaS+2yhtNBkrCpg1RxxiC9/cZFRpTklV/6\n",
              "L6C+gsU94i7Mo4YvaV6VlSjwv5d5CK+X6NabOW4kiRjeN0Gu3em0uGaHIt/c/lm4EX6ZoVCh6sZs\n",
              "LQm5XbNMNwSgGvgp8d+q0xtMEQ2xumLiTix6WfPRXTMJwWQ6jmPcSJfTQvsKgUnBAtUaLbn8CwRn\n",
              "Af1JvJQdBp6uWug9Q7oLNvYCKS64kPvLhiDp9lp+WcfONHwOmRb5QfLv43RiKe1cGumkguFoWGFE\n",
              "+Pzei3gbNK4cxYc/sG9wwfd9nccltzBnPbAgZoPkfsKxE//CPfN2mb16vYVrqL7xkhfnHP5Fwdbp\n",
              "+Of1R3KJiNrJJp5XSKVlgs/mXqWWoJUQr78xEwM1O7dO09I8i+IzuX9Qle+q+3jgX5blFih/de27\n",
              "uVcI+eeeNB7a8+PfzBpDDg9A2gRCmJaW3sS7hbJby/mICH+iCwVRhnY8gzntRX0hMtoLOdbWBeKi\n",
              "sVjUbJRjU6kiLxJZWYSBm8f+x185nXqwauEmZsbzcb50huS/f2QjDqu7nWv3uxh8PoaC2CoxI6Ke\n",
              "bJ75JkEPI7gUb1OKxLhikEhgHyfJldnxVISFTuQCFFKJOOw4DqawSmi998wdks3IYnTWwXIs7af9\n",
              "bDwVWZW2zIIhbd5X24heFe6JAo+UUNucwb9XiEfTGOUN/jAeXsbIO4bDjkYhz8ZS/PQ42MG6y1cD\n",
              "zefdCWCBePJ2KoWhDFTcolERJAYgYYIbOsAoZXog8nA0aaZbfLkIwhsP6xngAaavd2+m+jnMeg27\n",
              "lLKbHvEGZoEAcYPmNqTQ0JBcafszgNVq8/i6LgGCH0OruyOBvSoEArqjWXS/qpGdfA97WJl/AeBJ\n",
              "l434aAdEYhBLRyPmFCAVvOUyufWqcy1A9Mz2rX2J3iyL6Isrw7TDJvGFc4CtUSNY7r3O5CP9fKJO\n",
              "8W4il//d5kLlJps1Re6R57PD3mG931/Ubxevep6+xbn2I6Qox+a91GfTaIBRgFbxWp8fl5BVGnoy\n",
              "T0y/bpVYjd6ohvQs3huXDavn6BNWtk2WTDxFzXbWYqeONNl/5hys1ZhIYklzTDoqGEt0NdvAsEBB\n",
              "8bQBDCwp6ugxuQTqJZyeovRswmTQuIAPqSymWCAxJNnTaRaQLalicO+I7IkoJaxmYrtweLjjd5r6\n",
              "OapllJQqyMGWuYexY+LNZeHLCHmZVclVwnpkUZk49Ms0EuU9WJDR1zUL/GyZqPi7XlPQvPFR0ylW\n",
              "LNBIR1j65W7WBGdLoAGfEYQBBMT4Ld83LOsGpnFObKFF9EBEm/ds6ZAFRwxPtOqxNBM+uUemFqWD\n",
              "FJsRlpUF1ONlYQ8YdvqHcWfx+08wZFtGX5XNP4N/XPPsru29zDAnRPW71Jkz+ZqWYFtdKXltLvLo\n",
              "aJaPqmDIoc6U1kihO9IFUnsZfo+J3pPGV+33e7/Ott7V9jFRlA1x3LbkYTxSBbqVl8+1soVl5kyB\n",
              "ZGTruhYpgn3q74iYQ5BUY03JpDCJd8y5yIQXKBm6MwWd5MlWqIuWsxTn8Jyl3xp6ubg5lpQf0ryb\n",
              "UKbUGo0+NyFJrHLsB0WK5kRw4afjcvFoVZGXodD8hsv+nxSlc7nT3hGyhLgBp6i97xwxUcAfDTMp\n",
              "mYZQ2Nv0lGk2OhKbVA2wTYeUpCHYEAnBX7d4N3LCS+Dm12Ba/AnzJx/0uzWo1h6ruJ+oz1vGdRYZ\n",
              "iHI+lkk0M/wvsWQCQzYuMfdEuPmxe/K2cbcSh0x4Ymg1STNaSjIMBqvkegaOoiUbQuznhn4Sv+5l\n",
              "uWJtyR4bL0wFD4bscDQypomwHJuZIz8AAAg4QZ5ialPBDwALNplRVIcs+SNyAA6+EFYWxi4ZyLDI\n",
              "ZU+5lVE1N9mXyH1saK8bo6dk4OweXysnA2AJ+BmbC4gGqA8FcCHBL+ZOaYCRaog9w6nMsDDHsaZr\n",
              "JzJWaEH6tQBxdUuwbhltqHSex36lRYiybH4RT1mqn2DuJfrX/Pq4rofjnkCPkjBr5sbc4MMM0Inw\n",
              "5181rnh/VuaA45AztIATLvHIMNr9xyzyiEmU/SxRDWiz66YSvRojEUQqiv9255Z2N8c7XN6yEMa0\n",
              "XwBg1r9qCFPW7eE9FJOt3Cp9+VQJM+SLrJKgmdTri7rUpWXIhFPuDC9p9hdGghwKO2uApDlo7SAd\n",
              "hze5yzS5s6Enr3at06WaFaAc0Lu2u4fK2DbuKRYHUQiEJRPnNQ/E7sLAu3tCBrwB4p/KHtSoNU+c\n",
              "e/MVFyOF4OAZSbNM2ixtDL5QHS9O274gJgKMaNIYB9k8UD4n0eSr04d1OJNkf7YGTOMZkP50dQjG\n",
              "j+S1MhuNsCim9N9E5mVV+Jwb72Rw9i9arNnReVGWDWRBrQ0yh6BKLaCFawcj4hokplo4jq0tF/zU\n",
              "lch0Uz0QymW6xqkfdoFj8xY9ltPqGEQiFqONPvFsonx0XaH/s7l2F2F3TP1Kw3zEiuj55t4FJl30\n",
              "eQxll5m8VcHuPiIBbvjLc+HBG6erHjpz66L7WJK5eoANHeqvECO0pfw+qHjWJ86rsh2hsz2SPom+\n",
              "EU6bPR+5Hxbi5yGKAcC+sWoAR9bQqPZ+B8VVJQVYVC7jJ1/Sn5/R9k1M7IkE77BW2yg6G+y2fMc5\n",
              "RsXP7nEfEDj7k8SEnoU7b8IHlabHtX8rlpSBxqvFHr/fCcgw8vOuEfMabnFHtIzYc+TC9y76ucST\n",
              "/6nyqqxwaEVNKQi6In8cjObSPiNk3tNW7D7CRhtMLYr1lj3nuYgAb4Z/Np3mNb7Fr83n2w7PwBV8\n",
              "UYYQtV3fa8tLeq/v/YZ4DBrLRQOT/PoyePJtVv9XmkPc3VoOkuhzCoP4A4PILQ6vIsCLNlZHBg5h\n",
              "65FZum68cZbQuhbRVdsJAMIbxGfelAowfw9/FnRplslT4L/DeX2IzpzdAYNWlI1iO5lYJUfyYP3T\n",
              "fUt4YKpeDolpSn1unqU0DIlm2pFwtSLa7AEy6y8lQzMrQFoLqRRnTmUtaNT/4ClAsoUGjHNoGgjw\n",
              "Tx58pMUhYNEgMfI5wnwLvwCprC35QL9MOQyXGm8+72qoCOc3gizwUpNcSOvw13J4o7jGNcikF2va\n",
              "2c3g/+uQ/SNy4CH1Fnedu7TPnW0yOMhrf6MSKa3bMCAVn8SiC3eWb2BxO59NESB7zepyhaTmCLOY\n",
              "suejwegdd61eNW/Cw8JtPORaSv7gULNzw9Cf8mRT8VOXddWLUm1gSiXGO9RWaHOmDqH1rhtYl4mO\n",
              "PLihNTWoi42ZZR5tYTOHlNSRclDvRcDYwqCvlLTbCQxnbaAndzbZNMfZP7uYI6C1AxGzOvfn4p0G\n",
              "duPumsYVSNvyjWxOq5XgeYGowz09JmC9xcJRZEbrcNAr3JZOtgZCrLDcAYR9MvCyn16pukz8yx/4\n",
              "A5puzgWxDu7tKEqBWpUb7bjmcpeuZQuBXR79MVT/wOxVr6ZAvWnh6fFz1F7EbKpVr+VVQ11Yfu8w\n",
              "bLvUyYCAB360GLOqAGb3fFsSml6Jk7xucYU6V/qmZbNv6GVA4OTDotN61M8fozFohfI8VtswfrKb\n",
              "Pbqr2fgRym2U6mrrbmA8ubGWggdwmCA4vnF1BeMpOmLo6+px2nAqnUlc78z43z+mZLueta6T9WYS\n",
              "MYgdkSPBjFniPSJHe0W4JqkbO6GI/OxcCIq193AQpNlxs5VULH7S7sr/lAkfq/hs931kpDHn7MjP\n",
              "g7irHopFi8Kif6qQA4fAwQktIo97CjwEAPtArsWiP42ceC6n7O41F/4IID0nPte2MZbXlRlHPAjv\n",
              "p74/m4wd5fZ6a/B9m8330ITzabmsP76dR9wSMhN/jfzRINyLs3KOWTPGd/r9CwlRMx+o9Dzit73/\n",
              "Ghkr+2WM0PqdV7PjX+6UOU1Wgm07d7kAp+B32svqVWqWlz5dR9cEta8hky1HYK4yGzWlgntRMuvT\n",
              "/jfwK5O7BphYXCUCUJPaUtP97HTieORoEmurqNUppNGDyp3SEhBD4QgGCyDS2stPLSfh/zdyzc5Y\n",
              "YkiUjUOB20s9fE/P7HJCqxTrBYT/nLNHADtc0ZWBjiBs5aN4OQad/sAnhZRXdHCh9Ctw36OP6G8C\n",
              "eO5vfIMqJUo0tfQJ2F3sp8S//+yYuiutrYiwfFQg4aUeYpiau7KnPuqkhM7AmGdBBxouevzWudVt\n",
              "mqrVWU+Y9zej6r5Urb9J/7SMCIr+ZCT3A3oNmSh+FywMZtBPfaq6fZo3cTPaED6EtUOoGD9D/e4p\n",
              "IBzshtPhLqk2oEgmepO9G8cJb/+GxQmMFLo7GeTdNbL+dB3pxWEJodZuSGt0ErvXV9uLKua6++4x\n",
              "RYE95TNilhVcmiT0oS89qFerA2SFf724AT5wzOHJQD2k5EmKnHWE+mQGyqWKeeh4Ueq2J6N02j8P\n",
              "1NkmoUpJ/WhGWe9br8XCeijuh1QFp5G4kApDqop9BPsts7NI3PBIdgAsAtuEfR4QsGKR8AUnrFPe\n",
              "JeKyRDat8cu+c883VeTbT3ppjTw0KhTHNUTx79oMAjmw+nw78tVKdBxeHNx8V4PAKh2CBV54P+Bj\n",
              "TH5Y02TlJnQRNmsY29ZdsILzcBu7H0gRSQcBSXI1pTLmWFadpol9cgXV15okHA+/DMXCUFAVuIAA\n",
              "5wAAAwI3TyKl0GKPwAdkM/bMC/t+7AAABEQBnoNqQ/8AGM9AN+G/ZgA2evH2INq0jyaxLdpOY0A3\n",
              "k8cP/9y2gIsc64bA3nmAEcdP9vTEAAGXxmK2QFe8z6GMbtuZ77UKs6PigFCOnubxtm0Z/ukRlfMJ\n",
              "ZMPSVI8k/gLWrdRK3p98ffc/yNc1gGMnRuWo8yKiINaPnPBH63bvNrV+ncnRkBOVsn832/NaYaoY\n",
              "0BQl2THLCogWDPyrBX2m1wFl5xJtecveUT2A1Hc/i3sNHYHddgcVIBofjiX6E5JwfP6Ow/bGgxCZ\n",
              "UA8S+9XEKVH8Mymj+EXTRJYtuqf2LWB0OydfiyZrA8Vnyhxrcp869FLyrKVAbr6mSg1+SsFHU4tM\n",
              "hbTQTl/YoCsisIRXxma/oSlcGOMaIciEE4c2e5P2WOLnUl0RaTuiXjBQoGnjuV6Y1LL1W3cVokxW\n",
              "nBu1JaNnpCqZ9suaJ2dvNW1M4ak74QCaZco6H/rZZqLWivKG9jymD+jk7vmQwKvO4DtdH2Cj2r/g\n",
              "f71VUp7n4BmSQOhPyYXPGfncrA78eHGxBgQQqiuGJ3zumfOcRkD6I8gpyBag6dHIs3d3YSYhjJBl\n",
              "wM0Ms7COydI7UDQkh+W+d9Wa+FaU4XfhbZ7JU2HL+cHMqj6vk3v07tKiRAZIFw2bo87Wxqq2oy0M\n",
              "4NGRU+0UW3/lKn4d0uyriMXtLY1aLNN/FR7iDIEVg1u44+I7p6VRtLbYtIJelAI078GqEdpo3wnN\n",
              "Evu09MGVSjtwFtRmIkSBZ70SDGJQFhuVEKfd5oOA1xBNByNftsGUgsNAQyu3k0v5R9a0PwfS7kRq\n",
              "5EqSYaBrH83QZe0codW96ZjgO6AFdwY8EaTgC1QdOXHKFxk6GwpYno3mpCzq1OTPuWV0ACsbZRxr\n",
              "Uzjo5qMX5kG17Sq4Y3N9hqpwS/5DLAogiv/ONE8tp7b3HjE/FUt8zYL1M/u7NoW/jwwoJKdvMyii\n",
              "+2lepkUl0nt+jwBqPy7862kQJ/s6IyvyPn2jLOBmz2yNqiwirAd9mev4/VLalaz356zkRiglKAZb\n",
              "dJJ3DxVFxQhYfpjXGVT2z3vds4/ng7Guptb3zGzv4vYwW5By5oHx3fTgAU3gPzdGHL9ag8lq5U9g\n",
              "38CZ+I77UmnfZkskW+aot+9kPSvZ+FrbOK5krb+jswjs8L9Ebq2qpOt1QwMiJrsdxkwGf/rfFZRl\n",
              "uYc9D6w79DyatKY9xsk/OoKc+bIXAtRDZCHBl6a9Heu6dIVNhEOtWInZdN610oW+83fhTfyk4V4o\n",
              "OJuMTH3sFhlTZTp+o2Ze8xOdUzIJHPxHQMHE3Z6rPo9/+0Gc4sU8sAMcXTWk+IhwWk5hsCeikC+C\n",
              "wSZgkFcH7F7OLHzW6usIM8qr/2SevBSNh+OodZY+XYw4sBHv2FDDndi/Rcsx4Bw9VNjnU/RTmmV3\n",
              "crbbbKGVihqfMU+AAABCep04bvjJrSzi7CWIgAp1+ygQxakAAANabW9vdgAAAGxtdmhkAAAAAAAA\n",
              "AAAAAAAAAAAD6AAAA+gAAQAAAQAAAAAAAAAAAAAAAAEAAAAAAAAAAAAAAAAAAAABAAAAAAAAAAAA\n",
              "AAAAAABAAAAAAAAAAAAAAAAAAAAAAAAAAAAAAAAAAAAAAAAAAgAAAoR0cmFrAAAAXHRraGQAAAAD\n",
              "AAAAAAAAAAAAAAABAAAAAAAAA+gAAAAAAAAAAAAAAAAAAAAAAAEAAAAAAAAAAAAAAAAAAAABAAAA\n",
              "AAAAAAAAAAAAAABAAAAAAoAAAAHgAAAAAAAkZWR0cwAAABxlbHN0AAAAAAAAAAEAAAPoAAAQAAAB\n",
              "AAAAAAH8bWRpYQAAACBtZGhkAAAAAAAAAAAAAAAAAAAoAAAAKABVxAAAAAAALWhkbHIAAAAAAAAA\n",
              "AHZpZGUAAAAAAAAAAAAAAABWaWRlb0hhbmRsZXIAAAABp21pbmYAAAAUdm1oZAAAAAEAAAAAAAAA\n",
              "AAAAACRkaW5mAAAAHGRyZWYAAAAAAAAAAQAAAAx1cmwgAAAAAQAAAWdzdGJsAAAAs3N0c2QAAAAA\n",
              "AAAAAQAAAKNhdmMxAAAAAAAAAAEAAAAAAAAAAAAAAAAAAAAAAoAB4ABIAAAASAAAAAAAAAABAAAA\n",
              "AAAAAAAAAAAAAAAAAAAAAAAAAAAAAAAAAAAAAAAAGP//AAAAMWF2Y0MBZAAW/+EAGGdkABas2UCg\n",
              "PaEAAAMAAQAAAwAKDxYtlgEABmjr48siwAAAABx1dWlka2hA8l8kT8W6OaUbzwMj8wAAAAAAAAAY\n",
              "c3R0cwAAAAAAAAABAAAABQAACAAAAAAUc3RzcwAAAAAAAAABAAAAAQAAAChjdHRzAAAAAAAAAAMA\n",
              "AAACAAAQAAAAAAEAACAAAAAAAgAACAAAAAAcc3RzYwAAAAAAAAABAAAAAQAAAAUAAAABAAAAKHN0\n",
              "c3oAAAAAAAAAAAAAAAUAACJTAAAMbwAACfAAAAg8AAAESAAAABRzdGNvAAAAAAAAAAEAAAAsAAAA\n",
              "YnVkdGEAAABabWV0YQAAAAAAAAAhaGRscgAAAAAAAAAAbWRpcmFwcGwAAAAAAAAAAAAAAAAtaWxz\n",
              "dAAAACWpdG9vAAAAHWRhdGEAAAABAAAAAExhdmY1OC4yOS4xMDA=\n",
              "\">\n",
              "  Your browser does not support the video tag.\n",
              "</video>"
            ]
          },
          "metadata": {},
          "execution_count": 88
        },
        {
          "output_type": "display_data",
          "data": {
            "text/plain": [
              "<Figure size 640x480 with 1 Axes>"
            ],
            "image/png": "[encoded data removed]"
          },
          "metadata": {}
        }
      ]
    }
  ]
}