{
  "nbformat": 4,
  "nbformat_minor": 0,
  "metadata": {
    "colab": {
      "provenance": [],
      "authorship_tag": "ABX9TyOiRLWrY62Lu6Om8xmi5+Y2",
      "include_colab_link": true
    },
    "kernelspec": {
      "name": "python3",
      "display_name": "Python 3"
    },
    "language_info": {
      "name": "python"
    }
  },
  "cells": [
    {
      "cell_type": "markdown",
      "metadata": {
        "id": "view-in-github",
        "colab_type": "text"
      },
      "source": [
        "<a href=\"https://colab.research.google.com/github/JorgeGalarza777/SIM_YAC_GALARZA_UPSE2023/blob/main/EJERCICIOYACIMIENTO1.ipynb\" target=\"_parent\"><img src=\"https://colab.research.google.com/assets/colab-badge.svg\" alt=\"Open In Colab\"/></a>"
      ]
    },
    {
      "cell_type": "code",
      "execution_count": 68,
      "metadata": {
        "id": "wjbOhxKf8Tr_"
      },
      "outputs": [],
      "source": [
        "#hola mundo\n"
      ]
    },
    {
      "cell_type": "code",
      "source": [
        "P= lambda a,b,c,d,e: ((a - (2*b) + c)/(d^2))*(e) + b\n",
        "P(0,4000,4000,200,1000)"
      ],
      "metadata": {
        "colab": {
          "base_uri": "https://localhost:8080/"
        },
        "id": "MJ0sxCC_izPG",
        "outputId": "765fe938-3631-4c98-c80f-62aedc8a35a0"
      },
      "execution_count": 69,
      "outputs": [
        {
          "output_type": "execute_result",
          "data": {
            "text/plain": [
              "-15801.980198019803"
            ]
          },
          "metadata": {},
          "execution_count": 69
        }
      ]
    },
    {
      "cell_type": "markdown",
      "source": [
        "**ECUACIÓN DE LA DIFUSIVIDAD**"
      ],
      "metadata": {
        "id": "RtFUl6ALt7_E"
      }
    },
    {
      "cell_type": "code",
      "source": [
        "P= [0, 4000, 4000, 4000, 0]\n",
        "Nodos=len(P)\n",
        "Nodos2=[0,1,2,3,4]\n",
        "Tiempo=1000\n",
        "DT=10\n",
        "dx=200\n",
        "#iniciamos\n",
        "t=DT\n",
        "Pin=P\n",
        "Pin2=Pin #Resultado\n",
        "Pdt=[0,0,0,0,0]\n",
        "import numpy as np\n"
      ],
      "metadata": {
        "id": "1JFYA1Sxmjsg"
      },
      "execution_count": 70,
      "outputs": []
    },
    {
      "cell_type": "code",
      "source": [
        "def Presdt(P1,P2,P3,deltat,deltax):\n",
        "  return(((P1-2*P2+P3)/(deltax*deltax))*deltat)+P2"
      ],
      "metadata": {
        "id": "WR4E9-NLuOW2"
      },
      "execution_count": 71,
      "outputs": []
    },
    {
      "cell_type": "code",
      "source": [
        "Presdt(P[0],P[1],P[2],DT,dx)"
      ],
      "metadata": {
        "id": "B28jTiUF5OWR",
        "outputId": "c01050b0-3eac-483a-e1c6-5832ce0c8cb1",
        "colab": {
          "base_uri": "https://localhost:8080/"
        }
      },
      "execution_count": 72,
      "outputs": [
        {
          "output_type": "execute_result",
          "data": {
            "text/plain": [
              "3999.0"
            ]
          },
          "metadata": {},
          "execution_count": 72
        }
      ]
    },
    {
      "cell_type": "code",
      "source": [
        "while t<Tiempo:\n",
        "    for i in (Nodos2):\n",
        "      if i==0:\n",
        "        Pdt[i]=P[0]\n",
        "      elif i==len(Nodos2)-1:\n",
        "        Pdt[i]=P[len(Nodos2)-1]\n",
        "      else:\n",
        "        Pdt[i]=Presdt(Pin[i-1],Pin[i],Pin[i+1],DT,dx)\n",
        "    t=t+DT\n",
        "    Pdt=Pin\n",
        "    Pin2=np.append(Pin2,Pdt)"
      ],
      "metadata": {
        "id": "lp-9DgOwvh7F"
      },
      "execution_count": 73,
      "outputs": []
    },
    {
      "cell_type": "code",
      "source": [
        "print (Pin2)"
      ],
      "metadata": {
        "id": "pOg1pDZH7oyX",
        "outputId": "8b808d0a-5e25-4b23-d967-6b04e1974f02",
        "colab": {
          "base_uri": "https://localhost:8080/"
        }
      },
      "execution_count": 74,
      "outputs": [
        {
          "output_type": "stream",
          "name": "stdout",
          "text": [
            "[   0.         4000.         4000.         4000.            0.\n",
            "    0.         4000.         4000.         4000.            0.\n",
            "    0.         3999.         3999.99975    3998.99999994    0.\n",
            "    0.         3998.00049994 3999.99900025 3998.00049969    0.\n",
            "    0.         3997.00149944 3999.99775125 3997.00149888    0.\n",
            "    0.         3996.00299813 3999.9960035  3996.00299713    0.\n",
            "    0.         3995.00499563 3999.99375749 3995.00499407    0.\n",
            "    0.         3994.00749157 3999.99101374 3994.00748932    0.\n",
            "    0.         3993.01048558 3999.98777272 3993.01048252    0.\n",
            "    0.         3992.01397728 3999.98403495 3992.01397329    0.\n",
            "    0.         3991.0179663  3999.97980092 3991.01796125    0.\n",
            "    0.         3990.02245226 3999.97507112 3990.02244604    0.\n",
            "    0.         3989.02743481 3999.96984606 3989.02742728    0.\n",
            "    0.         3988.03291355 3999.96412622 3988.0329046     0.\n",
            "    0.         3987.03888812 3999.95791211 3987.03887762    0.\n",
            "    0.         3986.04535816 3999.95120421 3986.04534599    0.\n",
            "    0.         3985.05232328 3999.94400302 3985.05230931    0.\n",
            "    0.         3984.05978312 3999.93630904 3984.05976724    0.\n",
            "    0.         3983.06773731 3999.92812277 3983.06771938    0.\n",
            "    0.         3982.07618547 3999.91944468 3982.07616538    0.\n",
            "    0.         3981.08512724 3999.91027528 3981.08510487    0.\n",
            "    0.         3980.09456224 3999.90061506 3980.09453747    0.\n",
            "    0.         3979.10449011 3999.89046451 3979.10446282    0.\n",
            "    0.         3978.11491048 3999.87982412 3978.11488054    0.\n",
            "    0.         3977.12582299 3999.86869439 3977.12579028    0.\n",
            "    0.         3976.13722725 3999.85707579 3976.13719165    0.\n",
            "    0.         3975.1491229  3999.84496883 3975.1490843     0.\n",
            "    0.         3974.16150958 3999.832374   3974.16146785    0.\n",
            "    0.         3973.17438692 3999.81929177 3973.17434194    0.\n",
            "    0.         3972.18775455 3999.80572265 3972.1877062     0.\n",
            "    0.         3971.20161211 3999.79166712 3971.20156026    0.\n",
            "    0.         3970.21595922 3999.77712567 3970.21590376    0.\n",
            "    0.         3969.23079552 3999.76209878 3969.23073634    0.\n",
            "    0.         3968.24612064 3999.74658694 3968.24605761    0.\n",
            "    0.         3967.26193423 3999.73059065 3967.26186723    0.\n",
            "    0.         3966.27823591 3999.71411038 3966.27816483    0.\n",
            "    0.         3965.29502532 3999.69714662 3965.29495003    0.\n",
            "    0.         3964.3123021  3999.67969986 3964.31222248    0.\n",
            "    0.         3963.33006587 3999.66177058 3963.32998181    0.\n",
            "    0.         3962.34831628 3999.64335927 3962.34822766    0.\n",
            "    0.         3961.36705296 3999.62446641 3961.36695966    0.\n",
            "    0.         3960.38627555 3999.60509249 3960.38617746    0.\n",
            "    0.         3959.40598369 3999.58523798 3959.40588068    0.\n",
            "    0.         3958.426177   3999.56490338 3958.42606896    0.\n",
            "    0.         3957.44685514 3999.54408916 3957.44674195    0.\n",
            "    0.         3956.46801774 3999.5227958  3956.46789928    0.\n",
            "    0.         3955.48966443 3999.5010238  3955.48954059    0.\n",
            "    0.         3954.51179485 3999.47877362 3954.51166551    0.\n",
            "    0.         3953.53440865 3999.45604575 3953.53427369    0.\n",
            "    0.         3952.55750545 3999.43284067 3952.55736476    0.\n",
            "    0.         3951.58108491 3999.40915886 3951.58093837    0.\n",
            "    0.         3950.60514666 3999.3850008  3950.60499415    0.\n",
            "    0.         3949.62969033 3999.36036698 3949.62953174    0.\n",
            "    0.         3948.65471558 3999.33525785 3948.65455079    0.\n",
            "    0.         3947.68022204 3999.30967392 3947.68005094    0.\n",
            "    0.         3946.70620935 3999.28361565 3946.70603181    0.\n",
            "    0.         3945.73267714 3999.25708352 3945.73249307    0.\n",
            "    0.         3944.75962508 3999.230078   3944.75943434    0.\n",
            "    0.         3943.78705278 3999.20259959 3943.78685527    0.\n",
            "    0.         3942.81495991 3999.17464874 3942.81475551    0.\n",
            "    0.         3941.84334609 3999.14622594 3941.84313469    0.\n",
            "    0.         3940.87221097 3999.11733166 3940.87199245    0.\n",
            "    0.         3939.9015542  3999.08796639 3939.90132845    0.\n",
            "    0.         3938.93137541 3999.05813058 3938.93114232    0.\n",
            "    0.         3937.96167426 3999.02782472 3937.9614337     0.\n",
            "    0.         3936.99245038 3998.99704928 3936.99220225    0.\n",
            "    0.         3936.02370342 3998.96580473 3936.0234476     0.\n",
            "    0.         3935.05543302 3998.93409155 3935.0551694     0.\n",
            "    0.         3934.08763882 3998.9019102  3934.08736729    0.\n",
            "    0.         3933.12032048 3998.86926117 3933.12004092    0.\n",
            "    0.         3932.15347764 3998.83614492 3932.15318994    0.\n",
            "    0.         3931.18710993 3998.80256192 3931.18681398    0.\n",
            "    0.         3930.22121702 3998.76851265 3930.2209127     0.\n",
            "    0.         3929.25579854 3998.73399757 3929.25548575    0.\n",
            "    0.         3928.29085414 3998.69901715 3928.29053276    0.\n",
            "    0.         3927.32638346 3998.66357188 3927.32605338    0.\n",
            "    0.         3926.36238617 3998.6276622  3926.36204727    0.\n",
            "    0.         3925.39886189 3998.5912886  3925.39851407    0.\n",
            "    0.         3924.43581028 3998.55445153 3924.43545343    0.\n",
            "    0.         3923.47323099 3998.51715148 3923.47286499    0.\n",
            "    0.         3922.51112366 3998.4793889  3922.5107484     0.\n",
            "    0.         3921.54948795 3998.44116426 3921.54910332    0.\n",
            "    0.         3920.58832349 3998.40247804 3920.58792939    0.\n",
            "    0.         3919.62762995 3998.36333069 3919.62722626    0.\n",
            "    0.         3918.66740697 3998.32372268 3918.66699357    0.\n",
            "    0.         3917.7076542  3998.28365448 3917.70723099    0.\n",
            "    0.         3916.74837128 3998.24312656 3916.74793816    0.\n",
            "    0.         3915.78955788 3998.20213937 3915.78911472    0.\n",
            "    0.         3914.83121363 3998.16069338 3914.83076034    0.\n",
            "    0.         3913.8733382  3998.11878906 3913.87287466    0.\n",
            "    0.         3912.91593123 3998.07642686 3912.91545733    0.\n",
            "    0.         3911.95899237 3998.03360726 3911.958508      0.\n",
            "    0.         3911.00252127 3997.99033072 3911.00202633    0.\n",
            "    0.         3910.0465176  3997.94659769 3910.04601196    0.\n",
            "    0.         3909.09098099 3997.90240864 3909.09046456    0.\n",
            "    0.         3908.1359111  3997.85776403 3908.13538377    0.\n",
            "    0.         3907.18130758 3997.81266432 3907.18076924    0.\n",
            "    0.         3906.2271701  3997.76710997 3906.22662064    0.\n",
            "    0.         3905.27349829 3997.72110144 3905.2729376     0.\n",
            "    0.         3904.32029182 3997.6746392  3904.31971979    0.        ]\n"
          ]
        }
      ]
    },
    {
      "cell_type": "markdown",
      "source": [
        "**NUEVO EJEMPLO DE ECUACIÓN DE DIFUSIVIDAD**"
      ],
      "metadata": {
        "id": "zjQiwRJ4MwyY"
      }
    },
    {
      "cell_type": "code",
      "source": [
        "import numpy as np\n",
        "L=1000 #distancia total\n",
        "dx=100 #deltax\n",
        "Distance=np.arange(0,L+1,dx) #Crear un vector de las distancias\n",
        "P01=np.ones_like(Distance)\n",
        "print (P01)\n"
      ],
      "metadata": {
        "id": "j7Yl_J32M2nI",
        "outputId": "6b5d5c51-82a3-49cc-9991-3babb7764516",
        "colab": {
          "base_uri": "https://localhost:8080/"
        }
      },
      "execution_count": 101,
      "outputs": [
        {
          "output_type": "stream",
          "name": "stdout",
          "text": [
            "[1 1 1 1 1 1 1 1 1 1 1]\n"
          ]
        }
      ]
    },
    {
      "cell_type": "code",
      "source": [
        "PYac=4000\n",
        "PFrontd=0 #Frontera Derecha\n",
        "PFronti=0 #Frontera Izquierda\n",
        "Tiempo=1000\n",
        "DT=100\n",
        "Pdt=np.zeros_like(Distance)"
      ],
      "metadata": {
        "id": "NBb6hgzZPd7H"
      },
      "execution_count": 108,
      "outputs": []
    },
    {
      "cell_type": "code",
      "source": [
        "P01=np.ones_like(Distance)\n",
        "P01=P01*PYac\n",
        "P01[0]=PFronti\n",
        "P01[len(P01)-1]=PFrontd\n",
        "P0in=P01 #Condicion inicial\n",
        "Pdt=P01 #Vector de resultados DT\n",
        "t=DT #Primera interaccion"
      ],
      "metadata": {
        "id": "f_i6uH8iNnMH"
      },
      "execution_count": 109,
      "outputs": []
    },
    {
      "cell_type": "code",
      "source": [
        "print (P01)"
      ],
      "metadata": {
        "id": "iEw-mgRSQaWP",
        "outputId": "e281c1d0-3e20-42e0-c4c1-e04f654b8fe6",
        "colab": {
          "base_uri": "https://localhost:8080/"
        }
      },
      "execution_count": 110,
      "outputs": [
        {
          "output_type": "stream",
          "name": "stdout",
          "text": [
            "[   0 4000 4000 4000 4000 4000 4000 4000 4000 4000    0]\n"
          ]
        }
      ]
    },
    {
      "cell_type": "code",
      "source": [
        "def Presdt(P1,P2,P3,deltat,deltax):\n",
        "  return(((P1-2*P2+P3)/(deltax*deltax))*deltat)+P2"
      ],
      "metadata": {
        "id": "ktLX3xExQkV3"
      },
      "execution_count": 111,
      "outputs": []
    },
    {
      "cell_type": "code",
      "source": [
        "while t<Tiempo:\n",
        "    for i in range(0,len(P0in)-1):\n",
        "      if i==0:\n",
        "        Pdt[i]=P0in[0]\n",
        "      elif i==len(P0in)-1:\n",
        "        Pdt[i]=P0in[len(P0in)-1]\n",
        "      else:\n",
        "        Pdt[i]=Presdt(P0in[i-1],P0in[i],P0in[i+1],DT,dx)\n",
        "    t=t+DT\n",
        "    P0in=Pdt\n",
        "    P01=np.append(P01,Pdt)"
      ],
      "metadata": {
        "id": "yyEQrBfcQqmF"
      },
      "execution_count": 112,
      "outputs": []
    },
    {
      "cell_type": "code",
      "source": [
        "print (P01)"
      ],
      "metadata": {
        "id": "QbNiPRmIRTdG",
        "outputId": "a75efc3d-81e1-4bd4-c1e9-27a9178f09e9",
        "colab": {
          "base_uri": "https://localhost:8080/"
        }
      },
      "execution_count": 113,
      "outputs": [
        {
          "output_type": "stream",
          "name": "stdout",
          "text": [
            "[   0 3960 3999 3999 3999 3999 3999 3999 3999 3959    0    0 3960 3999\n",
            " 3999 3999 3999 3999 3999 3999 3959    0    0 3920 3998 3998 3998 3998\n",
            " 3998 3998 3998 3919    0    0 3881 3996 3997 3997 3997 3997 3997 3997\n",
            " 3880    0    0 3843 3994 3996 3996 3996 3996 3996 3995 3842    0    0\n",
            " 3806 3992 3995 3995 3995 3995 3995 3993 3805    0    0 3769 3989 3994\n",
            " 3994 3994 3994 3994 3991 3768    0    0 3733 3986 3993 3993 3993 3993\n",
            " 3993 3988 3732    0    0 3698 3983 3992 3992 3992 3992 3992 3985 3697\n",
            "    0    0 3663 3979 3991 3991 3991 3991 3991 3982 3662    0]\n"
          ]
        }
      ]
    },
    {
      "cell_type": "markdown",
      "source": [
        "import math\n",
        "math.sin(1)"
      ],
      "metadata": {
        "id": "rucmWmEHCzaD"
      }
    },
    {
      "cell_type": "markdown",
      "source": [
        "**EJEMPLO #2 DE ECUACION DE DIFUSIVIDAD**"
      ],
      "metadata": {
        "id": "hWdCePPFzrSr"
      }
    },
    {
      "cell_type": "code",
      "source": [
        "# Simulador ecuacion de la difusividad \n",
        "import numpy as np\n",
        "import math\n",
        "L=1000 #distancia total \n",
        "dx=100 #delta x\n",
        "Distance=np.arange(0,L+1,dx) #Crear un vector de las distancias\n",
        "P01=np.ones_like(Distance) #Vector inical de Presiones \n",
        "print(P01)\n"
      ],
      "metadata": {
        "id": "ticy_3AlykS7",
        "outputId": "6b28666c-2258-47d4-c721-8474fdb6becb",
        "colab": {
          "base_uri": "https://localhost:8080/"
        }
      },
      "execution_count": 115,
      "outputs": [
        {
          "output_type": "stream",
          "name": "stdout",
          "text": [
            "[1 1 1 1 1 1 1 1 1 1 1]\n"
          ]
        }
      ]
    },
    {
      "cell_type": "code",
      "source": [
        "PYac=4000\n",
        "PFrontd=0 #Frontera derecha\n",
        "PFronti=0 #Frontera izquierda\n",
        "Tiempo=100000\n",
        "DT=10\n",
        "VectorTiempo=np.arange(0,math.floor(Tiempo/DT)*DT,DT)\n",
        "PXX=np.zeros((math.floor(Tiempo/DT),len(Distance)))\n",
        "Pdt=np.zeros_like(Distance)"
      ],
      "metadata": {
        "id": "uQBJiIw4ymbM"
      },
      "execution_count": 116,
      "outputs": []
    },
    {
      "cell_type": "code",
      "source": [
        "PXX.shape"
      ],
      "metadata": {
        "id": "i2eYRLLUyqGj",
        "outputId": "e9ee3f06-7430-4e32-f6b3-9c4c1ac0b1c7",
        "colab": {
          "base_uri": "https://localhost:8080/"
        }
      },
      "execution_count": 117,
      "outputs": [
        {
          "output_type": "execute_result",
          "data": {
            "text/plain": [
              "(10000, 11)"
            ]
          },
          "metadata": {},
          "execution_count": 117
        }
      ]
    },
    {
      "cell_type": "code",
      "source": [
        "P01=np.ones_like(Distance)\n",
        "P01=P01*PYac\n",
        "P01[0]=PFronti\n",
        "P01[len(P01)-1]=PFrontd\n",
        "P0in=P01 #Condicion inicial \n",
        "Pdt=P01 #Vector de resultados dt\n",
        "t=DT #primera interaccion"
      ],
      "metadata": {
        "id": "P5me1l9bytcs"
      },
      "execution_count": 118,
      "outputs": []
    },
    {
      "cell_type": "code",
      "source": [
        "print(P01)"
      ],
      "metadata": {
        "id": "yk2kV0sgyxnQ",
        "outputId": "4030bf10-1cd4-4191-f77d-8690661549e7",
        "colab": {
          "base_uri": "https://localhost:8080/"
        }
      },
      "execution_count": 119,
      "outputs": [
        {
          "output_type": "stream",
          "name": "stdout",
          "text": [
            "[   0 4000 4000 4000 4000 4000 4000 4000 4000 4000    0]\n"
          ]
        }
      ]
    },
    {
      "cell_type": "code",
      "source": [
        "def Presdt(P1,P2,P3,deltat,deltax):\n",
        "  return(((P1-2*P2+P3)/(deltax*deltax))*deltat)+P2 "
      ],
      "metadata": {
        "id": "CshJ-DQjy5uu"
      },
      "execution_count": 120,
      "outputs": []
    },
    {
      "cell_type": "code",
      "source": [
        "Preal=np.ones_like(PXX)\n",
        "Preal.shape\n",
        "P0in.shape"
      ],
      "metadata": {
        "id": "o9ZAY9zNNUSk",
        "outputId": "733f1f85-4391-472c-bc34-a444d3094852",
        "colab": {
          "base_uri": "https://localhost:8080/"
        }
      },
      "execution_count": 121,
      "outputs": [
        {
          "output_type": "execute_result",
          "data": {
            "text/plain": [
              "(11,)"
            ]
          },
          "metadata": {},
          "execution_count": 121
        }
      ]
    },
    {
      "cell_type": "code",
      "source": [
        "# Ecuacion de la difusividad solucion Real \n",
        "Preal=np.ones_like(PXX)\n",
        "PXX[0]=P0in\n",
        "for j in range(0,math.floor(Tiempo/DT)*DT,DT):\n",
        "  for i in range(0,len(P0in)-1):\n",
        "    k=1\n",
        "    Preal[j][i]=math.sin(math.pi* (i+1)*dx/L) * math.exp( -(k**-1) * ( math.pi **2) * (j+1) * DT / (L**2))"
      ],
      "metadata": {
        "id": "MJFRjO8NNjGF",
        "outputId": "63abd8f5-eb2a-4dc3-82fd-5777abdf86fa",
        "colab": {
          "base_uri": "https://localhost:8080/",
          "height": 200
        }
      },
      "execution_count": 122,
      "outputs": [
        {
          "output_type": "error",
          "ename": "IndexError",
          "evalue": "ignored",
          "traceback": [
            "\u001b[0;31m---------------------------------------------------------------------------\u001b[0m",
            "\u001b[0;31mIndexError\u001b[0m                                Traceback (most recent call last)",
            "\u001b[0;32m<ipython-input-122-9ab44121b2f2>\u001b[0m in \u001b[0;36m<cell line: 4>\u001b[0;34m()\u001b[0m\n\u001b[1;32m      5\u001b[0m   \u001b[0;32mfor\u001b[0m \u001b[0mi\u001b[0m \u001b[0;32min\u001b[0m \u001b[0mrange\u001b[0m\u001b[0;34m(\u001b[0m\u001b[0;36m0\u001b[0m\u001b[0;34m,\u001b[0m\u001b[0mlen\u001b[0m\u001b[0;34m(\u001b[0m\u001b[0mP0in\u001b[0m\u001b[0;34m)\u001b[0m\u001b[0;34m-\u001b[0m\u001b[0;36m1\u001b[0m\u001b[0;34m)\u001b[0m\u001b[0;34m:\u001b[0m\u001b[0;34m\u001b[0m\u001b[0;34m\u001b[0m\u001b[0m\n\u001b[1;32m      6\u001b[0m     \u001b[0mk\u001b[0m\u001b[0;34m=\u001b[0m\u001b[0;36m1\u001b[0m\u001b[0;34m\u001b[0m\u001b[0;34m\u001b[0m\u001b[0m\n\u001b[0;32m----> 7\u001b[0;31m     \u001b[0mPreal\u001b[0m\u001b[0;34m[\u001b[0m\u001b[0mj\u001b[0m\u001b[0;34m]\u001b[0m\u001b[0;34m[\u001b[0m\u001b[0mi\u001b[0m\u001b[0;34m]\u001b[0m\u001b[0;34m=\u001b[0m\u001b[0mmath\u001b[0m\u001b[0;34m.\u001b[0m\u001b[0msin\u001b[0m\u001b[0;34m(\u001b[0m\u001b[0mmath\u001b[0m\u001b[0;34m.\u001b[0m\u001b[0mpi\u001b[0m\u001b[0;34m*\u001b[0m \u001b[0;34m(\u001b[0m\u001b[0mi\u001b[0m\u001b[0;34m+\u001b[0m\u001b[0;36m1\u001b[0m\u001b[0;34m)\u001b[0m\u001b[0;34m*\u001b[0m\u001b[0mdx\u001b[0m\u001b[0;34m/\u001b[0m\u001b[0mL\u001b[0m\u001b[0;34m)\u001b[0m \u001b[0;34m*\u001b[0m \u001b[0mmath\u001b[0m\u001b[0;34m.\u001b[0m\u001b[0mexp\u001b[0m\u001b[0;34m(\u001b[0m \u001b[0;34m-\u001b[0m\u001b[0;34m(\u001b[0m\u001b[0mk\u001b[0m\u001b[0;34m**\u001b[0m\u001b[0;34m-\u001b[0m\u001b[0;36m1\u001b[0m\u001b[0;34m)\u001b[0m \u001b[0;34m*\u001b[0m \u001b[0;34m(\u001b[0m \u001b[0mmath\u001b[0m\u001b[0;34m.\u001b[0m\u001b[0mpi\u001b[0m \u001b[0;34m**\u001b[0m\u001b[0;36m2\u001b[0m\u001b[0;34m)\u001b[0m \u001b[0;34m*\u001b[0m \u001b[0;34m(\u001b[0m\u001b[0mj\u001b[0m\u001b[0;34m+\u001b[0m\u001b[0;36m1\u001b[0m\u001b[0;34m)\u001b[0m \u001b[0;34m*\u001b[0m \u001b[0mDT\u001b[0m \u001b[0;34m/\u001b[0m \u001b[0;34m(\u001b[0m\u001b[0mL\u001b[0m\u001b[0;34m**\u001b[0m\u001b[0;36m2\u001b[0m\u001b[0;34m)\u001b[0m\u001b[0;34m)\u001b[0m\u001b[0;34m\u001b[0m\u001b[0;34m\u001b[0m\u001b[0m\n\u001b[0m",
            "\u001b[0;31mIndexError\u001b[0m: index 10000 is out of bounds for axis 0 with size 10000"
          ]
        }
      ]
    },
    {
      "cell_type": "code",
      "source": [
        "PXX[0]=P01\n",
        "while t<Tiempo:\n",
        "    for i in range(0,len(P0in)-1):\n",
        "      if i==0:\n",
        "        Pdt[i]=P0in[0]\n",
        "      elif i==len(P0in)-1:\n",
        "        Pdt[i]=P0in[len(P0in)-1]\n",
        "      else:\n",
        "        Pdt[i]=Presdt(P0in[i-1],P0in[i],P0in[i+1],DT,dx)\n",
        "    PXX[math.floor(t/DT)]=Pdt\n",
        "    t=t+DT\n",
        "    P0in=Pdt\n",
        "    P01=np.append(P01,Pdt)"
      ],
      "metadata": {
        "id": "gweW74fpy9zM"
      },
      "execution_count": 123,
      "outputs": []
    },
    {
      "cell_type": "code",
      "source": [
        "PXX"
      ],
      "metadata": {
        "id": "2RjR4OADy_RH",
        "outputId": "ce1527e4-f650-4796-e07f-d623cefbab93",
        "colab": {
          "base_uri": "https://localhost:8080/"
        }
      },
      "execution_count": 124,
      "outputs": [
        {
          "output_type": "execute_result",
          "data": {
            "text/plain": [
              "array([[   0., 4000., 4000., ..., 4000., 4000.,    0.],\n",
              "       [   0., 3996., 3999., ..., 3999., 3995.,    0.],\n",
              "       [   0., 3992., 3998., ..., 3998., 3991.,    0.],\n",
              "       ...,\n",
              "       [   0.,    0.,    0., ...,    0.,    0.,    0.],\n",
              "       [   0.,    0.,    0., ...,    0.,    0.,    0.],\n",
              "       [   0.,    0.,    0., ...,    0.,    0.,    0.]])"
            ]
          },
          "metadata": {},
          "execution_count": 124
        }
      ]
    },
    {
      "cell_type": "code",
      "source": [
        "PXX.shape"
      ],
      "metadata": {
        "id": "3HetRrEEzGSV",
        "outputId": "d5747960-0354-4970-ca94-9d90ec10b1af",
        "colab": {
          "base_uri": "https://localhost:8080/"
        }
      },
      "execution_count": 125,
      "outputs": [
        {
          "output_type": "execute_result",
          "data": {
            "text/plain": [
              "(10000, 11)"
            ]
          },
          "metadata": {},
          "execution_count": 125
        }
      ]
    },
    {
      "cell_type": "code",
      "source": [
        "Distance.shape"
      ],
      "metadata": {
        "id": "0qg797xdzLtD",
        "outputId": "286ebad1-4358-4cc9-bb40-475bcfd362b8",
        "colab": {
          "base_uri": "https://localhost:8080/"
        }
      },
      "execution_count": 126,
      "outputs": [
        {
          "output_type": "execute_result",
          "data": {
            "text/plain": [
              "(11,)"
            ]
          },
          "metadata": {},
          "execution_count": 126
        }
      ]
    },
    {
      "cell_type": "code",
      "source": [
        "import matplotlib.pyplot as plt\n",
        "\n",
        "imgplot = plt.imshow(PXX,aspect='auto')\n",
        "plt.colorbar()"
      ],
      "metadata": {
        "id": "3AvEWeJyzSSU",
        "outputId": "af321905-0915-40fe-8221-968f85785f88",
        "colab": {
          "base_uri": "https://localhost:8080/",
          "height": 452
        }
      },
      "execution_count": 127,
      "outputs": [
        {
          "output_type": "execute_result",
          "data": {
            "text/plain": [
              "<matplotlib.colorbar.Colorbar at 0x7fa3e1d2ae90>"
            ]
          },
          "metadata": {},
          "execution_count": 127
        },
        {
          "output_type": "display_data",
          "data": {
            "text/plain": [
              "<Figure size 640x480 with 2 Axes>"
            ],
            "image/png": "[encoded data removed]"
          },
          "metadata": {}
        }
      ]
    },
    {
      "cell_type": "code",
      "source": [
        "c = plt.pcolormesh(Distance,VectorTiempo,PXX)\n",
        "plt.colorbar(c)\n",
        " \n",
        "plt.title('Distribucion de Presiones', fontweight =\"bold\")\n",
        "plt.show()"
      ],
      "metadata": {
        "id": "Z9xFK5tnzbFD",
        "outputId": "620c67fc-27b6-45d7-ecd1-cacb2200586f",
        "colab": {
          "base_uri": "https://localhost:8080/",
          "height": 452
        }
      },
      "execution_count": 128,
      "outputs": [
        {
          "output_type": "display_data",
          "data": {
            "text/plain": [
              "<Figure size 640x480 with 2 Axes>"
            ],
            "image/png": "[encoded data removed]"
          },
          "metadata": {}
        }
      ]
    },
    {
      "cell_type": "code",
      "source": [
        "math.pi"
      ],
      "metadata": {
        "id": "xGOq2-BkKne0",
        "outputId": "7b73b1b4-deac-48d3-af59-077f4c23fe83",
        "colab": {
          "base_uri": "https://localhost:8080/"
        }
      },
      "execution_count": 129,
      "outputs": [
        {
          "output_type": "execute_result",
          "data": {
            "text/plain": [
              "3.141592653589793"
            ]
          },
          "metadata": {},
          "execution_count": 129
        }
      ]
    },
    {
      "cell_type": "code",
      "source": [
        "%matplotlib inline\n",
        "import matplotlib.pyplot as plt\n",
        "\n",
        "from matplotlib import animation, rc\n",
        "from IPython.display import HTML\n",
        "import matplotlib.animation as animation\n",
        "\n",
        "\n",
        "# Primero configure la figura, el eje y el elemento de la trama que queremos animar\n",
        "fig, ax = plt.subplots()\n",
        "\n",
        "ax.set_xlim(( 0, 1000))\n",
        "ax.set_ylim((-1000, 4000))\n",
        "\n",
        "line, = ax.plot([], [], lw=2)\n",
        "#line2, = ax.plot([], [], lw=2)\n",
        "# función de inicialización: trazar el fondo de cada cuadro\n",
        "def init():\n",
        "    line.set_data([], [])\n",
        "    return (line,)\n",
        "\n",
        "#def init():\n",
        "    #line2.set_data([], [])\n",
        "    #return (line2,)\n",
        "\n",
        "# función de animación. Esto se llama secuencialmente\n",
        "def animate(i):\n",
        "    x = Distance\n",
        "    y = PXX[i]\n",
        "    line.set_data(x, y)\n",
        "    #line2.set_data(y, x)\n",
        "    ax.set(title='Presion  days ' + str(i*DT))\n",
        "    return (line,)\n",
        "\n",
        "# llamar al animador. blit=True significa solo volver a dibujar las partes que han cambiado.\n",
        "anim = animation.FuncAnimation(fig, animate, init_func=init,\n",
        "                               frames=range(0,100,200), interval=200, blit=True)\n",
        "\n",
        "HTML(anim.to_html5_video())"
      ],
      "metadata": {
        "id": "sOGs9UCaLOcM",
        "outputId": "0db8e241-85d3-4213-e2cb-4e2827b40ee9",
        "colab": {
          "base_uri": "https://localhost:8080/",
          "height": 936
        }
      },
      "execution_count": 130,
      "outputs": [
        {
          "output_type": "execute_result",
          "data": {
            "text/plain": [
              "<IPython.core.display.HTML object>"
            ],
            "text/html": [
              "<video width=\"640\" height=\"480\" controls autoplay loop>\n",
              "  <source type=\"video/mp4\" src=\"data:video/mp4;base64,AAAAHGZ0eXBNNFYgAAACAGlzb21pc28yYXZjMQAAAAhmcmVlAAAYA21kYXQAAAKtBgX//6ncRem9\n",
              "5tlIt5Ys2CDZI+7veDI2NCAtIGNvcmUgMTU1IHIyOTE3IDBhODRkOTggLSBILjI2NC9NUEVHLTQg\n",
              "QVZDIGNvZGVjIC0gQ29weWxlZnQgMjAwMy0yMDE4IC0gaHR0cDovL3d3dy52aWRlb2xhbi5vcmcv\n",
              "eDI2NC5odG1sIC0gb3B0aW9uczogY2FiYWM9MSByZWY9MyBkZWJsb2NrPTE6MDowIGFuYWx5c2U9\n",
              "MHgzOjB4MTEzIG1lPWhleCBzdWJtZT03IHBzeT0xIHBzeV9yZD0xLjAwOjAuMDAgbWl4ZWRfcmVm\n",
              "PTEgbWVfcmFuZ2U9MTYgY2hyb21hX21lPTEgdHJlbGxpcz0xIDh4OGRjdD0xIGNxbT0wIGRlYWR6\n",
              "b25lPTIxLDExIGZhc3RfcHNraXA9MSBjaHJvbWFfcXBfb2Zmc2V0PS0yIHRocmVhZHM9MyBsb29r\n",
              "YWhlYWRfdGhyZWFkcz0xIHNsaWNlZF90aHJlYWRzPTAgbnI9MCBkZWNpbWF0ZT0xIGludGVybGFj\n",
              "ZWQ9MCBibHVyYXlfY29tcGF0PTAgY29uc3RyYWluZWRfaW50cmE9MCBiZnJhbWVzPTMgYl9weXJh\n",
              "bWlkPTIgYl9hZGFwdD0xIGJfYmlhcz0wIGRpcmVjdD0xIHdlaWdodGI9MSBvcGVuX2dvcD0wIHdl\n",
              "aWdodHA9MiBrZXlpbnQ9MjUwIGtleWludF9taW49NSBzY2VuZWN1dD00MCBpbnRyYV9yZWZyZXNo\n",
              "PTAgcmNfbG9va2FoZWFkPTQwIHJjPWNyZiBtYnRyZWU9MSBjcmY9MjMuMCBxY29tcD0wLjYwIHFw\n",
              "bWluPTAgcXBtYXg9NjkgcXBzdGVwPTQgaXBfcmF0aW89MS40MCBhcT0xOjEuMDAAgAAAFUZliIQA\n",
              "P//+92ifAptaQ3qA5JXFJdtPgf+rZ3B8j+kDAAADAAADAAAEMCOP9CT+H5qTAAADAEQHK5/Ix1mz\n",
              "ACcxkeVBkvPR5Vn5Q6Ap2E51ykX0rCVA+KXI5iM8eHHXEOc8TVyRNwqQTYDf/6K+lpK8E3SWKkj7\n",
              "qyQEBXFfj240ck0oNB4QpNuSv2jti0aGU5Ap24zIyGHhoshgINOWducMRpf0mvpsfTKLoNg3RJpa\n",
              "YvqVOPuoOXe6JcH0q76WEiMOXfTH9HYrvO3qMxOD+aUucgYjwcAL55mIy0yNKt8bL1eLr75eZPzm\n",
              "JYro68R+brHw2qVubBkz2A9s53Su9kjqbhzj2DqZpEI9gb6/CProaYUl2+IbEmtr1AxARbe7luF8\n",
              "yn2FkEubLkUZO0mJCqa9D2jnqsnziOOCeUJm9fo9DE9zGS8N4wSNcQSPdey+kGyCDDrD79F07s/e\n",
              "ic4LHLJ4+wkb0+4I3+Wq82Sosj2wsTCs2FWbh11mNLxx68bRi9JZw58MMYVe1nHdc336mMNBXFW4\n",
              "QvWfJxCqxctiIrDkffaE9eGqWLwsmDrN9q/qwkUu0pPbmEA188PtEdR+L8lYzegdm3RTzT8y3Dbl\n",
              "gKHURqQTN7tCeNcRTMEE9xfeVy4fezdCscoPCT1U2dIy0S0mx6Gw2cwPSFgaYv+3BfclevjvuZZw\n",
              "tZcswYpqydar6up78o/CKvRuBre868sGlg1tRtSYhD8OENzy8f2Ejkqf2HY6l6fmjy2zA96419MQ\n",
              "DzekktYr61NTl4kzaHLlxVbsfOIO5Ts5Bc4fPIWZmkFYra9JN7eKbkqlHNx/f4vThibNKd3lB1N4\n",
              "dOeF4r2+BHkYK+kETjph5v0Gfa37XUcDHaKmoEi8euKcO8Pi4fA2vUHTjm4S15SnvOQ4xWvCY5nv\n",
              "dgdi4AC+iC1VtJQKEArL4BAP56xJf+Ixbb5nGF1JKpJvGgKOxFxIZ86uLPSsW+yvDU8Byoc0yXnj\n",
              "Hm4+Qohy5n+okkRMCjIfZJbjqLkIsGYHN5PNxJlNRAQZ/8I3JVYEeMX1WqHIjHiMnHVIOFmTy3bG\n",
              "rOGGyYgMWrF8a6OE9igr0iTdt4OyPEpszNivPDvqemdPdbLAS4GzcfFuOWJceUhIIbwj0XK0bigo\n",
              "mlHwGYJRVoxoym8mxePsVJ5qKTGHWZloqEtn+drAmLOsscyl/2L1p36xXimraIn/BHIM/OdyCqFk\n",
              "ggREXeKMB8MGgZ0z9YBuubwXAF5Y/saWdVvAa63mTwIVa911OpFu0v1AVNMDP2W3JekQT+UShMBB\n",
              "s8Ux7WCihU6IIsMqOB7odospPXj9De+gC7qUv4cmBD13CXMyBAnmjf0Nl0HN4MYpxKTDgX04Icjt\n",
              "D3LF7WEDmCBKOEk9QOKwAeIqbhXV/wP2tFDgN+slC/TDGP7lW1m+pFqC4xF2WQpkgPgHfuecR6Vl\n",
              "jN5CcqLxeizzigsQwkXq0lbzL5S9YZVR0vmqcHYljm4stSWE1/YnfnJ0TfafEzqGmbRmnpRKtIIH\n",
              "pnkTGlABuelErGPvGZcjUtBWH2PIIZivMTQUQdcEtV3KiK73+iBYNX0ZHaRE7mK94uDzim0l7IH6\n",
              "LHe44Q2j0CDPRUAMvhLn3Kkrs0SN/yUU4kj7/VIe4i+pio+CYkC0W6zYpNoTnpwLYnPscn2AqoAd\n",
              "wK9ZSOcpInqq7EYoDPyDt1pzMC5Nh1RTKbRdq1G+vyvFFn+JqutOC+KAadLxtb621QbaoTmXubXs\n",
              "nUAF7yJVcGpMQWzkvg2Qfs/DwZ9erhBberSOmM5vFY8nXWuVJy/qiV751z5ABT4G8qPsAS6/dDOe\n",
              "vykt/UTg1Rigl6y8d47oy7GwonyoSHHyl9ylReYByjt5gx1CiLbHImFwYS1Fbfr+mqUpVxONqrdp\n",
              "dSsYfSClHUnh7xHornt6/1IzHRcL2lp4AMvAIxTT0QAxOCy2RqyCBCSqgL4yCEY6h8snSXGMYkuF\n",
              "HYnydPL5Y+ocnOtWZmxuwxRSJddXOnIrCf+yM+U0Ed5esqf+C6BWhtZLEJNplH5vPx7Xo3Mlzlc2\n",
              "ohYS77HQWfvlWvYNfAAAAwIfZ53AkW3dIuvraTZgykRDpNj8K+H42+Eol2ZWqQ71qSGWk9fHAV9R\n",
              "g+RpJyjXqvAhP4oeTKAGjupKmfh8LXVLe1ZfVFa74hm7DktLSg822W6BBbiJgUV6rC0Lg2P9+iUK\n",
              "nq9ttLO1jMOI1gw6xHcDBhmPXT7LNdmfNaHmXs3+jbo+Zacs9dpModwMWlkbSsONVQRpLFINntJL\n",
              "Y1c4s/umNLIxIrd8bBI8FsluAAgHN/CVyLKXGl2AfT4/5lkeaZS1DtChLu4NAHzGLDqGD+5GYnuI\n",
              "UiGg8RGObx1mggkUyPJqDbVKNRRUuspAYVXLtL0oJ9RbPHVpJAPk3vcbpZCAHq20pb+ruBej8VKl\n",
              "fA65UbeTFUJ9aAAKYtGV/kKMFmCjNbFScS0pS+xYz3vB/yKw/k+3atlrlBZgZIA1YWQDgxDrWrZX\n",
              "GMVWhzXE1fqMfEyF2RkXhyZ/ikEp3B6IVV9eQC1m29kOisuP23WWg4EthUxxQkkJyegobTvdLp4U\n",
              "CQ1llajf33awf71S0XWnvyGc3ZqsEJotQ+4iIIr9Uoz50M3Njg0beyPnTbzlZk4zUD+IPGDJL2Wr\n",
              "mHxAvXJUkfEFPfdWtTPBfJonFVOzZm2HWI11ooTRPyX7RhDVCYsYVQD0wH7ab6VSixfSTPgnZU7q\n",
              "WzrOMxC4ltGFjSJvhcA5CMulzYJS2qPx06xD9mrEMNz+C4a81UNaV5i4PAwUebw0shE+bv0v/Ja4\n",
              "s+VzpxLYUWbTfvZQa4lU4PQ2Mj3MsvOWLRR4SK1XRo1BlvG7rb2XhJmlna9XKUvMMSXRJ89+5zB/\n",
              "4jHVHaYJeX+LXGDfNIVAh+COEzRGYmWmX3xs4otC8fDJH+yoS/iTNGTxfSnuKACznozHGrSNWTIn\n",
              "1tc5j1/eb/jahnGHYSWaLe9xEHhkjoaOMOPLyl/kW8aQXEukRYhcEbUDJhnUIhD11OhWHNibafp0\n",
              "jouY8fpU5UQ6c1yfLb1lLIeqVYJqjDSl64dkrLhvx3Ml6oH1FXyB4xFcfnmcMrZ1bo7D78CD5ySB\n",
              "y+0cvpObk8wP1Z+VP9sSlEmeKKKDfsqL+YnWahwnEyQEAYv9T5d7CaMb4kf1NRcmDIY3bHPpOF6W\n",
              "UAOoDpXVXDQrHl5zw0oPbN0xE6Hyd2s/8Y3YuVTg3VWDtn8nOSVjNjMhf7ECXeT0DzBD1WIb7UHy\n",
              "wsLQXyc6Y1+20rKqAUYkWwCjlF1Tm0NAs84pn6M7kP9ShzHe+6h1hfPMmOI7WuAUy8t//3JhXyBm\n",
              "TwvxLQmChMzyEQeDbbjGjUEP915h6819hgu4TSNbf1pmDYVSd9ITh4PVxvuDZhZScVI/aFih4FkY\n",
              "T6Mk+CNZlJ53Ef+d1obIOAWYhkac3HRUefdDnRGEZUKbAEYbhGABlhWS+6E1a4z0pkVz6lh8Fc6B\n",
              "ZNrBenY+ImicoY2MyihgGxFVlcwJlDY05dzf1WNPgQpDlDR7IhH5VzqKIcbR/GxT9O9aG3nOiT+J\n",
              "1KjBX+hjxsxlCcsdbieY9Ghmvf4TPnjVQ0N2+fnvG+P94+FGxux6f17qswJy/SysNxRLJxPxPk/P\n",
              "egpzY76HpxyEpJUOirrSnfTSAezfi5zpuAqNNEz9YLhglpdLsnR0hch6uqp+hIwMwyu+r2Mjo2j1\n",
              "DMmUxB3iMJdq8nA6b8miboLmDVpHrWcSPSXMsaxVbfGQPd4Bx1YI+fmLqvqQ/oUENWjB0wBcvhhZ\n",
              "5Mj90NaanYnML+twZS5PLtDK+Ns8qVIitnqRWs9zkXahPdjCvC4QK5BMbTukVLivXcC2RtRi9/IO\n",
              "CZ1+rLFdAGFS+z+KvF/fgXVyDN91/OliRgxHH+bQQCMyw7uYTb8quCbio3axlpd33OhUBJwIWAOt\n",
              "9EquJRWkgzCVrqni6n9jOptFmjqEaCvXCXLmLq8SESJMmlGw3ImzcsqTNyDe1bbZa4oiOMYL9gra\n",
              "D6RSgTKfTbSf/e+M8B0xnlYtrduCyW27KDO7ibgcuLZC84erla+ZTu3jlkXb/VqnYoyT064EIz0B\n",
              "2T5sk6OULtW8FpjEeQsu2jMbkA/tku7f9bHhXwjT1oJSA2cYw0LDaRn+h1uSoOgtWzxFAGAQxe0/\n",
              "69Fq2yuoOVzdeYZ2Heffdf0jcGPbWE7iBreHRGK+oucpW++YfwAx2cLz6D9cKT3cY7/TCxL+GP4t\n",
              "cE8Bqap4mCEXYgA7SSaGyZlOsQXVx4Sx1YROg6QuyeDP1OQ3EZLgbL3HRbJjNEGGH0lw9IYTTdjp\n",
              "sKpcIFi8vazSpnj8QDVvJfLasdk0p0ra0pwJPGscxMcEzRYqRj2rAc+Gy//eOIDztraYAe/vLWIr\n",
              "5xqCN+ngfGFC5y1zKocU9pGt2tyJxd0CTwU2tn4haueXrdTZGHoFH/8aak32G73a6dchB498mp5c\n",
              "z+Z8e1KlqTK/V32vJIn3/i+RU6aVM/W3rZODKyfsnEMo57rbnoJcJhPGy60QYcl7kMU/fmSvERCP\n",
              "/3IADxsUx09aLaqWY+qspoq1JNGsyKNot3a3wVAOMEsvHtfHvd/3zNPEBKvHFP1MyHOssgAAAwMN\n",
              "WbdxIzbqeDvgRdezNAQDz5RHKqk+9YNKPnxsSEESS1nS/nAsdazU+BRhgPGBQthcuSG0B/5sHqAV\n",
              "AieR0LZpxvwA4HW0/btcQfoBG949NihIxX8rorWY+sluONug7nKIxb6WAAGhmYPEjOA13i5Q1yAt\n",
              "BWZI/HMhub/shn2gddLOVUnRgVs19tscLVKPp9m8DGbNQ53wwmliGE9NNIvzE/VwfPpDQ6HTk9fC\n",
              "3VtxjWcJkpMptAY3WVGEB2AdlYIN/Cwrkeu3932G6+S75g0LE3gkgJluC7wdZCzk9ISirwpkTbc2\n",
              "Fmd0dV5JG1vUIuAZUi8CHVfCM2yUg+nWm7jWRnu9nTOsAONHdFkilkKBRCc0wAhAFEkFLtMKgBH0\n",
              "OEEEklGmatv/zERa3Ib0Tm2+GTb4UyH5MfhS2HoZZvUox0FTSJUbeyKlmD0lqYqJQ80B2GX1lt9T\n",
              "fi8jlVMVhsJqHsmu7n1EulFKwlc8QPEvLL79FtBnDS5FgTkBo0+IihnPRydgqS6qpUJV8uCDMrzA\n",
              "t8tF0nIg3Vyt3EmVpLn+pvYUQF2HQlaYDJ1PKSCdCLK+2+5pgZ8EeVL+IGRebAwdfib5y8vvInqV\n",
              "lhqqC+sbJILmNbEroeS+FXydvleAXmqRP8O6YX6KAVIK7jup9cNtS5IYcotel71JhVLo2fPMYyTr\n",
              "TSS3nAiXKAWYQ/0NgAzgvgFjunj/ApTq7DUb3b9Pf5AwIlv8TKiBDIjRcgR8c/fqL07HHPztiz2w\n",
              "CJS8cOK5BkYXFb/IPkjKwiAKRD3aF5xvmUohWuBED8lUXgsAHr6uRqGmZE4xgYb3ub6gGdbC8mlG\n",
              "DL8riRgtkzu444uS5v0urLUXm85CvsV0mNYQjijQC33bqpi5y3+2ObjdtTgyeHQam9qUVjYWPRA5\n",
              "VtqKgftyx51QWRTUb+Ofu2v7/8xedblnUovxGiGLQfPhIzUgAyrMhLbzpScBTYoMJ6+0HBy95/vZ\n",
              "IZ2MZES9Bjp4d/BjMkohyAp7c88lVLvN+jt9IWT2s3dzT2qK+24z9QOFimy+j/ZRnEA6DkkITKX2\n",
              "yfs5XWG+dlbNwVPcWWhB8891cDRNKRNgnpLh4SaeFlJTIpb/TkW+nMv5Dp9Trh0N/lDd/M71QgcD\n",
              "ad+7QQd0a4f0TaegB1AAMmfEJbGNegBHneiQGOSUJfp0WYG327gG9JRZnYpcIdonEhAmbSsh94qr\n",
              "qmQfYVP4LF7rSpFbj/bjioZ3CjSF7ny89fbBErXFRVFK994Xj85DWe5OhTIXoCxRgNky+b1U0B/Q\n",
              "T9Y5XMKE8qGrkn4I1qSAfWjjbJ6VrrM3rizBFubl9MRAnD3Z7R73+OXFpfv6GwrRgQimQ+Vkq51b\n",
              "lq1uye0g3D6E5xidpE/QJSODTjpERxB33BT45+tOukKw2SF30KD02RYi9Ghcu9XY/73WlXnBjiq+\n",
              "7ubimSlUF4UkBwadbX64vQyrItwdXrwrRCAPXAWN6D5xsCmHeySJ8WuaQ8nUfqey95Vyj9ED1yu3\n",
              "gou+YK9ATMF24kDvo3cGxJ1cQmqtdqrr6IrUY913kRlD//p0HU94o5aODXeUBAi7tIVBNG1Ia2+z\n",
              "PQUqwjZcGlkOF3R6GktsQ85TWzcJwBjr92ONNbc3GUzAloCmoZt0FKuV2zWLIItdf8ZDrlNaJaG5\n",
              "zP+DwBMEaiU+G8j4nWUlB9+hiA+c2R3+AkbHVvtrYHgItFxJoStb+GPeVnqxU4vF5gKYFd+JWwy+\n",
              "NNVNcdu6d5vlR99/TDTj3mue4NAjOR3MEL/wVNra9oHPGD5waxQI4e74U5oXvICLOK5EGvP7NlCF\n",
              "N/kZZ04f4EkhLYbbmi7iRqRQ4K2c7tzrkIqTFUdGrNocppMqeqLPnoDGM+09LW/lGa1i8XZ96rkC\n",
              "u5RhBiuqzGDbgEulIfiV+wJPe0Rs1BO/8+luIof/YbxIDoqJTZLR6doC3msXfP0wcB0s/sXz/tpE\n",
              "OIdPBLYimJUMSvILbPCEbcNZMvo7LxIjxrNIoOOXRfQbleNk//sTCJYq4erdpvF0NnAzK6o0pYtV\n",
              "Yo+U0yRCoHcKD9Mx+8657qQ3EfsOT5yeg8ie5oRJuDm7IYei5SAMfOKdFSaroaZFin9wN2RgbjhL\n",
              "3pq9Ind9AQAjn3YW8TKl9ABkSeTlSMDOwVjTm2i+GKF6sWHTbUJVWrFeXA4AJhMx7jh56zCRSxiE\n",
              "CVfpVnJ5UsUPFMwywQKwoPZaDwPz4sKcT1XMXQ5dvQge3//G5CfwYU5kPFlm+QTKhOpNLUlhc++U\n",
              "FhFE4Z+DMnGpS/m0Zfnok+XqrU3zHGo+cK0rQeVCdcWibnPoqN9RYO04/lIu27OClUu0I9Tum3gs\n",
              "Z1F+ghOVOjbeKS9egGD7DaN1CW1IQVipbhzRet+pfGJmQP0+9S0cabCCNJcPhClKUNh2MrNcTOWV\n",
              "zFFCzN872pszBQ6aKBOuyXqAFw08/j4i/3UtC5RGU+wxudMZp7QWhdosiBuQwoWev1X66XDT7DQT\n",
              "A+/vRhDaDRyJGBLwl0mILuURPSTtCFN6GHsdKujdWVOh6WWTnj5zEzwWu9feGKbX06x+fjvR2RlA\n",
              "beKqqLCWwZkAAKncgIj4y8rKbLp1qsgAAElBAAADCm1vb3YAAABsbXZoZAAAAAAAAAAAAAAAAAAA\n",
              "A+gAAADIAAEAAAEAAAAAAAAAAAAAAAABAAAAAAAAAAAAAAAAAAAAAQAAAAAAAAAAAAAAAAAAQAAA\n",
              "AAAAAAAAAAAAAAAAAAAAAAAAAAAAAAAAAAAAAAIAAAI0dHJhawAAAFx0a2hkAAAAAwAAAAAAAAAA\n",
              "AAAAAQAAAAAAAADIAAAAAAAAAAAAAAAAAAAAAAABAAAAAAAAAAAAAAAAAAAAAQAAAAAAAAAAAAAA\n",
              "AAAAQAAAAAKAAAAB4AAAAAAAJGVkdHMAAAAcZWxzdAAAAAAAAAABAAAAyAAAAAAAAQAAAAABrG1k\n",
              "aWEAAAAgbWRoZAAAAAAAAAAAAAAAAAAAKAAAAAgAVcQAAAAAAC1oZGxyAAAAAAAAAAB2aWRlAAAA\n",
              "AAAAAAAAAAAAVmlkZW9IYW5kbGVyAAAAAVdtaW5mAAAAFHZtaGQAAAABAAAAAAAAAAAAAAAkZGlu\n",
              "ZgAAABxkcmVmAAAAAAAAAAEAAAAMdXJsIAAAAAEAAAEXc3RibAAAALNzdHNkAAAAAAAAAAEAAACj\n",
              "YXZjMQAAAAAAAAABAAAAAAAAAAAAAAAAAAAAAAKAAeAASAAAAEgAAAAAAAAAAQAAAAAAAAAAAAAA\n",
              "AAAAAAAAAAAAAAAAAAAAAAAAAAAAABj//wAAADFhdmNDAWQAFv/hABhnZAAWrNlAoD2hAAADAAEA\n",
              "AAMACg8WLZYBAAZo6+PLIsAAAAAcdXVpZGtoQPJfJE/FujmlG88DI/MAAAAAAAAAGHN0dHMAAAAA\n",
              "AAAAAQAAAAEAAAgAAAAAHHN0c2MAAAAAAAAAAQAAAAEAAAABAAAAAQAAABRzdHN6AAAAAAAAF/sA\n",
              "AAABAAAAFHN0Y28AAAAAAAAAAQAAACwAAABidWR0YQAAAFptZXRhAAAAAAAAACFoZGxyAAAAAAAA\n",
              "AABtZGlyYXBwbAAAAAAAAAAAAAAAAC1pbHN0AAAAJal0b28AAAAdZGF0YQAAAAEAAAAATGF2ZjU4\n",
              "LjI5LjEwMA==\n",
              "\">\n",
              "  Your browser does not support the video tag.\n",
              "</video>"
            ]
          },
          "metadata": {},
          "execution_count": 130
        },
        {
          "output_type": "display_data",
          "data": {
            "text/plain": [
              "<Figure size 640x480 with 1 Axes>"
            ],
            "image/png": "[encoded data removed]"
          },
          "metadata": {}
        }
      ]
    }
  ]
}