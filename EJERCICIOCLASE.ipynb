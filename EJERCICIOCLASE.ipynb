{
  "nbformat": 4,
  "nbformat_minor": 0,
  "metadata": {
    "colab": {
      "provenance": [],
      "authorship_tag": "ABX9TyNxGgBfJkvtPI0eonGp/Pdd",
      "include_colab_link": true
    },
    "kernelspec": {
      "name": "python3",
      "display_name": "Python 3"
    },
    "language_info": {
      "name": "python"
    }
  },
  "cells": [
    {
      "cell_type": "markdown",
      "metadata": {
        "id": "view-in-github",
        "colab_type": "text"
      },
      "source": [
        "<a href=\"https://colab.research.google.com/github/JorgeGalarza777/SIM_YAC_GALARZA_UPSE2023/blob/main/EJERCICIOCLASE.ipynb\" target=\"_parent\"><img src=\"https://colab.research.google.com/assets/colab-badge.svg\" alt=\"Open In Colab\"/></a>"
      ]
    },
    {
      "cell_type": "code",
      "execution_count": 1,
      "metadata": {
        "id": "nPlhn8Cd-6gy"
      },
      "outputs": [],
      "source": [
        "import numpy as np\n",
        "import math"
      ]
    },
    {
      "cell_type": "code",
      "source": [
        "L=10000\n",
        "dx=250\n",
        "Tiempo=100000\n",
        "DT=1\n",
        "K=50 #permeabilidad MD\n",
        "por=0.2 #porosidad\n",
        "vis=1 #centipoise\n",
        "Beta=1\n",
        "CompTotal=1**-6 #ps1-1\n",
        "A=200000 #ft^2"
      ],
      "metadata": {
        "id": "SPzW5x4x_As7"
      },
      "execution_count": 2,
      "outputs": []
    },
    {
      "cell_type": "code",
      "source": [
        "Alpha=K/(vis*por*CompTotal)\n",
        "Alpha\n",
        "Eta=(Alpha*DT)/(dx**2)\n",
        "Eta"
      ],
      "metadata": {
        "colab": {
          "base_uri": "https://localhost:8080/"
        },
        "id": "i4cXUMei_Coa",
        "outputId": "911dbd4b-6ee3-440d-c069-c80e2656355b"
      },
      "execution_count": 3,
      "outputs": [
        {
          "output_type": "execute_result",
          "data": {
            "text/plain": [
              "0.004"
            ]
          },
          "metadata": {},
          "execution_count": 3
        }
      ]
    },
    {
      "cell_type": "code",
      "source": [
        "#Esquema Explicito\n",
        "def Presdt(P0,P1,P2,Eta):\n",
        "  Pdt=P1+Eta*(P0-2*P1+P2)\n",
        "  return Pdt\n",
        "\n",
        "Pexplicita=np.zeros((Tiempo//DT,L//dx))"
      ],
      "metadata": {
        "id": "UiMY-OVV_Es6"
      },
      "execution_count": 4,
      "outputs": []
    },
    {
      "cell_type": "code",
      "source": [
        "#Condiciones Iniciales\n",
        "Pyac=1000 #psi\n",
        "Piz=500 #psi\n",
        "Pder=0 #psi\n",
        "Pin=np.ones((L//dx)+2)\n",
        "Pres=np.zeros((L//dx)+2)\n",
        "Pres2=np.zeros((L//dx)+2)\n",
        "Pin=Pin*Pyac\n",
        "Pin[0]=2*Piz-Pin[1]\n",
        "Pin[len(Pin)-1]=2*Pder-Pin[len(Pin)-2]\n",
        "\n",
        "Pin.shape"
      ],
      "metadata": {
        "colab": {
          "base_uri": "https://localhost:8080/"
        },
        "id": "VN2mdA7c_I86",
        "outputId": "8e390091-22b2-4974-a338-b19e03fec2b3"
      },
      "execution_count": 5,
      "outputs": [
        {
          "output_type": "execute_result",
          "data": {
            "text/plain": [
              "(42,)"
            ]
          },
          "metadata": {},
          "execution_count": 5
        }
      ]
    },
    {
      "cell_type": "code",
      "source": [
        "t=DT\n",
        "Pexplicita[0]=Pin\n",
        "while t<Tiempo:\n",
        "  for i in range(0,len(Pin)-1):\n",
        "    if i==0:\n",
        "      Pres[i]=2*Piz-Pin[1]\n",
        "    elif i==len(Pin)-1:\n",
        "      Pres[i]=2*Pder-Pin[len(Pin)-2]\n",
        "    else:\n",
        "      Pres[i]=Presdt(Pin[i-1],Pin[i],Pin[i+1],Eta)\n",
        "  Pexplicita[t//DT]=Pres\n",
        "  t=t+DT\n",
        "  Pin=Pres"
      ],
      "metadata": {
        "colab": {
          "base_uri": "https://localhost:8080/",
          "height": 235
        },
        "id": "_i79YQ9mAAjL",
        "outputId": "f967ce91-938c-40b3-bbab-1dc4cf38a50f"
      },
      "execution_count": 8,
      "outputs": [
        {
          "output_type": "error",
          "ename": "ValueError",
          "evalue": "ignored",
          "traceback": [
            "\u001b[0;31m---------------------------------------------------------------------------\u001b[0m",
            "\u001b[0;31mValueError\u001b[0m                                Traceback (most recent call last)",
            "\u001b[0;32m<ipython-input-8-5f1ff6b17ab2>\u001b[0m in \u001b[0;36m<cell line: 2>\u001b[0;34m()\u001b[0m\n\u001b[1;32m      1\u001b[0m \u001b[0mt\u001b[0m\u001b[0;34m=\u001b[0m\u001b[0mDT\u001b[0m\u001b[0;34m\u001b[0m\u001b[0;34m\u001b[0m\u001b[0m\n\u001b[0;32m----> 2\u001b[0;31m \u001b[0mPexplicita\u001b[0m\u001b[0;34m[\u001b[0m\u001b[0;36m0\u001b[0m\u001b[0;34m]\u001b[0m\u001b[0;34m=\u001b[0m\u001b[0mPin\u001b[0m\u001b[0;34m\u001b[0m\u001b[0;34m\u001b[0m\u001b[0m\n\u001b[0m\u001b[1;32m      3\u001b[0m \u001b[0;32mwhile\u001b[0m \u001b[0mt\u001b[0m\u001b[0;34m<\u001b[0m\u001b[0mTiempo\u001b[0m\u001b[0;34m:\u001b[0m\u001b[0;34m\u001b[0m\u001b[0;34m\u001b[0m\u001b[0m\n\u001b[1;32m      4\u001b[0m   \u001b[0;32mfor\u001b[0m \u001b[0mi\u001b[0m \u001b[0;32min\u001b[0m \u001b[0mrange\u001b[0m\u001b[0;34m(\u001b[0m\u001b[0;36m0\u001b[0m\u001b[0;34m,\u001b[0m\u001b[0mlen\u001b[0m\u001b[0;34m(\u001b[0m\u001b[0mPin\u001b[0m\u001b[0;34m)\u001b[0m\u001b[0;34m-\u001b[0m\u001b[0;36m1\u001b[0m\u001b[0;34m)\u001b[0m\u001b[0;34m:\u001b[0m\u001b[0;34m\u001b[0m\u001b[0;34m\u001b[0m\u001b[0m\n\u001b[1;32m      5\u001b[0m     \u001b[0;32mif\u001b[0m \u001b[0mi\u001b[0m\u001b[0;34m==\u001b[0m\u001b[0;36m0\u001b[0m\u001b[0;34m:\u001b[0m\u001b[0;34m\u001b[0m\u001b[0;34m\u001b[0m\u001b[0m\n",
            "\u001b[0;31mValueError\u001b[0m: could not broadcast input array from shape (42,) into shape (40,)"
          ]
        }
      ]
    }
  ]
}