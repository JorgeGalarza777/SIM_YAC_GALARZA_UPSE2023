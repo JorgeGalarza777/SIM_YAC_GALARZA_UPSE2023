{
  "nbformat": 4,
  "nbformat_minor": 0,
  "metadata": {
    "colab": {
      "provenance": [],
      "authorship_tag": "ABX9TyPeP4X+gGgjSnyeYkxpz1ev",
      "include_colab_link": true
    },
    "kernelspec": {
      "name": "python3",
      "display_name": "Python 3"
    },
    "language_info": {
      "name": "python"
    }
  },
  "cells": [
    {
      "cell_type": "markdown",
      "metadata": {
        "id": "view-in-github",
        "colab_type": "text"
      },
      "source": [
        "<a href=\"https://colab.research.google.com/github/JorgeGalarza777/SIM_YAC_GALARZA_UPSE2023/blob/main/EJEMPLOYACIMIENTO2.ipynb\" target=\"_parent\"><img src=\"https://colab.research.google.com/assets/colab-badge.svg\" alt=\"Open In Colab\"/></a>"
      ]
    },
    {
      "cell_type": "code",
      "execution_count": null,
      "metadata": {
        "id": "xdk-q2fNaIMo"
      },
      "outputs": [],
      "source": [
        "#hola mundo"
      ]
    },
    {
      "cell_type": "code",
      "source": [],
      "metadata": {
        "id": "aWP_7RM5aYN8"
      },
      "execution_count": null,
      "outputs": []
    }
  ]
}