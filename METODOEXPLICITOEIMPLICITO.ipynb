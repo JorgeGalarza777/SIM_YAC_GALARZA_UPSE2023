{
  "nbformat": 4,
  "nbformat_minor": 0,
  "metadata": {
    "colab": {
      "provenance": [],
      "authorship_tag": "ABX9TyPCSfs6RH48w2+2LCBuIygS",
      "include_colab_link": true
    },
    "kernelspec": {
      "name": "python3",
      "display_name": "Python 3"
    },
    "language_info": {
      "name": "python"
    }
  },
  "cells": [
    {
      "cell_type": "markdown",
      "metadata": {
        "id": "view-in-github",
        "colab_type": "text"
      },
      "source": [
        "<a href=\"https://colab.research.google.com/github/JorgeGalarza777/SIM_YAC_GALARZA_UPSE2023/blob/main/METODOEXPLICITOEIMPLICITO.ipynb\" target=\"_parent\"><img src=\"https://colab.research.google.com/assets/colab-badge.svg\" alt=\"Open In Colab\"/></a>"
      ]
    },
    {
      "cell_type": "markdown",
      "source": [
        "**MÉTODOS EXPLÍCITOS E IMPLÍCITOS DE LA ECUACIÓN DE LA DIFUSIVIDAD**"
      ],
      "metadata": {
        "id": "Bdb7HVS5trA1"
      }
    },
    {
      "cell_type": "code",
      "execution_count": null,
      "metadata": {
        "id": "uAa7dmWSpP0o"
      },
      "outputs": [],
      "source": [
        "import numpy as np\n",
        "import math"
      ]
    },
    {
      "cell_type": "code",
      "source": [
        "L=10000\n",
        "dx=2500\n",
        "Tiempo=100000\n",
        "DT=1\n",
        "K=50 #permeabilidad MD\n",
        "por=0.2 #porosidad\n",
        "vis=1 #centipoise\n",
        "Beta=1\n",
        "CompTotal=1**-6 #ps1-1\n",
        "A=200000 #ft^2\n"
      ],
      "metadata": {
        "id": "vbYxrCBjpbVr"
      },
      "execution_count": null,
      "outputs": []
    },
    {
      "cell_type": "code",
      "source": [
        "Alpha=K/(vis*por*CompTotal)\n",
        "Alpha\n",
        "Eta=(Alpha*DT)/(dx**2)\n",
        "Eta"
      ],
      "metadata": {
        "colab": {
          "base_uri": "https://localhost:8080/"
        },
        "id": "FL5VQ_aKq-fL",
        "outputId": "ca7b4da2-5e9c-4a6c-d74a-085704a5730b"
      },
      "execution_count": null,
      "outputs": [
        {
          "output_type": "execute_result",
          "data": {
            "text/plain": [
              "4e-05"
            ]
          },
          "metadata": {},
          "execution_count": 41
        }
      ]
    },
    {
      "cell_type": "code",
      "source": [
        "#Esquema Explicito\n",
        "def Presdt(P0,P1,P2,Eta):\n",
        "  Pdt=P1+Eta*(P0-2*P1+P2)\n",
        "  return Pdt\n",
        "\n",
        "Pexplicita=np.zeros((Tiempo//DT,L//dx))"
      ],
      "metadata": {
        "id": "xCQrQUJNqV87"
      },
      "execution_count": null,
      "outputs": []
    },
    {
      "cell_type": "code",
      "source": [
        "#Condiciones Iniciales\n",
        "Pyac=1000 #psi\n",
        "Piz=2000 #psi\n",
        "Pder=0 #psi\n",
        "Pin=np.ones(L//dx)\n",
        "Pres=np.zeros(L//dx)\n",
        "Pin=Pin*Pyac\n",
        "Pin[0]=Piz\n",
        "Pin[len(Pin)-1]=Pder\n",
        "\n",
        "Pin"
      ],
      "metadata": {
        "colab": {
          "base_uri": "https://localhost:8080/"
        },
        "id": "3tAEqVgcxCEz",
        "outputId": "a770b405-c44d-4914-85c0-be0976788fb1"
      },
      "execution_count": null,
      "outputs": [
        {
          "output_type": "execute_result",
          "data": {
            "text/plain": [
              "array([2000., 1000., 1000.,    0.])"
            ]
          },
          "metadata": {},
          "execution_count": 43
        }
      ]
    },
    {
      "cell_type": "code",
      "source": [
        "t=DT\n",
        "Pexplicita[0]=Pin\n",
        "Pexplicita.shape\n",
        "while t<Tiempo:\n",
        "  for i in range(0,len(Pin)-1):\n",
        "    if i==0:\n",
        "      Pres[i]=Pin[0]\n",
        "    elif i==len(Pin)-1:\n",
        "      Pres[i]=Pin[len(Pin)-1]\n",
        "    else:\n",
        "      Pres[i]=Presdt(Pin[i-1],Pin[i],Pin[i+1],Eta)\n",
        "  Pexplicita[t//DT]=Pres\n",
        "  t=t+DT\n",
        "  Pin=Pres"
      ],
      "metadata": {
        "id": "lIbY6v2OyvjK"
      },
      "execution_count": null,
      "outputs": []
    },
    {
      "cell_type": "code",
      "source": [
        "Pexplicita"
      ],
      "metadata": {
        "id": "g8v9Wxfm80qS",
        "outputId": "38585082-90cf-461f-b12d-1c35894d3822",
        "colab": {
          "base_uri": "https://localhost:8080/"
        }
      },
      "execution_count": null,
      "outputs": [
        {
          "output_type": "execute_result",
          "data": {
            "text/plain": [
              "array([[2000.        , 1000.        , 1000.        ,    0.        ],\n",
              "       [2000.        , 1000.04      ,  999.96      ,    0.        ],\n",
              "       [2000.        , 1000.0799952 ,  999.9200064 ,    0.        ],\n",
              "       ...,\n",
              "       [2000.        , 1333.33146859,  666.66889757,    0.        ],\n",
              "       [2000.        , 1333.33146883,  666.66889732,    0.        ],\n",
              "       [2000.        , 1333.33146907,  666.66889706,    0.        ]])"
            ]
          },
          "metadata": {},
          "execution_count": 45
        }
      ]
    },
    {
      "cell_type": "code",
      "source": [
        "#Método Implicito\n",
        "Pexplicita=np.zeros((Tiempo//DT,L//dx))\n",
        "Pimplicita=np.zeros((Tiempo//DT,L//dx))\n",
        "\n",
        "Pin=np.ones(L//dx)\n",
        "Pres=np.zeros(L//dx)\n",
        "Pin=Pin*Pyac\n",
        "Pin[0]=Piz\n",
        "Pin[len(Pin)-1]=Pder\n",
        "N=L//dx\n",
        "Matriz_resolucion=np.zeros([N-2,N-2])"
      ],
      "metadata": {
        "id": "5poi6SglCw4t"
      },
      "execution_count": 56,
      "outputs": []
    },
    {
      "cell_type": "code",
      "source": [
        "for i in range(N-2): #se pone -2 porque es matriz de resolución\n",
        "  Matriz_resolucion[i,i]=1+2*Eta\n",
        "  if i>0:\n",
        "    Matriz_resolucion[i,i-1]=-Eta\n",
        "  if i<(N-3):\n",
        "    Matriz_resolucion[i,i+1]=-Eta"
      ],
      "metadata": {
        "id": "ZCDdN8fUFaG7"
      },
      "execution_count": 57,
      "outputs": []
    },
    {
      "cell_type": "code",
      "source": [
        "Pcal=np.zeros([N-2])\n",
        "Pcal=np.linalg.solve(Matriz_resolucion,Pin[1:-1])"
      ],
      "metadata": {
        "id": "V01lI0yTKkE6"
      },
      "execution_count": 58,
      "outputs": []
    },
    {
      "cell_type": "code",
      "source": [
        "Pcal"
      ],
      "metadata": {
        "id": "j-QiWBwPMZSZ",
        "outputId": "065b1f8e-5327-4e4e-8c0f-dda080aa29b8",
        "colab": {
          "base_uri": "https://localhost:8080/"
        }
      },
      "execution_count": 59,
      "outputs": [
        {
          "output_type": "execute_result",
          "data": {
            "text/plain": [
              "array([999.9600016, 999.9600016])"
            ]
          },
          "metadata": {},
          "execution_count": 59
        }
      ]
    },
    {
      "cell_type": "code",
      "source": [
        "Pres=np.concatenate(([Piz],Pcal,[Pder]))\n",
        "Pres"
      ],
      "metadata": {
        "id": "USR2_-kzLWd5",
        "outputId": "2efa0481-9eab-4739-fb21-aff369f56ff1",
        "colab": {
          "base_uri": "https://localhost:8080/"
        }
      },
      "execution_count": 60,
      "outputs": [
        {
          "output_type": "execute_result",
          "data": {
            "text/plain": [
              "array([2000.       ,  999.9600016,  999.9600016,    0.       ])"
            ]
          },
          "metadata": {},
          "execution_count": 60
        }
      ]
    },
    {
      "cell_type": "code",
      "source": [
        "Pimplicita[0]=Pin\n",
        "while t<Tiempo:\n",
        "  Pcal=np.linalg.solve(Matriz_resolucion,Pin[1:-1])\n",
        "  Pres=np.concatenate(([Piz],Pcal,[Pder]))\n",
        "  Pimplicita[t//DT]=Pres\n",
        "  Pin=Pres\n",
        "  t=t+DT"
      ],
      "metadata": {
        "id": "L6Lr0cxwL4e5"
      },
      "execution_count": 61,
      "outputs": []
    },
    {
      "cell_type": "code",
      "source": [
        "Pimplicita"
      ],
      "metadata": {
        "id": "ysv5yEmBTvkn",
        "outputId": "5cd587ec-2528-4ddf-cf38-5aa2b5fa11c6",
        "colab": {
          "base_uri": "https://localhost:8080/"
        }
      },
      "execution_count": 62,
      "outputs": [
        {
          "output_type": "execute_result",
          "data": {
            "text/plain": [
              "array([[2000., 1000., 1000.,    0.],\n",
              "       [   0.,    0.,    0.,    0.],\n",
              "       [   0.,    0.,    0.,    0.],\n",
              "       ...,\n",
              "       [   0.,    0.,    0.,    0.],\n",
              "       [   0.,    0.,    0.,    0.],\n",
              "       [   0.,    0.,    0.,    0.]])"
            ]
          },
          "metadata": {},
          "execution_count": 62
        }
      ]
    }
  ]
}