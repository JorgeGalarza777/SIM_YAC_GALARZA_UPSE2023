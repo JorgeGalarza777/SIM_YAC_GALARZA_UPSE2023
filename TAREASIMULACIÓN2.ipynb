{
  "nbformat": 4,
  "nbformat_minor": 0,
  "metadata": {
    "colab": {
      "provenance": [],
      "authorship_tag": "ABX9TyMMpnD18cO7ZdoKJ2IoQHqW",
      "include_colab_link": true
    },
    "kernelspec": {
      "name": "python3",
      "display_name": "Python 3"
    },
    "language_info": {
      "name": "python"
    }
  },
  "cells": [
    {
      "cell_type": "markdown",
      "metadata": {
        "id": "view-in-github",
        "colab_type": "text"
      },
      "source": [
        "<a href=\"https://colab.research.google.com/github/JorgeGalarza777/SIM_YAC_GALARZA_UPSE2023/blob/main/TAREASIMULACI%C3%93N2.ipynb\" target=\"_parent\"><img src=\"https://colab.research.google.com/assets/colab-badge.svg\" alt=\"Open In Colab\"/></a>"
      ]
    },
    {
      "cell_type": "code",
      "execution_count": null,
      "metadata": {
        "id": "3JoRsvxZCFLk"
      },
      "outputs": [],
      "source": [
        "#Hola mundo"
      ]
    },
    {
      "cell_type": "markdown",
      "source": [
        "**TAREA DE ECUACIÓN DE LA DIFUSIVIDAD**"
      ],
      "metadata": {
        "id": "4ZWIxOo6CQ_G"
      }
    },
    {
      "cell_type": "markdown",
      "source": [
        "**EVALUACIÓN DE LA ECUACIÓN DE LA DIFUSIVIDAD EN FUNCIÓN DE LA PRESIÓN CON 5 CELDAS Y UN DT=10000 DÍAS**"
      ],
      "metadata": {
        "id": "aJ5WsItasZTd"
      }
    },
    {
      "cell_type": "code",
      "source": [
        "import numpy as np\n",
        "L=1000 #distancia total\n",
        "dx=200 #deltax\n",
        "Distance=np.arange(0,L+1,dx) #Crear un vector de las distancias\n",
        "P01=np.ones_like(Distance)\n",
        "print (P01)"
      ],
      "metadata": {
        "colab": {
          "base_uri": "https://localhost:8080/"
        },
        "id": "Vlb6B-UhCOD3",
        "outputId": "fc116774-8bfc-4556-d57e-5e08c950962c"
      },
      "execution_count": null,
      "outputs": [
        {
          "output_type": "stream",
          "name": "stdout",
          "text": [
            "[1 1 1 1 1 1]\n"
          ]
        }
      ]
    },
    {
      "cell_type": "code",
      "source": [
        "PYac=4000\n",
        "PFrontd=0 #Frontera Derecha\n",
        "PFronti=0 #Frontera Izquierda\n",
        "Tiempo=550000\n",
        "DT=10000\n",
        "Pdt=np.zeros_like(Distance)"
      ],
      "metadata": {
        "id": "l0WauqU5CmVG"
      },
      "execution_count": null,
      "outputs": []
    },
    {
      "cell_type": "code",
      "source": [
        "P01=np.ones_like(Distance)\n",
        "P01=P01*PYac\n",
        "P01[0]=PFronti\n",
        "P01[len(P01)-1]=PFrontd\n",
        "P0in=P01 #Condicion inicial\n",
        "Pdt=P01 #Vector de resultados DT\n",
        "t=DT #Primera interaccion"
      ],
      "metadata": {
        "id": "8qerjizcCn2E"
      },
      "execution_count": null,
      "outputs": []
    },
    {
      "cell_type": "code",
      "source": [
        "print (P01)"
      ],
      "metadata": {
        "colab": {
          "base_uri": "https://localhost:8080/"
        },
        "id": "5yUwfl6JCtZd",
        "outputId": "ef15fa3b-3660-4537-8d0d-ef4aaf9765ec"
      },
      "execution_count": null,
      "outputs": [
        {
          "output_type": "stream",
          "name": "stdout",
          "text": [
            "[   0 4000 4000 4000 4000    0]\n"
          ]
        }
      ]
    },
    {
      "cell_type": "code",
      "source": [
        "def Presdt(P1,P2,P3,deltat,deltax):\n",
        "  return(((P1-2*P2+P3)/(deltax*deltax))*deltat)+P2"
      ],
      "metadata": {
        "id": "LjmQKEj4Cxbl"
      },
      "execution_count": null,
      "outputs": []
    },
    {
      "cell_type": "code",
      "source": [
        "while t<Tiempo:\n",
        "    for i in range(0,len(P0in)-1):\n",
        "      if i==0:\n",
        "        Pdt[i]=P0in[0]\n",
        "      elif i==len(P0in)-1:\n",
        "        Pdt[i]=P0in[len(P0in)-1]\n",
        "      else:\n",
        "        Pdt[i]=Presdt(P0in[i-1],P0in[i],P0in[i+1],DT,dx)\n",
        "    t=t+DT\n",
        "    P0in=Pdt\n",
        "    P01=np.append(P01,Pdt)"
      ],
      "metadata": {
        "id": "W98u4hh-CyrF"
      },
      "execution_count": null,
      "outputs": []
    },
    {
      "cell_type": "code",
      "source": [
        "print (P01)"
      ],
      "metadata": {
        "colab": {
          "base_uri": "https://localhost:8080/"
        },
        "id": "4cipBlwpC3gO",
        "outputId": "1bbf1236-b950-40c7-8b7f-4e90a38c064a"
      },
      "execution_count": null,
      "outputs": [
        {
          "output_type": "stream",
          "name": "stdout",
          "text": [
            "[   0 3000 3750 3937 2984    0    0 3000 3750 3937 2984    0    0 2437\n",
            " 3468 3581 2387    0    0 2085 3150 3174 1987    0    0 1830 2826 2790\n",
            " 1691    0    0 1621 2515 2446 1457    0    0 1439 2228 2144 1264    0\n",
            "    0 1276 1969 1880 1102    0    0 1130 1737 1649  963    0    0  999\n",
            " 1530 1447  843    0    0  882 1347 1271  739    0    0  777 1185 1116\n",
            "  648    0    0  684 1042  980  569    0    0  602  916  861  499    0\n",
            "    0  530  805  756  438    0    0  466  708  664  385    0    0  410\n",
            "  622  583  338    0    0  360  546  512  297    0    0  316  480  450\n",
            "  261    0    0  278  422  395  229    0    0  244  370  347  201    0\n",
            "    0  214  325  305  176    0    0  188  285  267  154    0    0  165\n",
            "  250  234  135    0    0  145  219  205  118    0    0  127  192  180\n",
            "  104    0    0  111  168  158   91    0    0   97  147  138   80    0\n",
            "    0   85  129  121   70    0    0   74  113  106   61    0    0   65\n",
            "   99   93   53    0    0   57   87   81   46    0    0   50   76   71\n",
            "   40    0    0   44   66   62   35    0    0   38   58   54   31    0\n",
            "    0   33   50   47   27    0    0   29   44   41   23    0    0   25\n",
            "   38   35   20    0    0   22   33   30   17    0    0   19   28   26\n",
            "   15    0    0   16   24   22   13    0    0   14   21   19   11    0\n",
            "    0   12   18   16    9    0    0   10   15   14    8    0    0    8\n",
            "   13   12    7    0    0    7   11   10    6    0    0    6    9    8\n",
            "    5    0    0    5    7    7    4    0    0    4    6    6    3    0\n",
            "    0    3    5    5    2    0    0    2    4    4    2    0    0    2\n",
            "    3    3    1    0    0    1    2    2    1    0    0    1    1    1\n",
            "    0    0    0    0    0    0    0    0]\n"
          ]
        }
      ]
    },
    {
      "cell_type": "markdown",
      "source": [
        "**EVALUACIÓN DE LA ECUACIÓN DE LA DIFUSIVIDAD EN FUNCIÓN \n",
        "DE LA PRESIÓN CON 10 CELDAS Y UN DT=5050 DÍAS**"
      ],
      "metadata": {
        "id": "iY1DtoJxoHl2"
      }
    },
    {
      "cell_type": "code",
      "source": [
        "import numpy as np\n",
        "L=1000 #distancia total\n",
        "dx=100 #deltax\n",
        "Distance=np.arange(0,L+1,dx) #Crear un vector de las distancias\n",
        "P01=np.ones_like(Distance)\n",
        "print (P01)"
      ],
      "metadata": {
        "colab": {
          "base_uri": "https://localhost:8080/"
        },
        "id": "43zm96fibepw",
        "outputId": "6837d269-ccf2-4d39-abf8-295277009126"
      },
      "execution_count": null,
      "outputs": [
        {
          "output_type": "stream",
          "name": "stdout",
          "text": [
            "[1 1 1 1 1 1 1 1 1 1 1]\n"
          ]
        }
      ]
    },
    {
      "cell_type": "code",
      "source": [
        "PYac=4000\n",
        "PFrontd=0 #Frontera Derecha\n",
        "PFronti=0 #Frontera Izquierda\n",
        "Tiempo=288000\n",
        "DT=5050\n",
        "Pdt=np.zeros_like(Distance)"
      ],
      "metadata": {
        "id": "tqDvs2hRbZoU"
      },
      "execution_count": null,
      "outputs": []
    },
    {
      "cell_type": "code",
      "source": [
        "P01=np.ones_like(Distance)\n",
        "P01=P01*PYac\n",
        "P01[0]=PFronti\n",
        "P01[len(P01)-1]=PFrontd\n",
        "P0in=P01 #Condicion inicial\n",
        "Pdt=P01 #Vector de resultados DT\n",
        "t=DT #Primera interaccion"
      ],
      "metadata": {
        "id": "Q9Rjh6-lbjAR"
      },
      "execution_count": null,
      "outputs": []
    },
    {
      "cell_type": "code",
      "source": [
        "print (P01)"
      ],
      "metadata": {
        "colab": {
          "base_uri": "https://localhost:8080/"
        },
        "id": "j-Ca334gbl_w",
        "outputId": "64b937b4-cad1-4e23-bc03-13bbc8ee1e9a"
      },
      "execution_count": null,
      "outputs": [
        {
          "output_type": "stream",
          "name": "stdout",
          "text": [
            "[   0 4000 4000 4000 4000 4000 4000 4000 4000 4000    0]\n"
          ]
        }
      ]
    },
    {
      "cell_type": "code",
      "source": [
        "def Presdt(P1,P2,P3,deltat,deltax):\n",
        "  return(((P1-2*P2+P3)/(deltax*deltax))*deltat)+P2"
      ],
      "metadata": {
        "id": "LSL0KIBmboPp"
      },
      "execution_count": null,
      "outputs": []
    },
    {
      "cell_type": "code",
      "source": [
        "while t<Tiempo:\n",
        "    for i in range(0,len(P0in)-1):\n",
        "      if i==0:\n",
        "        Pdt[i]=P0in[0]\n",
        "      elif i==len(P0in)-1:\n",
        "        Pdt[i]=P0in[len(P0in)-1]\n",
        "      else:\n",
        "        Pdt[i]=Presdt(P0in[i-1],P0in[i],P0in[i+1],DT,dx)\n",
        "    t=t+DT\n",
        "    P0in=Pdt\n",
        "    P01=np.append(P01,Pdt)"
      ],
      "metadata": {
        "id": "bh3wpjWobqpC"
      },
      "execution_count": null,
      "outputs": []
    },
    {
      "cell_type": "code",
      "source": [
        "print (P01)"
      ],
      "metadata": {
        "colab": {
          "base_uri": "https://localhost:8080/"
        },
        "id": "D_v6AyxibswZ",
        "outputId": "639003d6-6f68-4d83-9585-1f7ba4d674b7"
      },
      "execution_count": null,
      "outputs": [
        {
          "output_type": "stream",
          "name": "stdout",
          "text": [
            "[   0 1980 2979 3484 3739 3868 3933 3966 3982 1970    0    0 1980 2979\n",
            " 3484 3739 3868 3933 3966 3982 1970    0    0 1484 2479 3105 3483 3706\n",
            " 3835 3907 2928 1458    0    0 1237 2167 2822 3261 3546 3725 3320 2383\n",
            " 1188    0    0 1081 1949 2602 3072 3397 3354 2863 2021 1008    0    0\n",
            "  973 1785 2426 2909 3128 2991 2502 1752  874    0    0  891 1657 2281\n",
            " 2702 2843 2669 2207 1538  767    0    0  827 1552 2125 2481 2572 2386\n",
            " 1959 1361  679    0    0  775 1448 1962 2264 2322 2138 1747 1211  604\n",
            "    0    0  723 1341 1800 2058 2095 1918 1562 1081  539    0    0  669\n",
            " 1233 1643 1867 1890 1724 1400  968  483    0    0  615 1127 1495 1690\n",
            " 1705 1550 1257  869  434    0    0  562 1027 1357 1529 1537 1395 1130\n",
            "  781  390    0    0  513  934 1230 1382 1387 1257 1017  702  350    0\n",
            "    0  466  847 1113 1248 1251 1132  916  632  315    0    0  423  767\n",
            " 1006 1127 1128 1020  825  569  284    0    0  383  693  909 1017 1017\n",
            "  920  743  512  255    0    0  346  626  820  917  917  829  669  461\n",
            "  230    0    0  312  565  740  827  827  747  603  416  207    0    0\n",
            "  282  510  667  746  745  673  543  374  186    0    0  254  460  602\n",
            "  672  671  606  489  337  168    0    0  229  415  542  605  604  545\n",
            "  440  303  151    0    0  207  374  488  545  544  491  396  273  136\n",
            "    0    0  186  336  440  491  490  442  357  246  122    0    0  167\n",
            "  303  396  442  441  398  321  221  110    0    0  151  273  357  398\n",
            "  397  358  289  199   99    0    0  136  246  321  358  357  322  260\n",
            "  179   89    0    0  122  221  289  322  321  290  234  161   80    0\n",
            "    0  110  199  260  290  289  261  210  144   71    0    0   99  179\n",
            "  234  261  260  234  188  129   64    0    0   89  161  210  234  233\n",
            "  210  169  116   57    0    0   80  144  188  210  209  188  151  103\n",
            "   51    0    0   71  129  169  188  187  168  135   92   45    0    0\n",
            "   64  116  151  168  167  150  120   82   40    0    0   57  103  135\n",
            "  150  149  134  107   73   36    0    0   51   92  120  134  133  119\n",
            "   95   65   32    0    0   45   82  107  119  118  106   85   58   28\n",
            "    0    0   40   73   95  106  105   94   75   51   25    0    0   36\n",
            "   65   85   94   93   83   66   45   22    0    0   32   58   75   83\n",
            "   82   73   58   39   19    0    0   28   51   66   73   72   64   51\n",
            "   34   16    0    0   25   45   58   64   63   56   44   29   14    0\n",
            "    0   22   39   51   56   55   49   38   25   12    0    0   19   34\n",
            "   44   49   48   42   33   22   10    0    0   16   29   38   42   41\n",
            "   36   28   18    8    0    0   14   25   33   36   35   31   24   15\n",
            "    7    0    0   12   22   28   31   30   26   20   13    6    0    0\n",
            "   10   18   24   26   25   22   17   11    5    0    0    8   15   20\n",
            "   22   21   18   14    9    4    0    0    7   13   17   18   17   15\n",
            "   11    7    3    0    0    6   11   14   15   14   12    9    5    2\n",
            "    0    0    5    9   11   12   11    9    6    3    1    0    0    4\n",
            "    7    9    9    8    6    4    2    1    0    0    3    5    6    6\n",
            "    5    4    2    1    0    0    0    2    3    4    4    3    2    1\n",
            "    0    0    0    0    1    2    2    2    1    0    0    0    0    0\n",
            "    0    1    1    1    0    0    0    0    0    0    0    0    0    0\n",
            "    0    0    0    0    0    0    0    0]\n"
          ]
        }
      ]
    },
    {
      "cell_type": "markdown",
      "source": [
        "**GRÁFICA DE EVOLUCIÓN DE LA PRESIÓN CON RESPECTO AL TIEMPO EN LA FRONTERA DEL YACIMIENTO CON UN DX=100 FT Y DT=5500 DÍAS**"
      ],
      "metadata": {
        "id": "zWX8PUzqQFh4"
      }
    },
    {
      "cell_type": "code",
      "source": [
        "import matplotlib.pyplot as plt"
      ],
      "metadata": {
        "id": "d3y9NwhqQE-A"
      },
      "execution_count": 1,
      "outputs": []
    },
    {
      "cell_type": "code",
      "source": [
        "# Datos de presión y tiempo\n",
        "tiempo = [5050, 10100, 15150, 20200, 25250, 30300, 35350, 40400, 45450, 50500, 55550, 60600, 65650, 70700, 75750, 80800, 85850, 90900, 95950, 101000, 106050, 111100, 116150, 121200, 126250, 131300, 136350, 141400, 146450, 151500, 156550, 161600, 166650, 171700, 176750, 181800, 186850, 191900, 196950, 202000, 207050, 212100, 217150, 222200, 227250, 232300, 237350, 242400, 247450, 252500, 257550, 262600, 267650, 272700, 277750, 282800, 287850, 292900]  # Valores de tiempo\n",
        "presion = [4000, 1980, 1980, 1484, 1237, 1081, 973, 891, 827, 775, 723, 669, 615, 562, 513, 466, 423, 383, 346, 312, 282, 254, 229, 207, 186, 167, 151, 136, 122, 110, 99, 89, 80, 71, 64, 57, 51, 45, 40, 36, 32, 28, 25, 22, 19, 16, 14, 12, 10, 8, 7, 6, 5, 4, 3, 2, 1, 0]  # Valores de presión\n",
        "\n",
        "# Crear la gráfica\n",
        "plt.plot(tiempo, presion, marker='o')\n",
        "\n",
        "\n",
        "# Configurar los ejes y el título\n",
        "plt.xlabel('Tiempo')\n",
        "plt.ylabel('Presión')\n",
        "plt.title('Gráfica de Presión vs Tiempo')\n",
        "\n",
        "# Mostrar la gráfica\n",
        "plt.show()"
      ],
      "metadata": {
        "id": "Yz6Ge4rRQef4",
        "outputId": "ea1485a3-0c34-4540-fb98-918291685a74",
        "colab": {
          "base_uri": "https://localhost:8080/",
          "height": 472
        }
      },
      "execution_count": 2,
      "outputs": [
        {
          "output_type": "display_data",
          "data": {
            "text/plain": [
              "<Figure size 640x480 with 1 Axes>"
            ],
            "image/png": "[encoded data removed]"
          },
          "metadata": {}
        }
      ]
    },
    {
      "cell_type": "markdown",
      "source": [
        "E"
      ],
      "metadata": {
        "id": "yorUg9_Uwh2q"
      }
    }
  ]
}